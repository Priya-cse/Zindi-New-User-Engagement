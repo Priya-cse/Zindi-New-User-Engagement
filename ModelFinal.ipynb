{
 "cells": [
  {
   "cell_type": "code",
   "execution_count": 1,
   "id": "bf24573c",
   "metadata": {},
   "outputs": [],
   "source": [
    "import pandas as pd\n",
    "import numpy as np\n",
    "import matplotlib.pyplot as plt\n",
    "import seaborn as sns\n",
    "import operator as op\n",
    "import warnings\n",
    "warnings.filterwarnings(action = 'ignore')\n",
    "from IPython.display import display\n",
    "seed = 21"
   ]
  },
  {
   "cell_type": "code",
   "execution_count": 2,
   "id": "3956ff35",
   "metadata": {},
   "outputs": [],
   "source": [
    "UserActivity = pd.read_csv(\"UserActivity.csv\")\n",
    "Users = pd.read_csv(\"Users.csv\")\n",
    "SampleSubmission = pd.read_csv(\"SampleSubmission.csv\")"
   ]
  },
  {
   "cell_type": "code",
   "execution_count": 3,
   "id": "eeb5e83c",
   "metadata": {},
   "outputs": [],
   "source": [
    "#Remove all \"$\" and add \"_\" in between spaces to the activities\n",
    "def remove_id(x):\n",
    "    x = x.replace('$', '')\n",
    "    if 'ID' in x:\n",
    "        return \"_\".join(x.split('_')[:-1])\n",
    "    \n",
    "    return x.replace(' ', '_')"
   ]
  },
  {
   "cell_type": "code",
   "execution_count": 4,
   "id": "40dc2c8f",
   "metadata": {},
   "outputs": [
    {
     "data": {
      "text/plain": [
       "Viewed_All_Competitions                 58176\n",
       "comp_ID                                 55540\n",
       "Viewed_All_Discussions                  47172\n",
       "Viewed_All_Learning_Pages               22930\n",
       "Downloaded_Competition_Datafile         19578\n",
       "Updated_Profile                         14748\n",
       "Created_Submission                      13649\n",
       "identify                                12339\n",
       "Signed_Up                               10862\n",
       "create_alias                             9346\n",
       "badge_OCZE                               8864\n",
       "Confirmed_Email                          8818\n",
       "Updated_Discussion                       6498\n",
       "Joined_Competition                       6086\n",
       "Viewed_All_Jobs                          4139\n",
       "Signed_In                                4100\n",
       "Updated_Submission                       2929\n",
       "blog_ID                                  2712\n",
       "badge_HYIO                               1760\n",
       "Signed_Out                               1660\n",
       "job_ID                                   1492\n",
       "Viewed_Discussion                        1207\n",
       "Updated_Comment                           656\n",
       "badge_MLPD                                457\n",
       "Joined_Team                               384\n",
       "Invited_Member_To_Team                    344\n",
       "Created_Team                              310\n",
       "Votes_(Up/Down)                           149\n",
       "Applied_To_Job                            126\n",
       "Viewed_FAQ                                104\n",
       "Updated_Team                               42\n",
       "badge_PLDS                                 40\n",
       "Deleted_Team                               28\n",
       "Transferred_Team_Leadership                14\n",
       "Updated_Discussion_Team_Participants       10\n",
       "Accepted_Team_Leadership_Transfer           9\n",
       "Changed_Password                            5\n",
       "Left_Team                                   4\n",
       "Kicked_Member_From_Team                     3\n",
       "Revoked_Team_Leadership_Transfer            1\n",
       "Report_Something                            1\n",
       "Name: Title, dtype: int64"
      ]
     },
     "execution_count": 4,
     "metadata": {},
     "output_type": "execute_result"
    }
   ],
   "source": [
    "UserActivity.Title.apply(remove_id).value_counts()"
   ]
  },
  {
   "cell_type": "code",
   "execution_count": 5,
   "id": "66096737",
   "metadata": {},
   "outputs": [
    {
     "data": {
      "text/plain": [
       "array(['comp_ID', 'job_ID', 'blog_ID', 'create_alias', 'identify',\n",
       "       'Signed_Up', 'Viewed_All_Competitions', 'Viewed_All_Discussions',\n",
       "       'Viewed_All_Learning_Pages', 'Confirmed_Email',\n",
       "       'Joined_Competition', 'Downloaded_Competition_Datafile',\n",
       "       'Signed_In', 'Updated_Discussion', 'Joined_Team',\n",
       "       'Created_Submission', 'Viewed_Discussion', 'Updated_Submission',\n",
       "       'Signed_Out', 'badge_OCZE', 'Updated_Profile', 'Viewed_FAQ',\n",
       "       'Viewed_All_Jobs', 'Created_Team', 'Invited_Member_To_Team',\n",
       "       'Updated_Team', 'Updated_Comment',\n",
       "       'Updated_Discussion_Team_Participants', 'badge_HYIO', 'badge_MLPD',\n",
       "       'Applied_To_Job', 'Votes_(Up/Down)', 'Transferred_Team_Leadership',\n",
       "       'badge_PLDS', 'Changed_Password', 'Deleted_Team',\n",
       "       'Accepted_Team_Leadership_Transfer',\n",
       "       'Revoked_Team_Leadership_Transfer', 'Report_Something',\n",
       "       'Kicked_Member_From_Team', 'Left_Team'], dtype=object)"
      ]
     },
     "execution_count": 5,
     "metadata": {},
     "output_type": "execute_result"
    }
   ],
   "source": [
    "#Add new column as the type of activity performed\n",
    "UserActivity['main_activities'] = UserActivity.Title.apply(remove_id)\n",
    "UserActivity.main_activities.unique()"
   ]
  },
  {
   "cell_type": "code",
   "execution_count": 6,
   "id": "4bc3b5b0",
   "metadata": {},
   "outputs": [
    {
     "data": {
      "text/plain": [
       "Index(['Viewed_All_Competitions', 'comp_ID', 'Viewed_All_Discussions',\n",
       "       'Viewed_All_Learning_Pages', 'Downloaded_Competition_Datafile',\n",
       "       'Updated_Profile', 'Created_Submission', 'identify', 'Signed_Up',\n",
       "       'create_alias', 'badge_OCZE', 'Confirmed_Email', 'Updated_Discussion',\n",
       "       'Joined_Competition', 'Viewed_All_Jobs', 'Signed_In',\n",
       "       'Updated_Submission', 'blog_ID', 'badge_HYIO', 'Signed_Out', 'job_ID',\n",
       "       'Viewed_Discussion'],\n",
       "      dtype='object')"
      ]
     },
     "execution_count": 6,
     "metadata": {},
     "output_type": "execute_result"
    }
   ],
   "source": [
    "act_vc = UserActivity.main_activities.value_counts()\n",
    "#Ignore activities with <= 1000 count\n",
    "selected_activities = act_vc[act_vc > 1000].keys()\n",
    "selected_activities"
   ]
  },
  {
   "cell_type": "code",
   "execution_count": 7,
   "id": "760acb03",
   "metadata": {},
   "outputs": [
    {
     "data": {
      "text/html": [
       "<div>\n",
       "<style scoped>\n",
       "    .dataframe tbody tr th:only-of-type {\n",
       "        vertical-align: middle;\n",
       "    }\n",
       "\n",
       "    .dataframe tbody tr th {\n",
       "        vertical-align: top;\n",
       "    }\n",
       "\n",
       "    .dataframe thead th {\n",
       "        text-align: right;\n",
       "    }\n",
       "</style>\n",
       "<table border=\"1\" class=\"dataframe\">\n",
       "  <thead>\n",
       "    <tr style=\"text-align: right;\">\n",
       "      <th></th>\n",
       "      <th>User_ID</th>\n",
       "      <th>Title</th>\n",
       "      <th>datetime time</th>\n",
       "      <th>datetime Year</th>\n",
       "      <th>datetime Month</th>\n",
       "      <th>datetime Day_of_month</th>\n",
       "      <th>main_activities</th>\n",
       "    </tr>\n",
       "  </thead>\n",
       "  <tbody>\n",
       "    <tr>\n",
       "      <th>0</th>\n",
       "      <td>ID_RT43AK77</td>\n",
       "      <td>comp_ID_IV5D</td>\n",
       "      <td>22:00:38</td>\n",
       "      <td>1</td>\n",
       "      <td>11</td>\n",
       "      <td>22</td>\n",
       "      <td>comp_ID</td>\n",
       "    </tr>\n",
       "    <tr>\n",
       "      <th>1</th>\n",
       "      <td>ID_RT43AK77</td>\n",
       "      <td>comp_ID_IV5D</td>\n",
       "      <td>00:41:02</td>\n",
       "      <td>1</td>\n",
       "      <td>11</td>\n",
       "      <td>23</td>\n",
       "      <td>comp_ID</td>\n",
       "    </tr>\n",
       "    <tr>\n",
       "      <th>2</th>\n",
       "      <td>ID_RT43AK77</td>\n",
       "      <td>comp_ID_IV5D</td>\n",
       "      <td>00:53:15</td>\n",
       "      <td>1</td>\n",
       "      <td>11</td>\n",
       "      <td>23</td>\n",
       "      <td>comp_ID</td>\n",
       "    </tr>\n",
       "    <tr>\n",
       "      <th>3</th>\n",
       "      <td>ID_RT43AK77</td>\n",
       "      <td>comp_ID_IV5D</td>\n",
       "      <td>01:23:05</td>\n",
       "      <td>1</td>\n",
       "      <td>11</td>\n",
       "      <td>23</td>\n",
       "      <td>comp_ID</td>\n",
       "    </tr>\n",
       "    <tr>\n",
       "      <th>4</th>\n",
       "      <td>ID_RT43AK77</td>\n",
       "      <td>comp_ID_IV5D</td>\n",
       "      <td>01:27:38</td>\n",
       "      <td>1</td>\n",
       "      <td>11</td>\n",
       "      <td>23</td>\n",
       "      <td>comp_ID</td>\n",
       "    </tr>\n",
       "    <tr>\n",
       "      <th>...</th>\n",
       "      <td>...</td>\n",
       "      <td>...</td>\n",
       "      <td>...</td>\n",
       "      <td>...</td>\n",
       "      <td>...</td>\n",
       "      <td>...</td>\n",
       "      <td>...</td>\n",
       "    </tr>\n",
       "    <tr>\n",
       "      <th>314600</th>\n",
       "      <td>ID_Z759BCS3</td>\n",
       "      <td>job_ID_5ONI</td>\n",
       "      <td>07:14:47</td>\n",
       "      <td>1</td>\n",
       "      <td>11</td>\n",
       "      <td>14</td>\n",
       "      <td>job_ID</td>\n",
       "    </tr>\n",
       "    <tr>\n",
       "      <th>314601</th>\n",
       "      <td>ID_WNJMADF8</td>\n",
       "      <td>job_ID_5ONI</td>\n",
       "      <td>06:24:46</td>\n",
       "      <td>1</td>\n",
       "      <td>11</td>\n",
       "      <td>14</td>\n",
       "      <td>job_ID</td>\n",
       "    </tr>\n",
       "    <tr>\n",
       "      <th>314602</th>\n",
       "      <td>ID_7NBY9MV2</td>\n",
       "      <td>job_ID_5ONI</td>\n",
       "      <td>11:56:35</td>\n",
       "      <td>1</td>\n",
       "      <td>11</td>\n",
       "      <td>20</td>\n",
       "      <td>job_ID</td>\n",
       "    </tr>\n",
       "    <tr>\n",
       "      <th>314603</th>\n",
       "      <td>ID_LHPJJSOK</td>\n",
       "      <td>job_ID_5ONI</td>\n",
       "      <td>01:27:13</td>\n",
       "      <td>1</td>\n",
       "      <td>11</td>\n",
       "      <td>14</td>\n",
       "      <td>job_ID</td>\n",
       "    </tr>\n",
       "    <tr>\n",
       "      <th>314604</th>\n",
       "      <td>ID_LCFNGARD</td>\n",
       "      <td>job_ID_5ONI</td>\n",
       "      <td>08:40:29</td>\n",
       "      <td>1</td>\n",
       "      <td>11</td>\n",
       "      <td>17</td>\n",
       "      <td>job_ID</td>\n",
       "    </tr>\n",
       "  </tbody>\n",
       "</table>\n",
       "<p>314605 rows × 7 columns</p>\n",
       "</div>"
      ],
      "text/plain": [
       "            User_ID         Title datetime time  datetime Year  \\\n",
       "0       ID_RT43AK77  comp_ID_IV5D      22:00:38              1   \n",
       "1       ID_RT43AK77  comp_ID_IV5D      00:41:02              1   \n",
       "2       ID_RT43AK77  comp_ID_IV5D      00:53:15              1   \n",
       "3       ID_RT43AK77  comp_ID_IV5D      01:23:05              1   \n",
       "4       ID_RT43AK77  comp_ID_IV5D      01:27:38              1   \n",
       "...             ...           ...           ...            ...   \n",
       "314600  ID_Z759BCS3   job_ID_5ONI      07:14:47              1   \n",
       "314601  ID_WNJMADF8   job_ID_5ONI      06:24:46              1   \n",
       "314602  ID_7NBY9MV2   job_ID_5ONI      11:56:35              1   \n",
       "314603  ID_LHPJJSOK   job_ID_5ONI      01:27:13              1   \n",
       "314604  ID_LCFNGARD   job_ID_5ONI      08:40:29              1   \n",
       "\n",
       "        datetime Month  datetime Day_of_month main_activities  \n",
       "0                   11                     22         comp_ID  \n",
       "1                   11                     23         comp_ID  \n",
       "2                   11                     23         comp_ID  \n",
       "3                   11                     23         comp_ID  \n",
       "4                   11                     23         comp_ID  \n",
       "...                ...                    ...             ...  \n",
       "314600              11                     14          job_ID  \n",
       "314601              11                     14          job_ID  \n",
       "314602              11                     20          job_ID  \n",
       "314603              11                     14          job_ID  \n",
       "314604              11                     17          job_ID  \n",
       "\n",
       "[314605 rows x 7 columns]"
      ]
     },
     "execution_count": 7,
     "metadata": {},
     "output_type": "execute_result"
    }
   ],
   "source": [
    "#Drop rows with activities not in the \"selected_activities\" list\n",
    "UserActivity = UserActivity[UserActivity.main_activities.isin(selected_activities)].reset_index(drop=True)\n",
    "UserActivity"
   ]
  },
  {
   "cell_type": "code",
   "execution_count": 8,
   "id": "82e94734",
   "metadata": {},
   "outputs": [],
   "source": [
    "#Group by User_ID, Activity Type and Month of activity\n",
    "dataset = UserActivity.groupby(['User_ID', 'main_activities', 'datetime Month']).size().reset_index().\\\n",
    "    rename(columns={0: 'count'}).\\\n",
    "        sort_values(['User_ID', 'datetime Month', 'count'], ascending=False)"
   ]
  },
  {
   "cell_type": "code",
   "execution_count": 9,
   "id": "a5ce186d",
   "metadata": {},
   "outputs": [
    {
     "data": {
      "text/html": [
       "<div>\n",
       "<style scoped>\n",
       "    .dataframe tbody tr th:only-of-type {\n",
       "        vertical-align: middle;\n",
       "    }\n",
       "\n",
       "    .dataframe tbody tr th {\n",
       "        vertical-align: top;\n",
       "    }\n",
       "\n",
       "    .dataframe thead th {\n",
       "        text-align: right;\n",
       "    }\n",
       "</style>\n",
       "<table border=\"1\" class=\"dataframe\">\n",
       "  <thead>\n",
       "    <tr style=\"text-align: right;\">\n",
       "      <th></th>\n",
       "      <th>User_ID</th>\n",
       "      <th>main_activities</th>\n",
       "      <th>datetime Month</th>\n",
       "      <th>count</th>\n",
       "    </tr>\n",
       "  </thead>\n",
       "  <tbody>\n",
       "    <tr>\n",
       "      <th>111314</th>\n",
       "      <td>ID_ZZVUJ45W</td>\n",
       "      <td>Downloaded_Competition_Datafile</td>\n",
       "      <td>3</td>\n",
       "      <td>3</td>\n",
       "    </tr>\n",
       "    <tr>\n",
       "      <th>111318</th>\n",
       "      <td>ID_ZZVUJ45W</td>\n",
       "      <td>Viewed_All_Discussions</td>\n",
       "      <td>3</td>\n",
       "      <td>2</td>\n",
       "    </tr>\n",
       "    <tr>\n",
       "      <th>111313</th>\n",
       "      <td>ID_ZZVUJ45W</td>\n",
       "      <td>Confirmed_Email</td>\n",
       "      <td>3</td>\n",
       "      <td>1</td>\n",
       "    </tr>\n",
       "    <tr>\n",
       "      <th>111315</th>\n",
       "      <td>ID_ZZVUJ45W</td>\n",
       "      <td>Joined_Competition</td>\n",
       "      <td>3</td>\n",
       "      <td>1</td>\n",
       "    </tr>\n",
       "    <tr>\n",
       "      <th>111316</th>\n",
       "      <td>ID_ZZVUJ45W</td>\n",
       "      <td>Signed_Up</td>\n",
       "      <td>3</td>\n",
       "      <td>1</td>\n",
       "    </tr>\n",
       "    <tr>\n",
       "      <th>...</th>\n",
       "      <td>...</td>\n",
       "      <td>...</td>\n",
       "      <td>...</td>\n",
       "      <td>...</td>\n",
       "    </tr>\n",
       "    <tr>\n",
       "      <th>1</th>\n",
       "      <td>ID_000H9XOP</td>\n",
       "      <td>Viewed_All_Competitions</td>\n",
       "      <td>5</td>\n",
       "      <td>1</td>\n",
       "    </tr>\n",
       "    <tr>\n",
       "      <th>2</th>\n",
       "      <td>ID_000H9XOP</td>\n",
       "      <td>Viewed_All_Discussions</td>\n",
       "      <td>5</td>\n",
       "      <td>1</td>\n",
       "    </tr>\n",
       "    <tr>\n",
       "      <th>3</th>\n",
       "      <td>ID_000H9XOP</td>\n",
       "      <td>comp_ID</td>\n",
       "      <td>5</td>\n",
       "      <td>1</td>\n",
       "    </tr>\n",
       "    <tr>\n",
       "      <th>4</th>\n",
       "      <td>ID_000H9XOP</td>\n",
       "      <td>create_alias</td>\n",
       "      <td>5</td>\n",
       "      <td>1</td>\n",
       "    </tr>\n",
       "    <tr>\n",
       "      <th>5</th>\n",
       "      <td>ID_000H9XOP</td>\n",
       "      <td>identify</td>\n",
       "      <td>5</td>\n",
       "      <td>1</td>\n",
       "    </tr>\n",
       "  </tbody>\n",
       "</table>\n",
       "<p>111323 rows × 4 columns</p>\n",
       "</div>"
      ],
      "text/plain": [
       "            User_ID                  main_activities  datetime Month  count\n",
       "111314  ID_ZZVUJ45W  Downloaded_Competition_Datafile               3      3\n",
       "111318  ID_ZZVUJ45W           Viewed_All_Discussions               3      2\n",
       "111313  ID_ZZVUJ45W                  Confirmed_Email               3      1\n",
       "111315  ID_ZZVUJ45W               Joined_Competition               3      1\n",
       "111316  ID_ZZVUJ45W                        Signed_Up               3      1\n",
       "...             ...                              ...             ...    ...\n",
       "1       ID_000H9XOP          Viewed_All_Competitions               5      1\n",
       "2       ID_000H9XOP           Viewed_All_Discussions               5      1\n",
       "3       ID_000H9XOP                          comp_ID               5      1\n",
       "4       ID_000H9XOP                     create_alias               5      1\n",
       "5       ID_000H9XOP                         identify               5      1\n",
       "\n",
       "[111323 rows x 4 columns]"
      ]
     },
     "execution_count": 9,
     "metadata": {},
     "output_type": "execute_result"
    }
   ],
   "source": [
    "dataset"
   ]
  },
  {
   "cell_type": "code",
   "execution_count": 10,
   "id": "51c4e5ca",
   "metadata": {},
   "outputs": [],
   "source": [
    "#For graph\n",
    "temp1 = dataset.groupby(\"datetime Month\").sum()"
   ]
  },
  {
   "cell_type": "code",
   "execution_count": 11,
   "id": "2bdb0134",
   "metadata": {},
   "outputs": [
    {
     "data": {
      "text/html": [
       "<div>\n",
       "<style scoped>\n",
       "    .dataframe tbody tr th:only-of-type {\n",
       "        vertical-align: middle;\n",
       "    }\n",
       "\n",
       "    .dataframe tbody tr th {\n",
       "        vertical-align: top;\n",
       "    }\n",
       "\n",
       "    .dataframe thead th {\n",
       "        text-align: right;\n",
       "    }\n",
       "</style>\n",
       "<table border=\"1\" class=\"dataframe\">\n",
       "  <thead>\n",
       "    <tr style=\"text-align: right;\">\n",
       "      <th></th>\n",
       "      <th>count</th>\n",
       "    </tr>\n",
       "    <tr>\n",
       "      <th>datetime Month</th>\n",
       "      <th></th>\n",
       "    </tr>\n",
       "  </thead>\n",
       "  <tbody>\n",
       "    <tr>\n",
       "      <th>1</th>\n",
       "      <td>58044</td>\n",
       "    </tr>\n",
       "    <tr>\n",
       "      <th>2</th>\n",
       "      <td>60542</td>\n",
       "    </tr>\n",
       "    <tr>\n",
       "      <th>3</th>\n",
       "      <td>55578</td>\n",
       "    </tr>\n",
       "    <tr>\n",
       "      <th>4</th>\n",
       "      <td>26615</td>\n",
       "    </tr>\n",
       "    <tr>\n",
       "      <th>5</th>\n",
       "      <td>56662</td>\n",
       "    </tr>\n",
       "    <tr>\n",
       "      <th>11</th>\n",
       "      <td>15179</td>\n",
       "    </tr>\n",
       "    <tr>\n",
       "      <th>12</th>\n",
       "      <td>41985</td>\n",
       "    </tr>\n",
       "  </tbody>\n",
       "</table>\n",
       "</div>"
      ],
      "text/plain": [
       "                count\n",
       "datetime Month       \n",
       "1               58044\n",
       "2               60542\n",
       "3               55578\n",
       "4               26615\n",
       "5               56662\n",
       "11              15179\n",
       "12              41985"
      ]
     },
     "execution_count": 11,
     "metadata": {},
     "output_type": "execute_result"
    }
   ],
   "source": [
    "temp1"
   ]
  },
  {
   "cell_type": "code",
   "execution_count": 12,
   "id": "f184b0eb",
   "metadata": {},
   "outputs": [
    {
     "data": {
      "image/png": "[encoded data removed]",
      "text/plain": [
       "<Figure size 720x360 with 1 Axes>"
      ]
     },
     "metadata": {
      "needs_background": "light"
     },
     "output_type": "display_data"
    }
   ],
   "source": [
    "#Bar graph for Month-wise activity\n",
    "fig = plt.figure(figsize = (10, 5))\n",
    "courses = [\"11\", \"12\", \"1\", \"2\", \"3\", \"4\", \"5\"]\n",
    "values = [15179, 41985, 58044, 60542, 55578, 26615, 56662]\n",
    "plt.bar(courses, values, color ='maroon',\n",
    "        width = 0.4)\n",
    " \n",
    "plt.xlabel(\"Month\")\n",
    "plt.ylabel(\"Activity Count\")\n",
    "plt.title(\"Month-wise Activity\")\n",
    "plt.show()"
   ]
  },
  {
   "cell_type": "code",
   "execution_count": 13,
   "id": "5ecf2dfb",
   "metadata": {},
   "outputs": [
    {
     "data": {
      "text/html": [
       "<div>\n",
       "<style scoped>\n",
       "    .dataframe tbody tr th:only-of-type {\n",
       "        vertical-align: middle;\n",
       "    }\n",
       "\n",
       "    .dataframe tbody tr th {\n",
       "        vertical-align: top;\n",
       "    }\n",
       "\n",
       "    .dataframe thead th {\n",
       "        text-align: right;\n",
       "    }\n",
       "</style>\n",
       "<table border=\"1\" class=\"dataframe\">\n",
       "  <thead>\n",
       "    <tr style=\"text-align: right;\">\n",
       "      <th></th>\n",
       "      <th>User_ID</th>\n",
       "    </tr>\n",
       "  </thead>\n",
       "  <tbody>\n",
       "    <tr>\n",
       "      <th>0</th>\n",
       "      <td>ID_ZZVUJ45W</td>\n",
       "    </tr>\n",
       "    <tr>\n",
       "      <th>1</th>\n",
       "      <td>ID_ZZUNZJ2U</td>\n",
       "    </tr>\n",
       "    <tr>\n",
       "      <th>2</th>\n",
       "      <td>ID_ZZQK0LU6</td>\n",
       "    </tr>\n",
       "    <tr>\n",
       "      <th>3</th>\n",
       "      <td>ID_ZZMHNLNT</td>\n",
       "    </tr>\n",
       "    <tr>\n",
       "      <th>4</th>\n",
       "      <td>ID_ZZJKFBR5</td>\n",
       "    </tr>\n",
       "    <tr>\n",
       "      <th>...</th>\n",
       "      <td>...</td>\n",
       "    </tr>\n",
       "    <tr>\n",
       "      <th>10395</th>\n",
       "      <td>ID_00ETFE7J</td>\n",
       "    </tr>\n",
       "    <tr>\n",
       "      <th>10396</th>\n",
       "      <td>ID_008D2J6C</td>\n",
       "    </tr>\n",
       "    <tr>\n",
       "      <th>10397</th>\n",
       "      <td>ID_004UKSJV</td>\n",
       "    </tr>\n",
       "    <tr>\n",
       "      <th>10398</th>\n",
       "      <td>ID_003YJHQA</td>\n",
       "    </tr>\n",
       "    <tr>\n",
       "      <th>10399</th>\n",
       "      <td>ID_000H9XOP</td>\n",
       "    </tr>\n",
       "  </tbody>\n",
       "</table>\n",
       "<p>10400 rows × 1 columns</p>\n",
       "</div>"
      ],
      "text/plain": [
       "           User_ID\n",
       "0      ID_ZZVUJ45W\n",
       "1      ID_ZZUNZJ2U\n",
       "2      ID_ZZQK0LU6\n",
       "3      ID_ZZMHNLNT\n",
       "4      ID_ZZJKFBR5\n",
       "...            ...\n",
       "10395  ID_00ETFE7J\n",
       "10396  ID_008D2J6C\n",
       "10397  ID_004UKSJV\n",
       "10398  ID_003YJHQA\n",
       "10399  ID_000H9XOP\n",
       "\n",
       "[10400 rows x 1 columns]"
      ]
     },
     "execution_count": 13,
     "metadata": {},
     "output_type": "execute_result"
    }
   ],
   "source": [
    "#All User_IDs\n",
    "Selected_users = dataset[['User_ID']].drop_duplicates().reset_index(drop=True)\n",
    "Selected_users"
   ]
  },
  {
   "cell_type": "code",
   "execution_count": 14,
   "id": "65406a54",
   "metadata": {},
   "outputs": [],
   "source": [
    "from sklearn.preprocessing import LabelEncoder"
   ]
  },
  {
   "cell_type": "code",
   "execution_count": 15,
   "id": "a92a0c67",
   "metadata": {},
   "outputs": [],
   "source": [
    "le = LabelEncoder()"
   ]
  },
  {
   "cell_type": "code",
   "execution_count": 16,
   "id": "820b6d1f",
   "metadata": {},
   "outputs": [],
   "source": [
    "#Label Encode all countries\n",
    "Users.Countries_ID = Users.Countries_ID.fillna('unspecified')\n",
    "Users.Countries_ID = le.fit_transform(Users.Countries_ID)"
   ]
  },
  {
   "cell_type": "code",
   "execution_count": 17,
   "id": "2c9d42c5",
   "metadata": {},
   "outputs": [],
   "source": [
    "#Remove repeated User_IDs\n",
    "user_df = pd.merge(Selected_users, Users, on='User_ID',  how='inner')"
   ]
  },
  {
   "cell_type": "code",
   "execution_count": 18,
   "id": "daad4ae4",
   "metadata": {},
   "outputs": [
    {
     "data": {
      "text/html": [
       "<div>\n",
       "<style scoped>\n",
       "    .dataframe tbody tr th:only-of-type {\n",
       "        vertical-align: middle;\n",
       "    }\n",
       "\n",
       "    .dataframe tbody tr th {\n",
       "        vertical-align: top;\n",
       "    }\n",
       "\n",
       "    .dataframe thead th {\n",
       "        text-align: right;\n",
       "    }\n",
       "</style>\n",
       "<table border=\"1\" class=\"dataframe\">\n",
       "  <thead>\n",
       "    <tr style=\"text-align: right;\">\n",
       "      <th></th>\n",
       "      <th>User_ID</th>\n",
       "      <th>FeatureX</th>\n",
       "      <th>FeatureY</th>\n",
       "      <th>Countries_ID</th>\n",
       "      <th>Created At Month</th>\n",
       "      <th>Created At Day_of_month</th>\n",
       "    </tr>\n",
       "  </thead>\n",
       "  <tbody>\n",
       "    <tr>\n",
       "      <th>0</th>\n",
       "      <td>ID_ZZVUJ45W</td>\n",
       "      <td>0</td>\n",
       "      <td>0</td>\n",
       "      <td>146</td>\n",
       "      <td>3</td>\n",
       "      <td>5</td>\n",
       "    </tr>\n",
       "    <tr>\n",
       "      <th>1</th>\n",
       "      <td>ID_ZZUNZJ2U</td>\n",
       "      <td>0</td>\n",
       "      <td>0</td>\n",
       "      <td>146</td>\n",
       "      <td>2</td>\n",
       "      <td>30</td>\n",
       "    </tr>\n",
       "    <tr>\n",
       "      <th>2</th>\n",
       "      <td>ID_ZZQK0LU6</td>\n",
       "      <td>0</td>\n",
       "      <td>3</td>\n",
       "      <td>146</td>\n",
       "      <td>3</td>\n",
       "      <td>29</td>\n",
       "    </tr>\n",
       "    <tr>\n",
       "      <th>3</th>\n",
       "      <td>ID_ZZMHNLNT</td>\n",
       "      <td>0</td>\n",
       "      <td>0</td>\n",
       "      <td>146</td>\n",
       "      <td>4</td>\n",
       "      <td>1</td>\n",
       "    </tr>\n",
       "    <tr>\n",
       "      <th>4</th>\n",
       "      <td>ID_ZZJKFBR5</td>\n",
       "      <td>0</td>\n",
       "      <td>1</td>\n",
       "      <td>143</td>\n",
       "      <td>12</td>\n",
       "      <td>8</td>\n",
       "    </tr>\n",
       "    <tr>\n",
       "      <th>...</th>\n",
       "      <td>...</td>\n",
       "      <td>...</td>\n",
       "      <td>...</td>\n",
       "      <td>...</td>\n",
       "      <td>...</td>\n",
       "      <td>...</td>\n",
       "    </tr>\n",
       "    <tr>\n",
       "      <th>10395</th>\n",
       "      <td>ID_00ETFE7J</td>\n",
       "      <td>0</td>\n",
       "      <td>0</td>\n",
       "      <td>61</td>\n",
       "      <td>1</td>\n",
       "      <td>6</td>\n",
       "    </tr>\n",
       "    <tr>\n",
       "      <th>10396</th>\n",
       "      <td>ID_008D2J6C</td>\n",
       "      <td>0</td>\n",
       "      <td>0</td>\n",
       "      <td>60</td>\n",
       "      <td>1</td>\n",
       "      <td>7</td>\n",
       "    </tr>\n",
       "    <tr>\n",
       "      <th>10397</th>\n",
       "      <td>ID_004UKSJV</td>\n",
       "      <td>0</td>\n",
       "      <td>0</td>\n",
       "      <td>69</td>\n",
       "      <td>12</td>\n",
       "      <td>28</td>\n",
       "    </tr>\n",
       "    <tr>\n",
       "      <th>10398</th>\n",
       "      <td>ID_003YJHQA</td>\n",
       "      <td>0</td>\n",
       "      <td>1</td>\n",
       "      <td>60</td>\n",
       "      <td>4</td>\n",
       "      <td>12</td>\n",
       "    </tr>\n",
       "    <tr>\n",
       "      <th>10399</th>\n",
       "      <td>ID_000H9XOP</td>\n",
       "      <td>0</td>\n",
       "      <td>1</td>\n",
       "      <td>146</td>\n",
       "      <td>5</td>\n",
       "      <td>22</td>\n",
       "    </tr>\n",
       "  </tbody>\n",
       "</table>\n",
       "<p>10400 rows × 6 columns</p>\n",
       "</div>"
      ],
      "text/plain": [
       "           User_ID  FeatureX  FeatureY  Countries_ID  Created At Month  \\\n",
       "0      ID_ZZVUJ45W         0         0           146                 3   \n",
       "1      ID_ZZUNZJ2U         0         0           146                 2   \n",
       "2      ID_ZZQK0LU6         0         3           146                 3   \n",
       "3      ID_ZZMHNLNT         0         0           146                 4   \n",
       "4      ID_ZZJKFBR5         0         1           143                12   \n",
       "...            ...       ...       ...           ...               ...   \n",
       "10395  ID_00ETFE7J         0         0            61                 1   \n",
       "10396  ID_008D2J6C         0         0            60                 1   \n",
       "10397  ID_004UKSJV         0         0            69                12   \n",
       "10398  ID_003YJHQA         0         1            60                 4   \n",
       "10399  ID_000H9XOP         0         1           146                 5   \n",
       "\n",
       "       Created At Day_of_month  \n",
       "0                            5  \n",
       "1                           30  \n",
       "2                           29  \n",
       "3                            1  \n",
       "4                            8  \n",
       "...                        ...  \n",
       "10395                        6  \n",
       "10396                        7  \n",
       "10397                       28  \n",
       "10398                       12  \n",
       "10399                       22  \n",
       "\n",
       "[10400 rows x 6 columns]"
      ]
     },
     "execution_count": 18,
     "metadata": {},
     "output_type": "execute_result"
    }
   ],
   "source": [
    "#Drop 'Created At time'and 'Created At Year'\n",
    "user_df.drop(columns=['Created At time', 'Created At Year'], inplace=True)\n",
    "user_df"
   ]
  },
  {
   "cell_type": "code",
   "execution_count": 19,
   "id": "f3c7c8ae",
   "metadata": {},
   "outputs": [],
   "source": [
    "all_activities = dataset.main_activities.unique()"
   ]
  },
  {
   "cell_type": "code",
   "execution_count": 20,
   "id": "c6c4dffe",
   "metadata": {},
   "outputs": [],
   "source": [
    "#Add month number\n",
    "month_cols = [f'datetime Month_{i}' for i in [1, 2, 3, 4, 5, 11, 12]]"
   ]
  },
  {
   "cell_type": "code",
   "execution_count": 21,
   "id": "5e615f72",
   "metadata": {},
   "outputs": [],
   "source": [
    "#User_IDs from sample submission for test data\n",
    "test_ids = SampleSubmission.User_ID_Next_month_Activity.str.replace('_Month_5', '').unique()"
   ]
  },
  {
   "cell_type": "code",
   "execution_count": 22,
   "id": "fb1adfb4",
   "metadata": {},
   "outputs": [],
   "source": [
    "activity_df = user_df[['User_ID']]"
   ]
  },
  {
   "cell_type": "code",
   "execution_count": 23,
   "id": "7bbdf17e",
   "metadata": {},
   "outputs": [],
   "source": [
    "#Month-wise activity for each user\n",
    "for activity in all_activities:\n",
    "    #Activity-wise dataframe\n",
    "    _df = pd.get_dummies(\n",
    "        dataset[dataset.main_activities == activity].drop(columns='main_activities').reset_index(drop=True),\n",
    "        columns=['datetime Month'])\n",
    "    for col in month_cols:\n",
    "        if col not in _df.columns:\n",
    "            _df[col] = 0\n",
    "        #Multiply count of a particular activity to activity count of that month\n",
    "        _df[col] *= _df['count']\n",
    "    _df = _df.drop(columns='count')\n",
    "    _df = _df.groupby('User_ID').sum().reset_index()\n",
    "    #Merge each month data for an activity\n",
    "    _df = pd.merge(user_df[['User_ID']], _df, on='User_ID', how='left')\n",
    "    _df[month_cols] = _df[month_cols].fillna(0)\n",
    "    #Activity and month based columns\n",
    "    _df.columns = _df.columns.str.replace('datetime Month_', f'{activity}_month_')\n",
    "\n",
    "    activity_df = pd.merge(activity_df, _df, on='User_ID', how='left')"
   ]
  },
  {
   "cell_type": "code",
   "execution_count": 24,
   "id": "78a65a7e",
   "metadata": {},
   "outputs": [
    {
     "data": {
      "text/html": [
       "<div>\n",
       "<style scoped>\n",
       "    .dataframe tbody tr th:only-of-type {\n",
       "        vertical-align: middle;\n",
       "    }\n",
       "\n",
       "    .dataframe tbody tr th {\n",
       "        vertical-align: top;\n",
       "    }\n",
       "\n",
       "    .dataframe thead th {\n",
       "        text-align: right;\n",
       "    }\n",
       "</style>\n",
       "<table border=\"1\" class=\"dataframe\">\n",
       "  <thead>\n",
       "    <tr style=\"text-align: right;\">\n",
       "      <th></th>\n",
       "      <th>User_ID</th>\n",
       "      <th>Downloaded_Competition_Datafile_month_1</th>\n",
       "      <th>Downloaded_Competition_Datafile_month_2</th>\n",
       "      <th>Downloaded_Competition_Datafile_month_3</th>\n",
       "      <th>Downloaded_Competition_Datafile_month_4</th>\n",
       "      <th>Downloaded_Competition_Datafile_month_5</th>\n",
       "      <th>Downloaded_Competition_Datafile_month_11</th>\n",
       "      <th>Downloaded_Competition_Datafile_month_12</th>\n",
       "      <th>Viewed_All_Discussions_month_1</th>\n",
       "      <th>Viewed_All_Discussions_month_2</th>\n",
       "      <th>...</th>\n",
       "      <th>Updated_Submission_month_5</th>\n",
       "      <th>Updated_Submission_month_11</th>\n",
       "      <th>Updated_Submission_month_12</th>\n",
       "      <th>badge_HYIO_month_5</th>\n",
       "      <th>badge_HYIO_month_1</th>\n",
       "      <th>badge_HYIO_month_2</th>\n",
       "      <th>badge_HYIO_month_3</th>\n",
       "      <th>badge_HYIO_month_4</th>\n",
       "      <th>badge_HYIO_month_11</th>\n",
       "      <th>badge_HYIO_month_12</th>\n",
       "    </tr>\n",
       "  </thead>\n",
       "  <tbody>\n",
       "    <tr>\n",
       "      <th>0</th>\n",
       "      <td>ID_ZZVUJ45W</td>\n",
       "      <td>0.0</td>\n",
       "      <td>0.0</td>\n",
       "      <td>3.0</td>\n",
       "      <td>0.0</td>\n",
       "      <td>0.0</td>\n",
       "      <td>0.0</td>\n",
       "      <td>0.0</td>\n",
       "      <td>0.0</td>\n",
       "      <td>0.0</td>\n",
       "      <td>...</td>\n",
       "      <td>0.0</td>\n",
       "      <td>0.0</td>\n",
       "      <td>0.0</td>\n",
       "      <td>0.0</td>\n",
       "      <td>0.0</td>\n",
       "      <td>0.0</td>\n",
       "      <td>0.0</td>\n",
       "      <td>0.0</td>\n",
       "      <td>0.0</td>\n",
       "      <td>0.0</td>\n",
       "    </tr>\n",
       "    <tr>\n",
       "      <th>1</th>\n",
       "      <td>ID_ZZUNZJ2U</td>\n",
       "      <td>0.0</td>\n",
       "      <td>0.0</td>\n",
       "      <td>0.0</td>\n",
       "      <td>0.0</td>\n",
       "      <td>0.0</td>\n",
       "      <td>0.0</td>\n",
       "      <td>0.0</td>\n",
       "      <td>0.0</td>\n",
       "      <td>1.0</td>\n",
       "      <td>...</td>\n",
       "      <td>0.0</td>\n",
       "      <td>0.0</td>\n",
       "      <td>0.0</td>\n",
       "      <td>0.0</td>\n",
       "      <td>0.0</td>\n",
       "      <td>0.0</td>\n",
       "      <td>0.0</td>\n",
       "      <td>0.0</td>\n",
       "      <td>0.0</td>\n",
       "      <td>0.0</td>\n",
       "    </tr>\n",
       "    <tr>\n",
       "      <th>2</th>\n",
       "      <td>ID_ZZQK0LU6</td>\n",
       "      <td>0.0</td>\n",
       "      <td>0.0</td>\n",
       "      <td>7.0</td>\n",
       "      <td>0.0</td>\n",
       "      <td>0.0</td>\n",
       "      <td>0.0</td>\n",
       "      <td>0.0</td>\n",
       "      <td>0.0</td>\n",
       "      <td>0.0</td>\n",
       "      <td>...</td>\n",
       "      <td>0.0</td>\n",
       "      <td>0.0</td>\n",
       "      <td>0.0</td>\n",
       "      <td>0.0</td>\n",
       "      <td>0.0</td>\n",
       "      <td>0.0</td>\n",
       "      <td>0.0</td>\n",
       "      <td>0.0</td>\n",
       "      <td>0.0</td>\n",
       "      <td>0.0</td>\n",
       "    </tr>\n",
       "    <tr>\n",
       "      <th>3</th>\n",
       "      <td>ID_ZZMHNLNT</td>\n",
       "      <td>0.0</td>\n",
       "      <td>0.0</td>\n",
       "      <td>0.0</td>\n",
       "      <td>0.0</td>\n",
       "      <td>0.0</td>\n",
       "      <td>0.0</td>\n",
       "      <td>0.0</td>\n",
       "      <td>0.0</td>\n",
       "      <td>0.0</td>\n",
       "      <td>...</td>\n",
       "      <td>0.0</td>\n",
       "      <td>0.0</td>\n",
       "      <td>0.0</td>\n",
       "      <td>0.0</td>\n",
       "      <td>0.0</td>\n",
       "      <td>0.0</td>\n",
       "      <td>0.0</td>\n",
       "      <td>0.0</td>\n",
       "      <td>0.0</td>\n",
       "      <td>0.0</td>\n",
       "    </tr>\n",
       "    <tr>\n",
       "      <th>4</th>\n",
       "      <td>ID_ZZJKFBR5</td>\n",
       "      <td>0.0</td>\n",
       "      <td>0.0</td>\n",
       "      <td>0.0</td>\n",
       "      <td>0.0</td>\n",
       "      <td>0.0</td>\n",
       "      <td>0.0</td>\n",
       "      <td>5.0</td>\n",
       "      <td>0.0</td>\n",
       "      <td>0.0</td>\n",
       "      <td>...</td>\n",
       "      <td>0.0</td>\n",
       "      <td>0.0</td>\n",
       "      <td>0.0</td>\n",
       "      <td>0.0</td>\n",
       "      <td>0.0</td>\n",
       "      <td>0.0</td>\n",
       "      <td>0.0</td>\n",
       "      <td>0.0</td>\n",
       "      <td>0.0</td>\n",
       "      <td>0.0</td>\n",
       "    </tr>\n",
       "    <tr>\n",
       "      <th>...</th>\n",
       "      <td>...</td>\n",
       "      <td>...</td>\n",
       "      <td>...</td>\n",
       "      <td>...</td>\n",
       "      <td>...</td>\n",
       "      <td>...</td>\n",
       "      <td>...</td>\n",
       "      <td>...</td>\n",
       "      <td>...</td>\n",
       "      <td>...</td>\n",
       "      <td>...</td>\n",
       "      <td>...</td>\n",
       "      <td>...</td>\n",
       "      <td>...</td>\n",
       "      <td>...</td>\n",
       "      <td>...</td>\n",
       "      <td>...</td>\n",
       "      <td>...</td>\n",
       "      <td>...</td>\n",
       "      <td>...</td>\n",
       "      <td>...</td>\n",
       "    </tr>\n",
       "    <tr>\n",
       "      <th>10395</th>\n",
       "      <td>ID_00ETFE7J</td>\n",
       "      <td>0.0</td>\n",
       "      <td>0.0</td>\n",
       "      <td>0.0</td>\n",
       "      <td>0.0</td>\n",
       "      <td>0.0</td>\n",
       "      <td>0.0</td>\n",
       "      <td>0.0</td>\n",
       "      <td>1.0</td>\n",
       "      <td>0.0</td>\n",
       "      <td>...</td>\n",
       "      <td>0.0</td>\n",
       "      <td>0.0</td>\n",
       "      <td>0.0</td>\n",
       "      <td>0.0</td>\n",
       "      <td>0.0</td>\n",
       "      <td>0.0</td>\n",
       "      <td>0.0</td>\n",
       "      <td>0.0</td>\n",
       "      <td>0.0</td>\n",
       "      <td>0.0</td>\n",
       "    </tr>\n",
       "    <tr>\n",
       "      <th>10396</th>\n",
       "      <td>ID_008D2J6C</td>\n",
       "      <td>0.0</td>\n",
       "      <td>0.0</td>\n",
       "      <td>0.0</td>\n",
       "      <td>0.0</td>\n",
       "      <td>0.0</td>\n",
       "      <td>0.0</td>\n",
       "      <td>0.0</td>\n",
       "      <td>1.0</td>\n",
       "      <td>0.0</td>\n",
       "      <td>...</td>\n",
       "      <td>0.0</td>\n",
       "      <td>0.0</td>\n",
       "      <td>0.0</td>\n",
       "      <td>0.0</td>\n",
       "      <td>0.0</td>\n",
       "      <td>0.0</td>\n",
       "      <td>0.0</td>\n",
       "      <td>0.0</td>\n",
       "      <td>0.0</td>\n",
       "      <td>0.0</td>\n",
       "    </tr>\n",
       "    <tr>\n",
       "      <th>10397</th>\n",
       "      <td>ID_004UKSJV</td>\n",
       "      <td>0.0</td>\n",
       "      <td>0.0</td>\n",
       "      <td>0.0</td>\n",
       "      <td>0.0</td>\n",
       "      <td>0.0</td>\n",
       "      <td>0.0</td>\n",
       "      <td>0.0</td>\n",
       "      <td>0.0</td>\n",
       "      <td>0.0</td>\n",
       "      <td>...</td>\n",
       "      <td>0.0</td>\n",
       "      <td>0.0</td>\n",
       "      <td>0.0</td>\n",
       "      <td>0.0</td>\n",
       "      <td>0.0</td>\n",
       "      <td>0.0</td>\n",
       "      <td>0.0</td>\n",
       "      <td>0.0</td>\n",
       "      <td>0.0</td>\n",
       "      <td>0.0</td>\n",
       "    </tr>\n",
       "    <tr>\n",
       "      <th>10398</th>\n",
       "      <td>ID_003YJHQA</td>\n",
       "      <td>0.0</td>\n",
       "      <td>0.0</td>\n",
       "      <td>0.0</td>\n",
       "      <td>0.0</td>\n",
       "      <td>0.0</td>\n",
       "      <td>0.0</td>\n",
       "      <td>0.0</td>\n",
       "      <td>0.0</td>\n",
       "      <td>0.0</td>\n",
       "      <td>...</td>\n",
       "      <td>0.0</td>\n",
       "      <td>0.0</td>\n",
       "      <td>0.0</td>\n",
       "      <td>0.0</td>\n",
       "      <td>0.0</td>\n",
       "      <td>0.0</td>\n",
       "      <td>0.0</td>\n",
       "      <td>0.0</td>\n",
       "      <td>0.0</td>\n",
       "      <td>0.0</td>\n",
       "    </tr>\n",
       "    <tr>\n",
       "      <th>10399</th>\n",
       "      <td>ID_000H9XOP</td>\n",
       "      <td>0.0</td>\n",
       "      <td>0.0</td>\n",
       "      <td>0.0</td>\n",
       "      <td>0.0</td>\n",
       "      <td>0.0</td>\n",
       "      <td>0.0</td>\n",
       "      <td>0.0</td>\n",
       "      <td>0.0</td>\n",
       "      <td>0.0</td>\n",
       "      <td>...</td>\n",
       "      <td>0.0</td>\n",
       "      <td>0.0</td>\n",
       "      <td>0.0</td>\n",
       "      <td>0.0</td>\n",
       "      <td>0.0</td>\n",
       "      <td>0.0</td>\n",
       "      <td>0.0</td>\n",
       "      <td>0.0</td>\n",
       "      <td>0.0</td>\n",
       "      <td>0.0</td>\n",
       "    </tr>\n",
       "  </tbody>\n",
       "</table>\n",
       "<p>10400 rows × 155 columns</p>\n",
       "</div>"
      ],
      "text/plain": [
       "           User_ID  Downloaded_Competition_Datafile_month_1  \\\n",
       "0      ID_ZZVUJ45W                                      0.0   \n",
       "1      ID_ZZUNZJ2U                                      0.0   \n",
       "2      ID_ZZQK0LU6                                      0.0   \n",
       "3      ID_ZZMHNLNT                                      0.0   \n",
       "4      ID_ZZJKFBR5                                      0.0   \n",
       "...            ...                                      ...   \n",
       "10395  ID_00ETFE7J                                      0.0   \n",
       "10396  ID_008D2J6C                                      0.0   \n",
       "10397  ID_004UKSJV                                      0.0   \n",
       "10398  ID_003YJHQA                                      0.0   \n",
       "10399  ID_000H9XOP                                      0.0   \n",
       "\n",
       "       Downloaded_Competition_Datafile_month_2  \\\n",
       "0                                          0.0   \n",
       "1                                          0.0   \n",
       "2                                          0.0   \n",
       "3                                          0.0   \n",
       "4                                          0.0   \n",
       "...                                        ...   \n",
       "10395                                      0.0   \n",
       "10396                                      0.0   \n",
       "10397                                      0.0   \n",
       "10398                                      0.0   \n",
       "10399                                      0.0   \n",
       "\n",
       "       Downloaded_Competition_Datafile_month_3  \\\n",
       "0                                          3.0   \n",
       "1                                          0.0   \n",
       "2                                          7.0   \n",
       "3                                          0.0   \n",
       "4                                          0.0   \n",
       "...                                        ...   \n",
       "10395                                      0.0   \n",
       "10396                                      0.0   \n",
       "10397                                      0.0   \n",
       "10398                                      0.0   \n",
       "10399                                      0.0   \n",
       "\n",
       "       Downloaded_Competition_Datafile_month_4  \\\n",
       "0                                          0.0   \n",
       "1                                          0.0   \n",
       "2                                          0.0   \n",
       "3                                          0.0   \n",
       "4                                          0.0   \n",
       "...                                        ...   \n",
       "10395                                      0.0   \n",
       "10396                                      0.0   \n",
       "10397                                      0.0   \n",
       "10398                                      0.0   \n",
       "10399                                      0.0   \n",
       "\n",
       "       Downloaded_Competition_Datafile_month_5  \\\n",
       "0                                          0.0   \n",
       "1                                          0.0   \n",
       "2                                          0.0   \n",
       "3                                          0.0   \n",
       "4                                          0.0   \n",
       "...                                        ...   \n",
       "10395                                      0.0   \n",
       "10396                                      0.0   \n",
       "10397                                      0.0   \n",
       "10398                                      0.0   \n",
       "10399                                      0.0   \n",
       "\n",
       "       Downloaded_Competition_Datafile_month_11  \\\n",
       "0                                           0.0   \n",
       "1                                           0.0   \n",
       "2                                           0.0   \n",
       "3                                           0.0   \n",
       "4                                           0.0   \n",
       "...                                         ...   \n",
       "10395                                       0.0   \n",
       "10396                                       0.0   \n",
       "10397                                       0.0   \n",
       "10398                                       0.0   \n",
       "10399                                       0.0   \n",
       "\n",
       "       Downloaded_Competition_Datafile_month_12  \\\n",
       "0                                           0.0   \n",
       "1                                           0.0   \n",
       "2                                           0.0   \n",
       "3                                           0.0   \n",
       "4                                           5.0   \n",
       "...                                         ...   \n",
       "10395                                       0.0   \n",
       "10396                                       0.0   \n",
       "10397                                       0.0   \n",
       "10398                                       0.0   \n",
       "10399                                       0.0   \n",
       "\n",
       "       Viewed_All_Discussions_month_1  Viewed_All_Discussions_month_2  ...  \\\n",
       "0                                 0.0                             0.0  ...   \n",
       "1                                 0.0                             1.0  ...   \n",
       "2                                 0.0                             0.0  ...   \n",
       "3                                 0.0                             0.0  ...   \n",
       "4                                 0.0                             0.0  ...   \n",
       "...                               ...                             ...  ...   \n",
       "10395                             1.0                             0.0  ...   \n",
       "10396                             1.0                             0.0  ...   \n",
       "10397                             0.0                             0.0  ...   \n",
       "10398                             0.0                             0.0  ...   \n",
       "10399                             0.0                             0.0  ...   \n",
       "\n",
       "       Updated_Submission_month_5  Updated_Submission_month_11  \\\n",
       "0                             0.0                          0.0   \n",
       "1                             0.0                          0.0   \n",
       "2                             0.0                          0.0   \n",
       "3                             0.0                          0.0   \n",
       "4                             0.0                          0.0   \n",
       "...                           ...                          ...   \n",
       "10395                         0.0                          0.0   \n",
       "10396                         0.0                          0.0   \n",
       "10397                         0.0                          0.0   \n",
       "10398                         0.0                          0.0   \n",
       "10399                         0.0                          0.0   \n",
       "\n",
       "       Updated_Submission_month_12  badge_HYIO_month_5  badge_HYIO_month_1  \\\n",
       "0                              0.0                 0.0                 0.0   \n",
       "1                              0.0                 0.0                 0.0   \n",
       "2                              0.0                 0.0                 0.0   \n",
       "3                              0.0                 0.0                 0.0   \n",
       "4                              0.0                 0.0                 0.0   \n",
       "...                            ...                 ...                 ...   \n",
       "10395                          0.0                 0.0                 0.0   \n",
       "10396                          0.0                 0.0                 0.0   \n",
       "10397                          0.0                 0.0                 0.0   \n",
       "10398                          0.0                 0.0                 0.0   \n",
       "10399                          0.0                 0.0                 0.0   \n",
       "\n",
       "       badge_HYIO_month_2  badge_HYIO_month_3  badge_HYIO_month_4  \\\n",
       "0                     0.0                 0.0                 0.0   \n",
       "1                     0.0                 0.0                 0.0   \n",
       "2                     0.0                 0.0                 0.0   \n",
       "3                     0.0                 0.0                 0.0   \n",
       "4                     0.0                 0.0                 0.0   \n",
       "...                   ...                 ...                 ...   \n",
       "10395                 0.0                 0.0                 0.0   \n",
       "10396                 0.0                 0.0                 0.0   \n",
       "10397                 0.0                 0.0                 0.0   \n",
       "10398                 0.0                 0.0                 0.0   \n",
       "10399                 0.0                 0.0                 0.0   \n",
       "\n",
       "       badge_HYIO_month_11  badge_HYIO_month_12  \n",
       "0                      0.0                  0.0  \n",
       "1                      0.0                  0.0  \n",
       "2                      0.0                  0.0  \n",
       "3                      0.0                  0.0  \n",
       "4                      0.0                  0.0  \n",
       "...                    ...                  ...  \n",
       "10395                  0.0                  0.0  \n",
       "10396                  0.0                  0.0  \n",
       "10397                  0.0                  0.0  \n",
       "10398                  0.0                  0.0  \n",
       "10399                  0.0                  0.0  \n",
       "\n",
       "[10400 rows x 155 columns]"
      ]
     },
     "execution_count": 24,
     "metadata": {},
     "output_type": "execute_result"
    }
   ],
   "source": [
    "activity_df"
   ]
  },
  {
   "cell_type": "code",
   "execution_count": 25,
   "id": "23a3a33d",
   "metadata": {},
   "outputs": [],
   "source": [
    "activity_df = pd.merge(activity_df, user_df, on='User_ID', how='left')"
   ]
  },
  {
   "cell_type": "code",
   "execution_count": 26,
   "id": "7ca98935",
   "metadata": {},
   "outputs": [],
   "source": [
    "#Train and test dataframe using User_IDs in sample submission\n",
    "train_df = activity_df[~activity_df.User_ID.isin(test_ids)].reset_index(drop=True)\n",
    "test_df = activity_df[activity_df.User_ID.isin(test_ids)].reset_index(drop=True)"
   ]
  },
  {
   "cell_type": "code",
   "execution_count": 27,
   "id": "70db338c",
   "metadata": {},
   "outputs": [],
   "source": [
    "new_train = pd.DataFrame()"
   ]
  },
  {
   "cell_type": "code",
   "execution_count": 28,
   "id": "a0d6e6ac",
   "metadata": {},
   "outputs": [],
   "source": [
    "for i in range(len(train_df)):\n",
    "    user = train_df.loc[i]\n",
    "    created_month = user['Created At Month']\n",
    "    if created_month < 5: #As there is month 11 after 5\n",
    "        #Create dictionary for User_ID, user created month activity and Active\n",
    "        user_dict = {}\n",
    "        user_dict['User_ID'] = user['User_ID']\n",
    "        for activity in all_activities:\n",
    "            user_dict[f'{activity}'] = user[f'{activity}_month_{created_month}']\n",
    "        #Next month of user created month\n",
    "        next_month = [created_month+1, 1][created_month == 12]\n",
    "        #Take Active as 1 if user has any activity in the next month of user created month\n",
    "        user_dict['Active'] = [0, 1][user[[f'{activity}_month_{next_month}' for activity in all_activities]].sum() > 0]\n",
    "\n",
    "        new_train = new_train.append(user_dict, ignore_index=True)"
   ]
  },
  {
   "cell_type": "code",
   "execution_count": 29,
   "id": "debcdeff",
   "metadata": {},
   "outputs": [
    {
     "data": {
      "text/html": [
       "<div>\n",
       "<style scoped>\n",
       "    .dataframe tbody tr th:only-of-type {\n",
       "        vertical-align: middle;\n",
       "    }\n",
       "\n",
       "    .dataframe tbody tr th {\n",
       "        vertical-align: top;\n",
       "    }\n",
       "\n",
       "    .dataframe thead th {\n",
       "        text-align: right;\n",
       "    }\n",
       "</style>\n",
       "<table border=\"1\" class=\"dataframe\">\n",
       "  <thead>\n",
       "    <tr style=\"text-align: right;\">\n",
       "      <th></th>\n",
       "      <th>User_ID</th>\n",
       "      <th>Downloaded_Competition_Datafile</th>\n",
       "      <th>Viewed_All_Discussions</th>\n",
       "      <th>Confirmed_Email</th>\n",
       "      <th>Joined_Competition</th>\n",
       "      <th>Signed_Up</th>\n",
       "      <th>Viewed_All_Competitions</th>\n",
       "      <th>Viewed_All_Learning_Pages</th>\n",
       "      <th>badge_OCZE</th>\n",
       "      <th>create_alias</th>\n",
       "      <th>...</th>\n",
       "      <th>Viewed_All_Jobs</th>\n",
       "      <th>job_ID</th>\n",
       "      <th>Created_Submission</th>\n",
       "      <th>Signed_Out</th>\n",
       "      <th>Updated_Profile</th>\n",
       "      <th>blog_ID</th>\n",
       "      <th>Viewed_Discussion</th>\n",
       "      <th>Updated_Submission</th>\n",
       "      <th>badge_HYIO</th>\n",
       "      <th>Active</th>\n",
       "    </tr>\n",
       "  </thead>\n",
       "  <tbody>\n",
       "    <tr>\n",
       "      <th>0</th>\n",
       "      <td>ID_ZZVUJ45W</td>\n",
       "      <td>3.0</td>\n",
       "      <td>2.0</td>\n",
       "      <td>1.0</td>\n",
       "      <td>1.0</td>\n",
       "      <td>1.0</td>\n",
       "      <td>1.0</td>\n",
       "      <td>1.0</td>\n",
       "      <td>1.0</td>\n",
       "      <td>1.0</td>\n",
       "      <td>...</td>\n",
       "      <td>0.0</td>\n",
       "      <td>0.0</td>\n",
       "      <td>0.0</td>\n",
       "      <td>0.0</td>\n",
       "      <td>0.0</td>\n",
       "      <td>0.0</td>\n",
       "      <td>0.0</td>\n",
       "      <td>0.0</td>\n",
       "      <td>0.0</td>\n",
       "      <td>0.0</td>\n",
       "    </tr>\n",
       "    <tr>\n",
       "      <th>1</th>\n",
       "      <td>ID_ZZUNZJ2U</td>\n",
       "      <td>0.0</td>\n",
       "      <td>1.0</td>\n",
       "      <td>1.0</td>\n",
       "      <td>0.0</td>\n",
       "      <td>1.0</td>\n",
       "      <td>3.0</td>\n",
       "      <td>3.0</td>\n",
       "      <td>1.0</td>\n",
       "      <td>1.0</td>\n",
       "      <td>...</td>\n",
       "      <td>0.0</td>\n",
       "      <td>0.0</td>\n",
       "      <td>0.0</td>\n",
       "      <td>0.0</td>\n",
       "      <td>0.0</td>\n",
       "      <td>0.0</td>\n",
       "      <td>0.0</td>\n",
       "      <td>0.0</td>\n",
       "      <td>0.0</td>\n",
       "      <td>0.0</td>\n",
       "    </tr>\n",
       "    <tr>\n",
       "      <th>2</th>\n",
       "      <td>ID_ZZQK0LU6</td>\n",
       "      <td>7.0</td>\n",
       "      <td>4.0</td>\n",
       "      <td>1.0</td>\n",
       "      <td>2.0</td>\n",
       "      <td>1.0</td>\n",
       "      <td>14.0</td>\n",
       "      <td>1.0</td>\n",
       "      <td>1.0</td>\n",
       "      <td>0.0</td>\n",
       "      <td>...</td>\n",
       "      <td>0.0</td>\n",
       "      <td>0.0</td>\n",
       "      <td>0.0</td>\n",
       "      <td>0.0</td>\n",
       "      <td>0.0</td>\n",
       "      <td>0.0</td>\n",
       "      <td>0.0</td>\n",
       "      <td>0.0</td>\n",
       "      <td>0.0</td>\n",
       "      <td>0.0</td>\n",
       "    </tr>\n",
       "    <tr>\n",
       "      <th>3</th>\n",
       "      <td>ID_ZZHDXC1Q</td>\n",
       "      <td>0.0</td>\n",
       "      <td>1.0</td>\n",
       "      <td>1.0</td>\n",
       "      <td>0.0</td>\n",
       "      <td>1.0</td>\n",
       "      <td>1.0</td>\n",
       "      <td>1.0</td>\n",
       "      <td>1.0</td>\n",
       "      <td>1.0</td>\n",
       "      <td>...</td>\n",
       "      <td>0.0</td>\n",
       "      <td>0.0</td>\n",
       "      <td>0.0</td>\n",
       "      <td>0.0</td>\n",
       "      <td>0.0</td>\n",
       "      <td>0.0</td>\n",
       "      <td>0.0</td>\n",
       "      <td>0.0</td>\n",
       "      <td>0.0</td>\n",
       "      <td>0.0</td>\n",
       "    </tr>\n",
       "    <tr>\n",
       "      <th>4</th>\n",
       "      <td>ID_ZYVA36JR</td>\n",
       "      <td>0.0</td>\n",
       "      <td>3.0</td>\n",
       "      <td>1.0</td>\n",
       "      <td>1.0</td>\n",
       "      <td>1.0</td>\n",
       "      <td>4.0</td>\n",
       "      <td>3.0</td>\n",
       "      <td>1.0</td>\n",
       "      <td>1.0</td>\n",
       "      <td>...</td>\n",
       "      <td>0.0</td>\n",
       "      <td>0.0</td>\n",
       "      <td>20.0</td>\n",
       "      <td>0.0</td>\n",
       "      <td>1.0</td>\n",
       "      <td>0.0</td>\n",
       "      <td>0.0</td>\n",
       "      <td>0.0</td>\n",
       "      <td>0.0</td>\n",
       "      <td>1.0</td>\n",
       "    </tr>\n",
       "    <tr>\n",
       "      <th>...</th>\n",
       "      <td>...</td>\n",
       "      <td>...</td>\n",
       "      <td>...</td>\n",
       "      <td>...</td>\n",
       "      <td>...</td>\n",
       "      <td>...</td>\n",
       "      <td>...</td>\n",
       "      <td>...</td>\n",
       "      <td>...</td>\n",
       "      <td>...</td>\n",
       "      <td>...</td>\n",
       "      <td>...</td>\n",
       "      <td>...</td>\n",
       "      <td>...</td>\n",
       "      <td>...</td>\n",
       "      <td>...</td>\n",
       "      <td>...</td>\n",
       "      <td>...</td>\n",
       "      <td>...</td>\n",
       "      <td>...</td>\n",
       "      <td>...</td>\n",
       "    </tr>\n",
       "    <tr>\n",
       "      <th>5231</th>\n",
       "      <td>ID_01BEG5HQ</td>\n",
       "      <td>0.0</td>\n",
       "      <td>2.0</td>\n",
       "      <td>1.0</td>\n",
       "      <td>0.0</td>\n",
       "      <td>1.0</td>\n",
       "      <td>5.0</td>\n",
       "      <td>0.0</td>\n",
       "      <td>1.0</td>\n",
       "      <td>1.0</td>\n",
       "      <td>...</td>\n",
       "      <td>0.0</td>\n",
       "      <td>0.0</td>\n",
       "      <td>0.0</td>\n",
       "      <td>0.0</td>\n",
       "      <td>0.0</td>\n",
       "      <td>0.0</td>\n",
       "      <td>1.0</td>\n",
       "      <td>0.0</td>\n",
       "      <td>0.0</td>\n",
       "      <td>1.0</td>\n",
       "    </tr>\n",
       "    <tr>\n",
       "      <th>5232</th>\n",
       "      <td>ID_011YM9VH</td>\n",
       "      <td>0.0</td>\n",
       "      <td>14.0</td>\n",
       "      <td>1.0</td>\n",
       "      <td>1.0</td>\n",
       "      <td>1.0</td>\n",
       "      <td>12.0</td>\n",
       "      <td>7.0</td>\n",
       "      <td>1.0</td>\n",
       "      <td>1.0</td>\n",
       "      <td>...</td>\n",
       "      <td>16.0</td>\n",
       "      <td>0.0</td>\n",
       "      <td>0.0</td>\n",
       "      <td>0.0</td>\n",
       "      <td>4.0</td>\n",
       "      <td>0.0</td>\n",
       "      <td>0.0</td>\n",
       "      <td>0.0</td>\n",
       "      <td>0.0</td>\n",
       "      <td>1.0</td>\n",
       "    </tr>\n",
       "    <tr>\n",
       "      <th>5233</th>\n",
       "      <td>ID_00SL0NNP</td>\n",
       "      <td>0.0</td>\n",
       "      <td>1.0</td>\n",
       "      <td>1.0</td>\n",
       "      <td>0.0</td>\n",
       "      <td>1.0</td>\n",
       "      <td>1.0</td>\n",
       "      <td>1.0</td>\n",
       "      <td>1.0</td>\n",
       "      <td>1.0</td>\n",
       "      <td>...</td>\n",
       "      <td>0.0</td>\n",
       "      <td>0.0</td>\n",
       "      <td>0.0</td>\n",
       "      <td>0.0</td>\n",
       "      <td>2.0</td>\n",
       "      <td>0.0</td>\n",
       "      <td>0.0</td>\n",
       "      <td>0.0</td>\n",
       "      <td>0.0</td>\n",
       "      <td>0.0</td>\n",
       "    </tr>\n",
       "    <tr>\n",
       "      <th>5234</th>\n",
       "      <td>ID_00ETFE7J</td>\n",
       "      <td>0.0</td>\n",
       "      <td>1.0</td>\n",
       "      <td>1.0</td>\n",
       "      <td>0.0</td>\n",
       "      <td>1.0</td>\n",
       "      <td>0.0</td>\n",
       "      <td>3.0</td>\n",
       "      <td>1.0</td>\n",
       "      <td>1.0</td>\n",
       "      <td>...</td>\n",
       "      <td>0.0</td>\n",
       "      <td>0.0</td>\n",
       "      <td>0.0</td>\n",
       "      <td>0.0</td>\n",
       "      <td>0.0</td>\n",
       "      <td>1.0</td>\n",
       "      <td>0.0</td>\n",
       "      <td>0.0</td>\n",
       "      <td>0.0</td>\n",
       "      <td>0.0</td>\n",
       "    </tr>\n",
       "    <tr>\n",
       "      <th>5235</th>\n",
       "      <td>ID_008D2J6C</td>\n",
       "      <td>0.0</td>\n",
       "      <td>1.0</td>\n",
       "      <td>1.0</td>\n",
       "      <td>0.0</td>\n",
       "      <td>1.0</td>\n",
       "      <td>1.0</td>\n",
       "      <td>1.0</td>\n",
       "      <td>1.0</td>\n",
       "      <td>1.0</td>\n",
       "      <td>...</td>\n",
       "      <td>0.0</td>\n",
       "      <td>0.0</td>\n",
       "      <td>0.0</td>\n",
       "      <td>0.0</td>\n",
       "      <td>2.0</td>\n",
       "      <td>0.0</td>\n",
       "      <td>0.0</td>\n",
       "      <td>0.0</td>\n",
       "      <td>0.0</td>\n",
       "      <td>0.0</td>\n",
       "    </tr>\n",
       "  </tbody>\n",
       "</table>\n",
       "<p>5236 rows × 24 columns</p>\n",
       "</div>"
      ],
      "text/plain": [
       "          User_ID  Downloaded_Competition_Datafile  Viewed_All_Discussions  \\\n",
       "0     ID_ZZVUJ45W                              3.0                     2.0   \n",
       "1     ID_ZZUNZJ2U                              0.0                     1.0   \n",
       "2     ID_ZZQK0LU6                              7.0                     4.0   \n",
       "3     ID_ZZHDXC1Q                              0.0                     1.0   \n",
       "4     ID_ZYVA36JR                              0.0                     3.0   \n",
       "...           ...                              ...                     ...   \n",
       "5231  ID_01BEG5HQ                              0.0                     2.0   \n",
       "5232  ID_011YM9VH                              0.0                    14.0   \n",
       "5233  ID_00SL0NNP                              0.0                     1.0   \n",
       "5234  ID_00ETFE7J                              0.0                     1.0   \n",
       "5235  ID_008D2J6C                              0.0                     1.0   \n",
       "\n",
       "      Confirmed_Email  Joined_Competition  Signed_Up  Viewed_All_Competitions  \\\n",
       "0                 1.0                 1.0        1.0                      1.0   \n",
       "1                 1.0                 0.0        1.0                      3.0   \n",
       "2                 1.0                 2.0        1.0                     14.0   \n",
       "3                 1.0                 0.0        1.0                      1.0   \n",
       "4                 1.0                 1.0        1.0                      4.0   \n",
       "...               ...                 ...        ...                      ...   \n",
       "5231              1.0                 0.0        1.0                      5.0   \n",
       "5232              1.0                 1.0        1.0                     12.0   \n",
       "5233              1.0                 0.0        1.0                      1.0   \n",
       "5234              1.0                 0.0        1.0                      0.0   \n",
       "5235              1.0                 0.0        1.0                      1.0   \n",
       "\n",
       "      Viewed_All_Learning_Pages  badge_OCZE  create_alias  ...  \\\n",
       "0                           1.0         1.0           1.0  ...   \n",
       "1                           3.0         1.0           1.0  ...   \n",
       "2                           1.0         1.0           0.0  ...   \n",
       "3                           1.0         1.0           1.0  ...   \n",
       "4                           3.0         1.0           1.0  ...   \n",
       "...                         ...         ...           ...  ...   \n",
       "5231                        0.0         1.0           1.0  ...   \n",
       "5232                        7.0         1.0           1.0  ...   \n",
       "5233                        1.0         1.0           1.0  ...   \n",
       "5234                        3.0         1.0           1.0  ...   \n",
       "5235                        1.0         1.0           1.0  ...   \n",
       "\n",
       "      Viewed_All_Jobs  job_ID  Created_Submission  Signed_Out  \\\n",
       "0                 0.0     0.0                 0.0         0.0   \n",
       "1                 0.0     0.0                 0.0         0.0   \n",
       "2                 0.0     0.0                 0.0         0.0   \n",
       "3                 0.0     0.0                 0.0         0.0   \n",
       "4                 0.0     0.0                20.0         0.0   \n",
       "...               ...     ...                 ...         ...   \n",
       "5231              0.0     0.0                 0.0         0.0   \n",
       "5232             16.0     0.0                 0.0         0.0   \n",
       "5233              0.0     0.0                 0.0         0.0   \n",
       "5234              0.0     0.0                 0.0         0.0   \n",
       "5235              0.0     0.0                 0.0         0.0   \n",
       "\n",
       "      Updated_Profile  blog_ID  Viewed_Discussion  Updated_Submission  \\\n",
       "0                 0.0      0.0                0.0                 0.0   \n",
       "1                 0.0      0.0                0.0                 0.0   \n",
       "2                 0.0      0.0                0.0                 0.0   \n",
       "3                 0.0      0.0                0.0                 0.0   \n",
       "4                 1.0      0.0                0.0                 0.0   \n",
       "...               ...      ...                ...                 ...   \n",
       "5231              0.0      0.0                1.0                 0.0   \n",
       "5232              4.0      0.0                0.0                 0.0   \n",
       "5233              2.0      0.0                0.0                 0.0   \n",
       "5234              0.0      1.0                0.0                 0.0   \n",
       "5235              2.0      0.0                0.0                 0.0   \n",
       "\n",
       "      badge_HYIO  Active  \n",
       "0            0.0     0.0  \n",
       "1            0.0     0.0  \n",
       "2            0.0     0.0  \n",
       "3            0.0     0.0  \n",
       "4            0.0     1.0  \n",
       "...          ...     ...  \n",
       "5231         0.0     1.0  \n",
       "5232         0.0     1.0  \n",
       "5233         0.0     0.0  \n",
       "5234         0.0     0.0  \n",
       "5235         0.0     0.0  \n",
       "\n",
       "[5236 rows x 24 columns]"
      ]
     },
     "execution_count": 29,
     "metadata": {},
     "output_type": "execute_result"
    }
   ],
   "source": [
    "new_train"
   ]
  },
  {
   "cell_type": "code",
   "execution_count": 30,
   "id": "a3c2ed7a",
   "metadata": {},
   "outputs": [],
   "source": [
    "#For graph\n",
    "temp = new_train[all_activities]"
   ]
  },
  {
   "cell_type": "code",
   "execution_count": 31,
   "id": "c5a09f36",
   "metadata": {},
   "outputs": [
    {
     "data": {
      "text/plain": [
       "Downloaded_Competition_Datafile     7007.0\n",
       "Viewed_All_Discussions             17629.0\n",
       "Confirmed_Email                     4394.0\n",
       "Joined_Competition                  2661.0\n",
       "Signed_Up                           5365.0\n",
       "Viewed_All_Competitions            20606.0\n",
       "Viewed_All_Learning_Pages           9464.0\n",
       "badge_OCZE                          4395.0\n",
       "create_alias                        4588.0\n",
       "identify                            5679.0\n",
       "comp_ID                            14268.0\n",
       "Signed_In                           1370.0\n",
       "Updated_Discussion                  2030.0\n",
       "Viewed_All_Jobs                     1732.0\n",
       "job_ID                               654.0\n",
       "Created_Submission                  4030.0\n",
       "Signed_Out                           517.0\n",
       "Updated_Profile                     5807.0\n",
       "blog_ID                              748.0\n",
       "Viewed_Discussion                    440.0\n",
       "Updated_Submission                  1096.0\n",
       "badge_HYIO                             0.0\n",
       "dtype: float64"
      ]
     },
     "execution_count": 31,
     "metadata": {},
     "output_type": "execute_result"
    }
   ],
   "source": [
    "k = temp.sum()\n",
    "k"
   ]
  },
  {
   "cell_type": "code",
   "execution_count": 32,
   "id": "030c8110",
   "metadata": {},
   "outputs": [],
   "source": [
    "count = k.values"
   ]
  },
  {
   "cell_type": "code",
   "execution_count": 33,
   "id": "62a0f039",
   "metadata": {},
   "outputs": [
    {
     "data": {
      "image/png": "[encoded data removed]",
      "text/plain": [
       "<Figure size 1152x648 with 1 Axes>"
      ]
     },
     "metadata": {
      "needs_background": "light"
     },
     "output_type": "display_data"
    }
   ],
   "source": [
    "#Bar graph for activity based count\n",
    "fig, ax = plt.subplots(figsize =(16, 9))\n",
    " \n",
    "ax.barh(all_activities, count)\n",
    " \n",
    "for s in ['top', 'bottom', 'left', 'right']:\n",
    "    ax.spines[s].set_visible(False)\n",
    " \n",
    "ax.xaxis.set_ticks_position('none')\n",
    "ax.yaxis.set_ticks_position('none')\n",
    " \n",
    "ax.xaxis.set_tick_params(pad = 5)\n",
    "ax.yaxis.set_tick_params(pad = 10)\n",
    " \n",
    "ax.grid(b = True, color ='grey',\n",
    "        linestyle ='-.', linewidth = 0.5,\n",
    "        alpha = 0.2)\n",
    " \n",
    "ax.invert_yaxis()\n",
    " \n",
    "for i in ax.patches:\n",
    "    plt.text(i.get_width()+0.2, i.get_y()+0.5,\n",
    "             str(round((i.get_width()), 2)),\n",
    "             fontsize = 10, fontweight ='bold',\n",
    "             color ='grey')\n",
    " \n",
    "ax.set_title('Activites and Their Counts',\n",
    "             loc ='left', )\n",
    " \n",
    "plt.show()"
   ]
  },
  {
   "cell_type": "code",
   "execution_count": 34,
   "id": "0fbda24c",
   "metadata": {},
   "outputs": [],
   "source": [
    "df_crit = new_train[[\"User_ID\", \"Active\"]]"
   ]
  },
  {
   "cell_type": "code",
   "execution_count": 35,
   "id": "9e194684",
   "metadata": {},
   "outputs": [],
   "source": [
    "#Save criteria in a csv\n",
    "df_crit.to_csv(\"CriteriaData.csv\")"
   ]
  },
  {
   "cell_type": "code",
   "execution_count": 36,
   "id": "3724ccf9",
   "metadata": {},
   "outputs": [],
   "source": [
    "new_test = pd.DataFrame()"
   ]
  },
  {
   "cell_type": "code",
   "execution_count": 37,
   "id": "f9fb5c75",
   "metadata": {},
   "outputs": [],
   "source": [
    "#Activity based grouping for all months\n",
    "for i in range(len(test_df)):\n",
    "    user = test_df.loc[i]\n",
    "    created_month = user['Created At Month']\n",
    "    user_dict = {}\n",
    "    user_dict['User_ID'] = user['User_ID']\n",
    "    for activity in all_activities:\n",
    "        user_dict[f'{activity}'] = user[f'{activity}_month_{created_month}']\n",
    "\n",
    "    new_test = new_test.append(user_dict, ignore_index=True)"
   ]
  },
  {
   "cell_type": "code",
   "execution_count": 38,
   "id": "f10c4ce6",
   "metadata": {},
   "outputs": [
    {
     "data": {
      "text/html": [
       "<div>\n",
       "<style scoped>\n",
       "    .dataframe tbody tr th:only-of-type {\n",
       "        vertical-align: middle;\n",
       "    }\n",
       "\n",
       "    .dataframe tbody tr th {\n",
       "        vertical-align: top;\n",
       "    }\n",
       "\n",
       "    .dataframe thead th {\n",
       "        text-align: right;\n",
       "    }\n",
       "</style>\n",
       "<table border=\"1\" class=\"dataframe\">\n",
       "  <thead>\n",
       "    <tr style=\"text-align: right;\">\n",
       "      <th></th>\n",
       "      <th>User_ID</th>\n",
       "      <th>Downloaded_Competition_Datafile</th>\n",
       "      <th>Viewed_All_Discussions</th>\n",
       "      <th>Confirmed_Email</th>\n",
       "      <th>Joined_Competition</th>\n",
       "      <th>Signed_Up</th>\n",
       "      <th>Viewed_All_Competitions</th>\n",
       "      <th>Viewed_All_Learning_Pages</th>\n",
       "      <th>badge_OCZE</th>\n",
       "      <th>create_alias</th>\n",
       "      <th>...</th>\n",
       "      <th>Updated_Discussion</th>\n",
       "      <th>Viewed_All_Jobs</th>\n",
       "      <th>job_ID</th>\n",
       "      <th>Created_Submission</th>\n",
       "      <th>Signed_Out</th>\n",
       "      <th>Updated_Profile</th>\n",
       "      <th>blog_ID</th>\n",
       "      <th>Viewed_Discussion</th>\n",
       "      <th>Updated_Submission</th>\n",
       "      <th>badge_HYIO</th>\n",
       "    </tr>\n",
       "  </thead>\n",
       "  <tbody>\n",
       "    <tr>\n",
       "      <th>0</th>\n",
       "      <td>ID_ZZMHNLNT</td>\n",
       "      <td>0.0</td>\n",
       "      <td>1.0</td>\n",
       "      <td>1.0</td>\n",
       "      <td>0.0</td>\n",
       "      <td>1.0</td>\n",
       "      <td>1.0</td>\n",
       "      <td>1.0</td>\n",
       "      <td>1.0</td>\n",
       "      <td>1.0</td>\n",
       "      <td>...</td>\n",
       "      <td>0.0</td>\n",
       "      <td>0.0</td>\n",
       "      <td>0.0</td>\n",
       "      <td>0.0</td>\n",
       "      <td>0.0</td>\n",
       "      <td>0.0</td>\n",
       "      <td>0.0</td>\n",
       "      <td>0.0</td>\n",
       "      <td>0.0</td>\n",
       "      <td>0.0</td>\n",
       "    </tr>\n",
       "    <tr>\n",
       "      <th>1</th>\n",
       "      <td>ID_ZWDD4T41</td>\n",
       "      <td>0.0</td>\n",
       "      <td>1.0</td>\n",
       "      <td>0.0</td>\n",
       "      <td>0.0</td>\n",
       "      <td>1.0</td>\n",
       "      <td>1.0</td>\n",
       "      <td>3.0</td>\n",
       "      <td>0.0</td>\n",
       "      <td>1.0</td>\n",
       "      <td>...</td>\n",
       "      <td>0.0</td>\n",
       "      <td>0.0</td>\n",
       "      <td>0.0</td>\n",
       "      <td>0.0</td>\n",
       "      <td>0.0</td>\n",
       "      <td>0.0</td>\n",
       "      <td>2.0</td>\n",
       "      <td>0.0</td>\n",
       "      <td>0.0</td>\n",
       "      <td>0.0</td>\n",
       "    </tr>\n",
       "    <tr>\n",
       "      <th>2</th>\n",
       "      <td>ID_ZUVTLGY7</td>\n",
       "      <td>4.0</td>\n",
       "      <td>13.0</td>\n",
       "      <td>1.0</td>\n",
       "      <td>1.0</td>\n",
       "      <td>1.0</td>\n",
       "      <td>5.0</td>\n",
       "      <td>3.0</td>\n",
       "      <td>1.0</td>\n",
       "      <td>0.0</td>\n",
       "      <td>...</td>\n",
       "      <td>0.0</td>\n",
       "      <td>5.0</td>\n",
       "      <td>3.0</td>\n",
       "      <td>20.0</td>\n",
       "      <td>0.0</td>\n",
       "      <td>0.0</td>\n",
       "      <td>0.0</td>\n",
       "      <td>0.0</td>\n",
       "      <td>12.0</td>\n",
       "      <td>0.0</td>\n",
       "    </tr>\n",
       "    <tr>\n",
       "      <th>3</th>\n",
       "      <td>ID_ZT27LY0Q</td>\n",
       "      <td>0.0</td>\n",
       "      <td>1.0</td>\n",
       "      <td>1.0</td>\n",
       "      <td>0.0</td>\n",
       "      <td>1.0</td>\n",
       "      <td>1.0</td>\n",
       "      <td>1.0</td>\n",
       "      <td>1.0</td>\n",
       "      <td>1.0</td>\n",
       "      <td>...</td>\n",
       "      <td>0.0</td>\n",
       "      <td>0.0</td>\n",
       "      <td>0.0</td>\n",
       "      <td>0.0</td>\n",
       "      <td>0.0</td>\n",
       "      <td>2.0</td>\n",
       "      <td>0.0</td>\n",
       "      <td>0.0</td>\n",
       "      <td>0.0</td>\n",
       "      <td>0.0</td>\n",
       "    </tr>\n",
       "    <tr>\n",
       "      <th>4</th>\n",
       "      <td>ID_ZQM6PUGO</td>\n",
       "      <td>0.0</td>\n",
       "      <td>3.0</td>\n",
       "      <td>0.0</td>\n",
       "      <td>0.0</td>\n",
       "      <td>1.0</td>\n",
       "      <td>2.0</td>\n",
       "      <td>2.0</td>\n",
       "      <td>0.0</td>\n",
       "      <td>1.0</td>\n",
       "      <td>...</td>\n",
       "      <td>0.0</td>\n",
       "      <td>3.0</td>\n",
       "      <td>0.0</td>\n",
       "      <td>0.0</td>\n",
       "      <td>0.0</td>\n",
       "      <td>0.0</td>\n",
       "      <td>0.0</td>\n",
       "      <td>0.0</td>\n",
       "      <td>0.0</td>\n",
       "      <td>0.0</td>\n",
       "    </tr>\n",
       "    <tr>\n",
       "      <th>...</th>\n",
       "      <td>...</td>\n",
       "      <td>...</td>\n",
       "      <td>...</td>\n",
       "      <td>...</td>\n",
       "      <td>...</td>\n",
       "      <td>...</td>\n",
       "      <td>...</td>\n",
       "      <td>...</td>\n",
       "      <td>...</td>\n",
       "      <td>...</td>\n",
       "      <td>...</td>\n",
       "      <td>...</td>\n",
       "      <td>...</td>\n",
       "      <td>...</td>\n",
       "      <td>...</td>\n",
       "      <td>...</td>\n",
       "      <td>...</td>\n",
       "      <td>...</td>\n",
       "      <td>...</td>\n",
       "      <td>...</td>\n",
       "      <td>...</td>\n",
       "    </tr>\n",
       "    <tr>\n",
       "      <th>733</th>\n",
       "      <td>ID_04OT901K</td>\n",
       "      <td>2.0</td>\n",
       "      <td>3.0</td>\n",
       "      <td>1.0</td>\n",
       "      <td>1.0</td>\n",
       "      <td>1.0</td>\n",
       "      <td>2.0</td>\n",
       "      <td>2.0</td>\n",
       "      <td>1.0</td>\n",
       "      <td>1.0</td>\n",
       "      <td>...</td>\n",
       "      <td>0.0</td>\n",
       "      <td>0.0</td>\n",
       "      <td>0.0</td>\n",
       "      <td>1.0</td>\n",
       "      <td>0.0</td>\n",
       "      <td>0.0</td>\n",
       "      <td>0.0</td>\n",
       "      <td>0.0</td>\n",
       "      <td>0.0</td>\n",
       "      <td>0.0</td>\n",
       "    </tr>\n",
       "    <tr>\n",
       "      <th>734</th>\n",
       "      <td>ID_04GIS1QZ</td>\n",
       "      <td>0.0</td>\n",
       "      <td>2.0</td>\n",
       "      <td>1.0</td>\n",
       "      <td>0.0</td>\n",
       "      <td>1.0</td>\n",
       "      <td>7.0</td>\n",
       "      <td>1.0</td>\n",
       "      <td>1.0</td>\n",
       "      <td>0.0</td>\n",
       "      <td>...</td>\n",
       "      <td>0.0</td>\n",
       "      <td>0.0</td>\n",
       "      <td>0.0</td>\n",
       "      <td>0.0</td>\n",
       "      <td>0.0</td>\n",
       "      <td>0.0</td>\n",
       "      <td>0.0</td>\n",
       "      <td>0.0</td>\n",
       "      <td>0.0</td>\n",
       "      <td>0.0</td>\n",
       "    </tr>\n",
       "    <tr>\n",
       "      <th>735</th>\n",
       "      <td>ID_02F14MDW</td>\n",
       "      <td>0.0</td>\n",
       "      <td>1.0</td>\n",
       "      <td>0.0</td>\n",
       "      <td>0.0</td>\n",
       "      <td>1.0</td>\n",
       "      <td>1.0</td>\n",
       "      <td>1.0</td>\n",
       "      <td>0.0</td>\n",
       "      <td>1.0</td>\n",
       "      <td>...</td>\n",
       "      <td>0.0</td>\n",
       "      <td>0.0</td>\n",
       "      <td>0.0</td>\n",
       "      <td>0.0</td>\n",
       "      <td>0.0</td>\n",
       "      <td>3.0</td>\n",
       "      <td>0.0</td>\n",
       "      <td>0.0</td>\n",
       "      <td>0.0</td>\n",
       "      <td>0.0</td>\n",
       "    </tr>\n",
       "    <tr>\n",
       "      <th>736</th>\n",
       "      <td>ID_028JJTDW</td>\n",
       "      <td>2.0</td>\n",
       "      <td>2.0</td>\n",
       "      <td>1.0</td>\n",
       "      <td>0.0</td>\n",
       "      <td>1.0</td>\n",
       "      <td>1.0</td>\n",
       "      <td>1.0</td>\n",
       "      <td>1.0</td>\n",
       "      <td>1.0</td>\n",
       "      <td>...</td>\n",
       "      <td>0.0</td>\n",
       "      <td>0.0</td>\n",
       "      <td>0.0</td>\n",
       "      <td>2.0</td>\n",
       "      <td>0.0</td>\n",
       "      <td>0.0</td>\n",
       "      <td>0.0</td>\n",
       "      <td>0.0</td>\n",
       "      <td>0.0</td>\n",
       "      <td>0.0</td>\n",
       "    </tr>\n",
       "    <tr>\n",
       "      <th>737</th>\n",
       "      <td>ID_003YJHQA</td>\n",
       "      <td>0.0</td>\n",
       "      <td>2.0</td>\n",
       "      <td>1.0</td>\n",
       "      <td>0.0</td>\n",
       "      <td>1.0</td>\n",
       "      <td>1.0</td>\n",
       "      <td>1.0</td>\n",
       "      <td>1.0</td>\n",
       "      <td>1.0</td>\n",
       "      <td>...</td>\n",
       "      <td>0.0</td>\n",
       "      <td>0.0</td>\n",
       "      <td>0.0</td>\n",
       "      <td>0.0</td>\n",
       "      <td>0.0</td>\n",
       "      <td>2.0</td>\n",
       "      <td>0.0</td>\n",
       "      <td>0.0</td>\n",
       "      <td>0.0</td>\n",
       "      <td>0.0</td>\n",
       "    </tr>\n",
       "  </tbody>\n",
       "</table>\n",
       "<p>738 rows × 23 columns</p>\n",
       "</div>"
      ],
      "text/plain": [
       "         User_ID  Downloaded_Competition_Datafile  Viewed_All_Discussions  \\\n",
       "0    ID_ZZMHNLNT                              0.0                     1.0   \n",
       "1    ID_ZWDD4T41                              0.0                     1.0   \n",
       "2    ID_ZUVTLGY7                              4.0                    13.0   \n",
       "3    ID_ZT27LY0Q                              0.0                     1.0   \n",
       "4    ID_ZQM6PUGO                              0.0                     3.0   \n",
       "..           ...                              ...                     ...   \n",
       "733  ID_04OT901K                              2.0                     3.0   \n",
       "734  ID_04GIS1QZ                              0.0                     2.0   \n",
       "735  ID_02F14MDW                              0.0                     1.0   \n",
       "736  ID_028JJTDW                              2.0                     2.0   \n",
       "737  ID_003YJHQA                              0.0                     2.0   \n",
       "\n",
       "     Confirmed_Email  Joined_Competition  Signed_Up  Viewed_All_Competitions  \\\n",
       "0                1.0                 0.0        1.0                      1.0   \n",
       "1                0.0                 0.0        1.0                      1.0   \n",
       "2                1.0                 1.0        1.0                      5.0   \n",
       "3                1.0                 0.0        1.0                      1.0   \n",
       "4                0.0                 0.0        1.0                      2.0   \n",
       "..               ...                 ...        ...                      ...   \n",
       "733              1.0                 1.0        1.0                      2.0   \n",
       "734              1.0                 0.0        1.0                      7.0   \n",
       "735              0.0                 0.0        1.0                      1.0   \n",
       "736              1.0                 0.0        1.0                      1.0   \n",
       "737              1.0                 0.0        1.0                      1.0   \n",
       "\n",
       "     Viewed_All_Learning_Pages  badge_OCZE  create_alias  ...  \\\n",
       "0                          1.0         1.0           1.0  ...   \n",
       "1                          3.0         0.0           1.0  ...   \n",
       "2                          3.0         1.0           0.0  ...   \n",
       "3                          1.0         1.0           1.0  ...   \n",
       "4                          2.0         0.0           1.0  ...   \n",
       "..                         ...         ...           ...  ...   \n",
       "733                        2.0         1.0           1.0  ...   \n",
       "734                        1.0         1.0           0.0  ...   \n",
       "735                        1.0         0.0           1.0  ...   \n",
       "736                        1.0         1.0           1.0  ...   \n",
       "737                        1.0         1.0           1.0  ...   \n",
       "\n",
       "     Updated_Discussion  Viewed_All_Jobs  job_ID  Created_Submission  \\\n",
       "0                   0.0              0.0     0.0                 0.0   \n",
       "1                   0.0              0.0     0.0                 0.0   \n",
       "2                   0.0              5.0     3.0                20.0   \n",
       "3                   0.0              0.0     0.0                 0.0   \n",
       "4                   0.0              3.0     0.0                 0.0   \n",
       "..                  ...              ...     ...                 ...   \n",
       "733                 0.0              0.0     0.0                 1.0   \n",
       "734                 0.0              0.0     0.0                 0.0   \n",
       "735                 0.0              0.0     0.0                 0.0   \n",
       "736                 0.0              0.0     0.0                 2.0   \n",
       "737                 0.0              0.0     0.0                 0.0   \n",
       "\n",
       "     Signed_Out  Updated_Profile  blog_ID  Viewed_Discussion  \\\n",
       "0           0.0              0.0      0.0                0.0   \n",
       "1           0.0              0.0      2.0                0.0   \n",
       "2           0.0              0.0      0.0                0.0   \n",
       "3           0.0              2.0      0.0                0.0   \n",
       "4           0.0              0.0      0.0                0.0   \n",
       "..          ...              ...      ...                ...   \n",
       "733         0.0              0.0      0.0                0.0   \n",
       "734         0.0              0.0      0.0                0.0   \n",
       "735         0.0              3.0      0.0                0.0   \n",
       "736         0.0              0.0      0.0                0.0   \n",
       "737         0.0              2.0      0.0                0.0   \n",
       "\n",
       "     Updated_Submission  badge_HYIO  \n",
       "0                   0.0         0.0  \n",
       "1                   0.0         0.0  \n",
       "2                  12.0         0.0  \n",
       "3                   0.0         0.0  \n",
       "4                   0.0         0.0  \n",
       "..                  ...         ...  \n",
       "733                 0.0         0.0  \n",
       "734                 0.0         0.0  \n",
       "735                 0.0         0.0  \n",
       "736                 0.0         0.0  \n",
       "737                 0.0         0.0  \n",
       "\n",
       "[738 rows x 23 columns]"
      ]
     },
     "execution_count": 38,
     "metadata": {},
     "output_type": "execute_result"
    }
   ],
   "source": [
    "new_test"
   ]
  },
  {
   "cell_type": "code",
   "execution_count": 39,
   "id": "2edd5043",
   "metadata": {},
   "outputs": [
    {
     "data": {
      "text/plain": [
       "0.0    4319\n",
       "1.0     917\n",
       "Name: Active, dtype: int64"
      ]
     },
     "execution_count": 39,
     "metadata": {},
     "output_type": "execute_result"
    }
   ],
   "source": [
    "new_train.Active.value_counts()"
   ]
  },
  {
   "cell_type": "code",
   "execution_count": 42,
   "id": "702dfa0a",
   "metadata": {},
   "outputs": [],
   "source": [
    "train_df = new_train.reset_index(drop=True)\n",
    "test_df = new_test.reset_index(drop=True)"
   ]
  },
  {
   "cell_type": "markdown",
   "id": "22b65c13",
   "metadata": {},
   "source": [
    "# MODEL TRAINING"
   ]
  },
  {
   "cell_type": "code",
   "execution_count": 43,
   "id": "a16a9437",
   "metadata": {},
   "outputs": [],
   "source": [
    "from sklearn.metrics import accuracy_score\n",
    "from sklearn.metrics import f1_score\n",
    "import time"
   ]
  },
  {
   "cell_type": "code",
   "execution_count": 44,
   "id": "9b2a2bdf",
   "metadata": {},
   "outputs": [],
   "source": [
    "main_cols = train_df.columns.difference([\n",
    "    'User_ID', 'Active', \n",
    "])"
   ]
  },
  {
   "cell_type": "code",
   "execution_count": 45,
   "id": "5a7b0fd9",
   "metadata": {},
   "outputs": [],
   "source": [
    "X = train_df[main_cols]\n",
    "y = train_df['Active']\n",
    "test = test_df[main_cols]"
   ]
  },
  {
   "cell_type": "markdown",
   "id": "de8cfb12",
   "metadata": {},
   "source": [
    "## Logistic Regression"
   ]
  },
  {
   "cell_type": "code",
   "execution_count": 46,
   "id": "acc9fcb7",
   "metadata": {},
   "outputs": [],
   "source": [
    "from sklearn.linear_model import LogisticRegression"
   ]
  },
  {
   "cell_type": "code",
   "execution_count": 47,
   "id": "358ae1f6",
   "metadata": {},
   "outputs": [],
   "source": [
    "clf = LogisticRegression(random_state=0, max_iter=40)"
   ]
  },
  {
   "cell_type": "code",
   "execution_count": 48,
   "id": "cc4c5618",
   "metadata": {},
   "outputs": [],
   "source": [
    "start = time.time()\n",
    "clf = LogisticRegression(random_state=0, max_iter=40).fit(X, y)\n",
    "end = time.time()"
   ]
  },
  {
   "cell_type": "code",
   "execution_count": 49,
   "id": "b7611644",
   "metadata": {},
   "outputs": [],
   "source": [
    "y_p = clf.predict(X)"
   ]
  },
  {
   "cell_type": "code",
   "execution_count": 50,
   "id": "a9cdc8c9",
   "metadata": {},
   "outputs": [
    {
     "data": {
      "text/plain": [
       "0.20239190432382706"
      ]
     },
     "execution_count": 50,
     "metadata": {},
     "output_type": "execute_result"
    }
   ],
   "source": [
    "f1_score(y, y_p)"
   ]
  },
  {
   "cell_type": "code",
   "execution_count": 51,
   "id": "b81018dd",
   "metadata": {},
   "outputs": [
    {
     "data": {
      "text/plain": [
       "0.8344155844155844"
      ]
     },
     "execution_count": 51,
     "metadata": {},
     "output_type": "execute_result"
    }
   ],
   "source": [
    "accuracy_score(y, y_p)"
   ]
  },
  {
   "cell_type": "code",
   "execution_count": 52,
   "id": "2fdfdd62",
   "metadata": {},
   "outputs": [
    {
     "name": "stdout",
     "output_type": "stream",
     "text": [
      "0.7540464401245117\n"
     ]
    }
   ],
   "source": [
    "print(end - start)"
   ]
  },
  {
   "cell_type": "code",
   "execution_count": 53,
   "id": "37618d2e",
   "metadata": {},
   "outputs": [
    {
     "data": {
      "text/plain": [
       "11"
      ]
     },
     "execution_count": 53,
     "metadata": {},
     "output_type": "execute_result"
    }
   ],
   "source": [
    "op.countOf(clf.predict(test), 1)"
   ]
  },
  {
   "cell_type": "markdown",
   "id": "5a12d809",
   "metadata": {},
   "source": [
    "## KNN"
   ]
  },
  {
   "cell_type": "code",
   "execution_count": 54,
   "id": "5130a2f2",
   "metadata": {},
   "outputs": [],
   "source": [
    "from sklearn.neighbors import KNeighborsClassifier"
   ]
  },
  {
   "cell_type": "code",
   "execution_count": 55,
   "id": "0c311008",
   "metadata": {},
   "outputs": [],
   "source": [
    "start = time.time()\n",
    "neigh = KNeighborsClassifier(n_neighbors=10).fit(X, y)\n",
    "end = time.time()"
   ]
  },
  {
   "cell_type": "code",
   "execution_count": 56,
   "id": "7611676a",
   "metadata": {},
   "outputs": [],
   "source": [
    "y_pred = neigh.predict(X)"
   ]
  },
  {
   "cell_type": "code",
   "execution_count": 57,
   "id": "1c51f6ae",
   "metadata": {},
   "outputs": [
    {
     "data": {
      "text/plain": [
       "0.23669724770642203"
      ]
     },
     "execution_count": 57,
     "metadata": {},
     "output_type": "execute_result"
    }
   ],
   "source": [
    "f1_score(y, y_pred)"
   ]
  },
  {
   "cell_type": "code",
   "execution_count": 58,
   "id": "891110fd",
   "metadata": {},
   "outputs": [
    {
     "data": {
      "text/plain": [
       "0.841100076394194"
      ]
     },
     "execution_count": 58,
     "metadata": {},
     "output_type": "execute_result"
    }
   ],
   "source": [
    "accuracy_score(y, y_pred)"
   ]
  },
  {
   "cell_type": "code",
   "execution_count": 59,
   "id": "facbeffb",
   "metadata": {},
   "outputs": [
    {
     "name": "stdout",
     "output_type": "stream",
     "text": [
      "0.004990100860595703\n"
     ]
    }
   ],
   "source": [
    "print(end - start)"
   ]
  },
  {
   "cell_type": "code",
   "execution_count": 60,
   "id": "90d5f044",
   "metadata": {},
   "outputs": [
    {
     "data": {
      "text/plain": [
       "22"
      ]
     },
     "execution_count": 60,
     "metadata": {},
     "output_type": "execute_result"
    }
   ],
   "source": [
    "op.countOf(neigh.predict(test), 1)"
   ]
  },
  {
   "cell_type": "markdown",
   "id": "e0858b01",
   "metadata": {},
   "source": [
    "## SVM"
   ]
  },
  {
   "cell_type": "code",
   "execution_count": 61,
   "id": "9afbdbe9",
   "metadata": {},
   "outputs": [],
   "source": [
    "from sklearn.svm import SVC"
   ]
  },
  {
   "cell_type": "code",
   "execution_count": 62,
   "id": "f22f36b2",
   "metadata": {},
   "outputs": [],
   "source": [
    "start = time.time()\n",
    "clf1 = SVC(kernel='rbf', gamma='scale').fit(X, y)\n",
    "end = time.time()"
   ]
  },
  {
   "cell_type": "code",
   "execution_count": 63,
   "id": "bb2312d4",
   "metadata": {},
   "outputs": [],
   "source": [
    "y_pred = clf1.predict(X)"
   ]
  },
  {
   "cell_type": "code",
   "execution_count": 64,
   "id": "826f3e70",
   "metadata": {},
   "outputs": [
    {
     "data": {
      "text/plain": [
       "0.8504583651642476"
      ]
     },
     "execution_count": 64,
     "metadata": {},
     "output_type": "execute_result"
    }
   ],
   "source": [
    "accuracy_score(y, y_pred)"
   ]
  },
  {
   "cell_type": "code",
   "execution_count": 65,
   "id": "82cf7930",
   "metadata": {},
   "outputs": [
    {
     "data": {
      "text/plain": [
       "0.2702702702702703"
      ]
     },
     "execution_count": 65,
     "metadata": {},
     "output_type": "execute_result"
    }
   ],
   "source": [
    "f1_score(y, y_pred)"
   ]
  },
  {
   "cell_type": "code",
   "execution_count": 66,
   "id": "35ca7c94",
   "metadata": {},
   "outputs": [
    {
     "name": "stdout",
     "output_type": "stream",
     "text": [
      "1.0584168434143066\n"
     ]
    }
   ],
   "source": [
    "print(end - start)"
   ]
  },
  {
   "cell_type": "code",
   "execution_count": 67,
   "id": "48e11bb3",
   "metadata": {},
   "outputs": [
    {
     "data": {
      "text/plain": [
       "11"
      ]
     },
     "execution_count": 67,
     "metadata": {},
     "output_type": "execute_result"
    }
   ],
   "source": [
    "op.countOf(clf1.predict(test), 1)"
   ]
  },
  {
   "cell_type": "markdown",
   "id": "389aac20",
   "metadata": {},
   "source": [
    "## Random Forest"
   ]
  },
  {
   "cell_type": "code",
   "execution_count": 68,
   "id": "47fe8141",
   "metadata": {},
   "outputs": [],
   "source": [
    "from sklearn.ensemble import RandomForestClassifier"
   ]
  },
  {
   "cell_type": "code",
   "execution_count": 69,
   "id": "18b13677",
   "metadata": {},
   "outputs": [],
   "source": [
    "clf2 = RandomForestClassifier(n_estimators=15).fit(X, y)"
   ]
  },
  {
   "cell_type": "code",
   "execution_count": 70,
   "id": "9b21d961",
   "metadata": {},
   "outputs": [],
   "source": [
    "from sklearn.model_selection import RandomizedSearchCV"
   ]
  },
  {
   "cell_type": "code",
   "execution_count": 71,
   "id": "8a5b2425",
   "metadata": {},
   "outputs": [],
   "source": [
    "n_estimators = [int(x) for x in np.linspace(start = 80, stop = 2000, num = 10)]\n",
    "max_features = ['sqrt', 'log2']\n",
    "max_depth = [int(x) for x in np.linspace(10, 110, num = 11)]\n",
    "max_depth.append(None)\n",
    "min_samples_split = [2, 5, 10]\n",
    "min_samples_leaf = [1, 2, 4]"
   ]
  },
  {
   "cell_type": "code",
   "execution_count": 72,
   "id": "49949f34",
   "metadata": {},
   "outputs": [],
   "source": [
    "random_grid = {'n_estimators': n_estimators,\n",
    "               'max_features': max_features,\n",
    "               'max_depth': max_depth,\n",
    "               'min_samples_split': min_samples_split,\n",
    "               'min_samples_leaf': min_samples_leaf}"
   ]
  },
  {
   "cell_type": "code",
   "execution_count": 73,
   "id": "9f294d5e",
   "metadata": {},
   "outputs": [],
   "source": [
    "rf_random = RandomizedSearchCV(estimator = clf2, param_distributions = random_grid, \n",
    "                               n_iter = 10, cv = 3, verbose=2, random_state=42, n_jobs = -1)"
   ]
  },
  {
   "cell_type": "code",
   "execution_count": 74,
   "id": "360ce6c4",
   "metadata": {},
   "outputs": [
    {
     "name": "stdout",
     "output_type": "stream",
     "text": [
      "Fitting 3 folds for each of 10 candidates, totalling 30 fits\n"
     ]
    },
    {
     "data": {
      "text/html": [
       "<style>#sk-container-id-1 {color: black;background-color: white;}#sk-container-id-1 pre{padding: 0;}#sk-container-id-1 div.sk-toggleable {background-color: white;}#sk-container-id-1 label.sk-toggleable__label {cursor: pointer;display: block;width: 100%;margin-bottom: 0;padding: 0.3em;box-sizing: border-box;text-align: center;}#sk-container-id-1 label.sk-toggleable__label-arrow:before {content: \"▸\";float: left;margin-right: 0.25em;color: #696969;}#sk-container-id-1 label.sk-toggleable__label-arrow:hover:before {color: black;}#sk-container-id-1 div.sk-estimator:hover label.sk-toggleable__label-arrow:before {color: black;}#sk-container-id-1 div.sk-toggleable__content {max-height: 0;max-width: 0;overflow: hidden;text-align: left;background-color: #f0f8ff;}#sk-container-id-1 div.sk-toggleable__content pre {margin: 0.2em;color: black;border-radius: 0.25em;background-color: #f0f8ff;}#sk-container-id-1 input.sk-toggleable__control:checked~div.sk-toggleable__content {max-height: 200px;max-width: 100%;overflow: auto;}#sk-container-id-1 input.sk-toggleable__control:checked~label.sk-toggleable__label-arrow:before {content: \"▾\";}#sk-container-id-1 div.sk-estimator input.sk-toggleable__control:checked~label.sk-toggleable__label {background-color: #d4ebff;}#sk-container-id-1 div.sk-label input.sk-toggleable__control:checked~label.sk-toggleable__label {background-color: #d4ebff;}#sk-container-id-1 input.sk-hidden--visually {border: 0;clip: rect(1px 1px 1px 1px);clip: rect(1px, 1px, 1px, 1px);height: 1px;margin: -1px;overflow: hidden;padding: 0;position: absolute;width: 1px;}#sk-container-id-1 div.sk-estimator {font-family: monospace;background-color: #f0f8ff;border: 1px dotted black;border-radius: 0.25em;box-sizing: border-box;margin-bottom: 0.5em;}#sk-container-id-1 div.sk-estimator:hover {background-color: #d4ebff;}#sk-container-id-1 div.sk-parallel-item::after {content: \"\";width: 100%;border-bottom: 1px solid gray;flex-grow: 1;}#sk-container-id-1 div.sk-label:hover label.sk-toggleable__label {background-color: #d4ebff;}#sk-container-id-1 div.sk-serial::before {content: \"\";position: absolute;border-left: 1px solid gray;box-sizing: border-box;top: 0;bottom: 0;left: 50%;z-index: 0;}#sk-container-id-1 div.sk-serial {display: flex;flex-direction: column;align-items: center;background-color: white;padding-right: 0.2em;padding-left: 0.2em;position: relative;}#sk-container-id-1 div.sk-item {position: relative;z-index: 1;}#sk-container-id-1 div.sk-parallel {display: flex;align-items: stretch;justify-content: center;background-color: white;position: relative;}#sk-container-id-1 div.sk-item::before, #sk-container-id-1 div.sk-parallel-item::before {content: \"\";position: absolute;border-left: 1px solid gray;box-sizing: border-box;top: 0;bottom: 0;left: 50%;z-index: -1;}#sk-container-id-1 div.sk-parallel-item {display: flex;flex-direction: column;z-index: 1;position: relative;background-color: white;}#sk-container-id-1 div.sk-parallel-item:first-child::after {align-self: flex-end;width: 50%;}#sk-container-id-1 div.sk-parallel-item:last-child::after {align-self: flex-start;width: 50%;}#sk-container-id-1 div.sk-parallel-item:only-child::after {width: 0;}#sk-container-id-1 div.sk-dashed-wrapped {border: 1px dashed gray;margin: 0 0.4em 0.5em 0.4em;box-sizing: border-box;padding-bottom: 0.4em;background-color: white;}#sk-container-id-1 div.sk-label label {font-family: monospace;font-weight: bold;display: inline-block;line-height: 1.2em;}#sk-container-id-1 div.sk-label-container {text-align: center;}#sk-container-id-1 div.sk-container {/* jupyter's `normalize.less` sets `[hidden] { display: none; }` but bootstrap.min.css set `[hidden] { display: none !important; }` so we also need the `!important` here to be able to override the default hidden behavior on the sphinx rendered scikit-learn.org. See: https://github.com/scikit-learn/scikit-learn/issues/21755 */display: inline-block !important;position: relative;}#sk-container-id-1 div.sk-text-repr-fallback {display: none;}</style><div id=\"sk-container-id-1\" class=\"sk-top-container\"><div class=\"sk-text-repr-fallback\"><pre>RandomizedSearchCV(cv=3, estimator=RandomForestClassifier(n_estimators=15),\n",
       "                   n_jobs=-1,\n",
       "                   param_distributions={&#x27;max_depth&#x27;: [10, 20, 30, 40, 50, 60,\n",
       "                                                      70, 80, 90, 100, 110,\n",
       "                                                      None],\n",
       "                                        &#x27;max_features&#x27;: [&#x27;sqrt&#x27;, &#x27;log2&#x27;],\n",
       "                                        &#x27;min_samples_leaf&#x27;: [1, 2, 4],\n",
       "                                        &#x27;min_samples_split&#x27;: [2, 5, 10],\n",
       "                                        &#x27;n_estimators&#x27;: [80, 293, 506, 720, 933,\n",
       "                                                         1146, 1360, 1573, 1786,\n",
       "                                                         2000]},\n",
       "                   random_state=42, verbose=2)</pre><b>In a Jupyter environment, please rerun this cell to show the HTML representation or trust the notebook. <br />On GitHub, the HTML representation is unable to render, please try loading this page with nbviewer.org.</b></div><div class=\"sk-container\" hidden><div class=\"sk-item sk-dashed-wrapped\"><div class=\"sk-label-container\"><div class=\"sk-label sk-toggleable\"><input class=\"sk-toggleable__control sk-hidden--visually\" id=\"sk-estimator-id-1\" type=\"checkbox\" ><label for=\"sk-estimator-id-1\" class=\"sk-toggleable__label sk-toggleable__label-arrow\">RandomizedSearchCV</label><div class=\"sk-toggleable__content\"><pre>RandomizedSearchCV(cv=3, estimator=RandomForestClassifier(n_estimators=15),\n",
       "                   n_jobs=-1,\n",
       "                   param_distributions={&#x27;max_depth&#x27;: [10, 20, 30, 40, 50, 60,\n",
       "                                                      70, 80, 90, 100, 110,\n",
       "                                                      None],\n",
       "                                        &#x27;max_features&#x27;: [&#x27;sqrt&#x27;, &#x27;log2&#x27;],\n",
       "                                        &#x27;min_samples_leaf&#x27;: [1, 2, 4],\n",
       "                                        &#x27;min_samples_split&#x27;: [2, 5, 10],\n",
       "                                        &#x27;n_estimators&#x27;: [80, 293, 506, 720, 933,\n",
       "                                                         1146, 1360, 1573, 1786,\n",
       "                                                         2000]},\n",
       "                   random_state=42, verbose=2)</pre></div></div></div><div class=\"sk-parallel\"><div class=\"sk-parallel-item\"><div class=\"sk-item\"><div class=\"sk-label-container\"><div class=\"sk-label sk-toggleable\"><input class=\"sk-toggleable__control sk-hidden--visually\" id=\"sk-estimator-id-2\" type=\"checkbox\" ><label for=\"sk-estimator-id-2\" class=\"sk-toggleable__label sk-toggleable__label-arrow\">estimator: RandomForestClassifier</label><div class=\"sk-toggleable__content\"><pre>RandomForestClassifier(n_estimators=15)</pre></div></div></div><div class=\"sk-serial\"><div class=\"sk-item\"><div class=\"sk-estimator sk-toggleable\"><input class=\"sk-toggleable__control sk-hidden--visually\" id=\"sk-estimator-id-3\" type=\"checkbox\" ><label for=\"sk-estimator-id-3\" class=\"sk-toggleable__label sk-toggleable__label-arrow\">RandomForestClassifier</label><div class=\"sk-toggleable__content\"><pre>RandomForestClassifier(n_estimators=15)</pre></div></div></div></div></div></div></div></div></div></div>"
      ],
      "text/plain": [
       "RandomizedSearchCV(cv=3, estimator=RandomForestClassifier(n_estimators=15),\n",
       "                   n_jobs=-1,\n",
       "                   param_distributions={'max_depth': [10, 20, 30, 40, 50, 60,\n",
       "                                                      70, 80, 90, 100, 110,\n",
       "                                                      None],\n",
       "                                        'max_features': ['sqrt', 'log2'],\n",
       "                                        'min_samples_leaf': [1, 2, 4],\n",
       "                                        'min_samples_split': [2, 5, 10],\n",
       "                                        'n_estimators': [80, 293, 506, 720, 933,\n",
       "                                                         1146, 1360, 1573, 1786,\n",
       "                                                         2000]},\n",
       "                   random_state=42, verbose=2)"
      ]
     },
     "execution_count": 74,
     "metadata": {},
     "output_type": "execute_result"
    }
   ],
   "source": [
    "rf_random.fit(X, y)"
   ]
  },
  {
   "cell_type": "code",
   "execution_count": 75,
   "id": "cdafa750",
   "metadata": {},
   "outputs": [
    {
     "data": {
      "text/plain": [
       "{'n_estimators': 933,\n",
       " 'min_samples_split': 2,\n",
       " 'min_samples_leaf': 2,\n",
       " 'max_features': 'sqrt',\n",
       " 'max_depth': 80}"
      ]
     },
     "execution_count": 75,
     "metadata": {},
     "output_type": "execute_result"
    }
   ],
   "source": [
    "rf_random.best_params_"
   ]
  },
  {
   "cell_type": "code",
   "execution_count": 76,
   "id": "372e4c29",
   "metadata": {},
   "outputs": [],
   "source": [
    "start = time.time()\n",
    "clf2 = RandomForestClassifier(n_estimators=80, min_samples_split=2, \n",
    "                              min_samples_leaf=4, max_features='log2', \n",
    "                              max_depth=20).fit(X, y)\n",
    "end = time.time()"
   ]
  },
  {
   "cell_type": "code",
   "execution_count": 77,
   "id": "6d8fa850",
   "metadata": {},
   "outputs": [],
   "source": [
    "y_pred = clf2.predict(X)"
   ]
  },
  {
   "cell_type": "code",
   "execution_count": 78,
   "id": "cc23ebf0",
   "metadata": {},
   "outputs": [
    {
     "data": {
      "text/plain": [
       "0.8672650878533231"
      ]
     },
     "execution_count": 78,
     "metadata": {},
     "output_type": "execute_result"
    }
   ],
   "source": [
    "accuracy_score(y, y_pred)"
   ]
  },
  {
   "cell_type": "code",
   "execution_count": 79,
   "id": "fae33489",
   "metadata": {},
   "outputs": [
    {
     "data": {
      "text/plain": [
       "0.40547476475620187"
      ]
     },
     "execution_count": 79,
     "metadata": {},
     "output_type": "execute_result"
    }
   ],
   "source": [
    "f1_score(y, y_pred)"
   ]
  },
  {
   "cell_type": "code",
   "execution_count": 80,
   "id": "1da26216",
   "metadata": {},
   "outputs": [
    {
     "name": "stdout",
     "output_type": "stream",
     "text": [
      "0.3244004249572754\n"
     ]
    }
   ],
   "source": [
    "print(end - start)"
   ]
  },
  {
   "cell_type": "code",
   "execution_count": 81,
   "id": "5c9cbda4",
   "metadata": {},
   "outputs": [
    {
     "data": {
      "text/plain": [
       "19"
      ]
     },
     "execution_count": 81,
     "metadata": {},
     "output_type": "execute_result"
    }
   ],
   "source": [
    "op.countOf(clf2.predict(test), 1)"
   ]
  },
  {
   "cell_type": "markdown",
   "id": "2dcd9210",
   "metadata": {},
   "source": [
    "## LightGBM"
   ]
  },
  {
   "cell_type": "code",
   "execution_count": 82,
   "id": "7dfe3412",
   "metadata": {},
   "outputs": [
    {
     "name": "stdout",
     "output_type": "stream",
     "text": [
      "Requirement already satisfied: lightgbm in c:\\users\\hp\\anaconda3\\lib\\site-packages (3.3.3)\n",
      "Requirement already satisfied: numpy in c:\\users\\hp\\anaconda3\\lib\\site-packages (from lightgbm) (1.20.3)\n",
      "Requirement already satisfied: wheel in c:\\users\\hp\\anaconda3\\lib\\site-packages (from lightgbm) (0.37.0)\n",
      "Requirement already satisfied: scipy in c:\\users\\hp\\anaconda3\\lib\\site-packages (from lightgbm) (1.7.1)\n",
      "Requirement already satisfied: scikit-learn!=0.22.0 in c:\\users\\hp\\appdata\\roaming\\python\\python39\\site-packages (from lightgbm) (1.1.2)\n",
      "Requirement already satisfied: joblib>=1.0.0 in c:\\users\\hp\\anaconda3\\lib\\site-packages (from scikit-learn!=0.22.0->lightgbm) (1.1.0)\n",
      "Requirement already satisfied: threadpoolctl>=2.0.0 in c:\\users\\hp\\anaconda3\\lib\\site-packages (from scikit-learn!=0.22.0->lightgbm) (2.2.0)\n",
      "\n",
      "[notice] A new release of pip available: 22.1.2 -> 22.3.1\n",
      "[notice] To update, run: python.exe -m pip install --upgrade pip\n"
     ]
    }
   ],
   "source": [
    "!pip install lightgbm"
   ]
  },
  {
   "cell_type": "code",
   "execution_count": 83,
   "id": "aa93ecef",
   "metadata": {},
   "outputs": [],
   "source": [
    "from lightgbm import LGBMClassifier"
   ]
  },
  {
   "cell_type": "code",
   "execution_count": 84,
   "id": "cbf575a6",
   "metadata": {},
   "outputs": [],
   "source": [
    "clf = LGBMClassifier()"
   ]
  },
  {
   "cell_type": "code",
   "execution_count": 85,
   "id": "1f88fbf2",
   "metadata": {},
   "outputs": [],
   "source": [
    "boosting_type = [\"gbdt\", \"dart\", \"goss\", \"rf\"]\n",
    "num_leaves = [int(x) for x in np.linspace(start = 10, stop = 1000, num = 10)]\n",
    "max_depth = [int(x) for x in np.linspace(10, 110, num = 11)]\n",
    "learning_rate = [float(x) for x in np.arange(0, 1, 0.01)]\n",
    "n_estimators = [int(x) for x in np.linspace(start = 80, stop = 2000, num = 10)]"
   ]
  },
  {
   "cell_type": "code",
   "execution_count": 86,
   "id": "3a17a582",
   "metadata": {},
   "outputs": [],
   "source": [
    "random_grid = {'n_estimators': n_estimators,\n",
    "               'boosting_type': boosting_type,\n",
    "               'max_depth': max_depth,\n",
    "               'learning_rate': learning_rate,\n",
    "               'num_leaves': num_leaves}"
   ]
  },
  {
   "cell_type": "code",
   "execution_count": 87,
   "id": "5ce3bc97",
   "metadata": {},
   "outputs": [],
   "source": [
    "rf_random = RandomizedSearchCV(estimator = clf, param_distributions = random_grid, \n",
    "                               n_iter = 10, cv = 3, verbose=2, random_state=42, n_jobs = -1)"
   ]
  },
  {
   "cell_type": "code",
   "execution_count": 88,
   "id": "807d38d6",
   "metadata": {},
   "outputs": [
    {
     "name": "stdout",
     "output_type": "stream",
     "text": [
      "Fitting 3 folds for each of 10 candidates, totalling 30 fits\n"
     ]
    },
    {
     "data": {
      "text/html": [
       "<style>#sk-container-id-2 {color: black;background-color: white;}#sk-container-id-2 pre{padding: 0;}#sk-container-id-2 div.sk-toggleable {background-color: white;}#sk-container-id-2 label.sk-toggleable__label {cursor: pointer;display: block;width: 100%;margin-bottom: 0;padding: 0.3em;box-sizing: border-box;text-align: center;}#sk-container-id-2 label.sk-toggleable__label-arrow:before {content: \"▸\";float: left;margin-right: 0.25em;color: #696969;}#sk-container-id-2 label.sk-toggleable__label-arrow:hover:before {color: black;}#sk-container-id-2 div.sk-estimator:hover label.sk-toggleable__label-arrow:before {color: black;}#sk-container-id-2 div.sk-toggleable__content {max-height: 0;max-width: 0;overflow: hidden;text-align: left;background-color: #f0f8ff;}#sk-container-id-2 div.sk-toggleable__content pre {margin: 0.2em;color: black;border-radius: 0.25em;background-color: #f0f8ff;}#sk-container-id-2 input.sk-toggleable__control:checked~div.sk-toggleable__content {max-height: 200px;max-width: 100%;overflow: auto;}#sk-container-id-2 input.sk-toggleable__control:checked~label.sk-toggleable__label-arrow:before {content: \"▾\";}#sk-container-id-2 div.sk-estimator input.sk-toggleable__control:checked~label.sk-toggleable__label {background-color: #d4ebff;}#sk-container-id-2 div.sk-label input.sk-toggleable__control:checked~label.sk-toggleable__label {background-color: #d4ebff;}#sk-container-id-2 input.sk-hidden--visually {border: 0;clip: rect(1px 1px 1px 1px);clip: rect(1px, 1px, 1px, 1px);height: 1px;margin: -1px;overflow: hidden;padding: 0;position: absolute;width: 1px;}#sk-container-id-2 div.sk-estimator {font-family: monospace;background-color: #f0f8ff;border: 1px dotted black;border-radius: 0.25em;box-sizing: border-box;margin-bottom: 0.5em;}#sk-container-id-2 div.sk-estimator:hover {background-color: #d4ebff;}#sk-container-id-2 div.sk-parallel-item::after {content: \"\";width: 100%;border-bottom: 1px solid gray;flex-grow: 1;}#sk-container-id-2 div.sk-label:hover label.sk-toggleable__label {background-color: #d4ebff;}#sk-container-id-2 div.sk-serial::before {content: \"\";position: absolute;border-left: 1px solid gray;box-sizing: border-box;top: 0;bottom: 0;left: 50%;z-index: 0;}#sk-container-id-2 div.sk-serial {display: flex;flex-direction: column;align-items: center;background-color: white;padding-right: 0.2em;padding-left: 0.2em;position: relative;}#sk-container-id-2 div.sk-item {position: relative;z-index: 1;}#sk-container-id-2 div.sk-parallel {display: flex;align-items: stretch;justify-content: center;background-color: white;position: relative;}#sk-container-id-2 div.sk-item::before, #sk-container-id-2 div.sk-parallel-item::before {content: \"\";position: absolute;border-left: 1px solid gray;box-sizing: border-box;top: 0;bottom: 0;left: 50%;z-index: -1;}#sk-container-id-2 div.sk-parallel-item {display: flex;flex-direction: column;z-index: 1;position: relative;background-color: white;}#sk-container-id-2 div.sk-parallel-item:first-child::after {align-self: flex-end;width: 50%;}#sk-container-id-2 div.sk-parallel-item:last-child::after {align-self: flex-start;width: 50%;}#sk-container-id-2 div.sk-parallel-item:only-child::after {width: 0;}#sk-container-id-2 div.sk-dashed-wrapped {border: 1px dashed gray;margin: 0 0.4em 0.5em 0.4em;box-sizing: border-box;padding-bottom: 0.4em;background-color: white;}#sk-container-id-2 div.sk-label label {font-family: monospace;font-weight: bold;display: inline-block;line-height: 1.2em;}#sk-container-id-2 div.sk-label-container {text-align: center;}#sk-container-id-2 div.sk-container {/* jupyter's `normalize.less` sets `[hidden] { display: none; }` but bootstrap.min.css set `[hidden] { display: none !important; }` so we also need the `!important` here to be able to override the default hidden behavior on the sphinx rendered scikit-learn.org. See: https://github.com/scikit-learn/scikit-learn/issues/21755 */display: inline-block !important;position: relative;}#sk-container-id-2 div.sk-text-repr-fallback {display: none;}</style><div id=\"sk-container-id-2\" class=\"sk-top-container\"><div class=\"sk-text-repr-fallback\"><pre>RandomizedSearchCV(cv=3, estimator=LGBMClassifier(), n_jobs=-1,\n",
       "                   param_distributions={&#x27;boosting_type&#x27;: [&#x27;gbdt&#x27;, &#x27;dart&#x27;,\n",
       "                                                          &#x27;goss&#x27;, &#x27;rf&#x27;],\n",
       "                                        &#x27;learning_rate&#x27;: [0.0, 0.01, 0.02, 0.03,\n",
       "                                                          0.04, 0.05, 0.06,\n",
       "                                                          0.07, 0.08, 0.09, 0.1,\n",
       "                                                          0.11, 0.12, 0.13,\n",
       "                                                          0.14, 0.15, 0.16,\n",
       "                                                          0.17, 0.18, 0.19, 0.2,\n",
       "                                                          0.21, 0.22, 0.23,\n",
       "                                                          0.24, 0.25, 0.26,\n",
       "                                                          0.27, 0.28, 0.29, ...],\n",
       "                                        &#x27;max_depth&#x27;: [10, 20, 30, 40, 50, 60,\n",
       "                                                      70, 80, 90, 100, 110],\n",
       "                                        &#x27;n_estimators&#x27;: [80, 293, 506, 720, 933,\n",
       "                                                         1146, 1360, 1573, 1786,\n",
       "                                                         2000],\n",
       "                                        &#x27;num_leaves&#x27;: [10, 120, 230, 340, 450,\n",
       "                                                       560, 670, 780, 890,\n",
       "                                                       1000]},\n",
       "                   random_state=42, verbose=2)</pre><b>In a Jupyter environment, please rerun this cell to show the HTML representation or trust the notebook. <br />On GitHub, the HTML representation is unable to render, please try loading this page with nbviewer.org.</b></div><div class=\"sk-container\" hidden><div class=\"sk-item sk-dashed-wrapped\"><div class=\"sk-label-container\"><div class=\"sk-label sk-toggleable\"><input class=\"sk-toggleable__control sk-hidden--visually\" id=\"sk-estimator-id-4\" type=\"checkbox\" ><label for=\"sk-estimator-id-4\" class=\"sk-toggleable__label sk-toggleable__label-arrow\">RandomizedSearchCV</label><div class=\"sk-toggleable__content\"><pre>RandomizedSearchCV(cv=3, estimator=LGBMClassifier(), n_jobs=-1,\n",
       "                   param_distributions={&#x27;boosting_type&#x27;: [&#x27;gbdt&#x27;, &#x27;dart&#x27;,\n",
       "                                                          &#x27;goss&#x27;, &#x27;rf&#x27;],\n",
       "                                        &#x27;learning_rate&#x27;: [0.0, 0.01, 0.02, 0.03,\n",
       "                                                          0.04, 0.05, 0.06,\n",
       "                                                          0.07, 0.08, 0.09, 0.1,\n",
       "                                                          0.11, 0.12, 0.13,\n",
       "                                                          0.14, 0.15, 0.16,\n",
       "                                                          0.17, 0.18, 0.19, 0.2,\n",
       "                                                          0.21, 0.22, 0.23,\n",
       "                                                          0.24, 0.25, 0.26,\n",
       "                                                          0.27, 0.28, 0.29, ...],\n",
       "                                        &#x27;max_depth&#x27;: [10, 20, 30, 40, 50, 60,\n",
       "                                                      70, 80, 90, 100, 110],\n",
       "                                        &#x27;n_estimators&#x27;: [80, 293, 506, 720, 933,\n",
       "                                                         1146, 1360, 1573, 1786,\n",
       "                                                         2000],\n",
       "                                        &#x27;num_leaves&#x27;: [10, 120, 230, 340, 450,\n",
       "                                                       560, 670, 780, 890,\n",
       "                                                       1000]},\n",
       "                   random_state=42, verbose=2)</pre></div></div></div><div class=\"sk-parallel\"><div class=\"sk-parallel-item\"><div class=\"sk-item\"><div class=\"sk-label-container\"><div class=\"sk-label sk-toggleable\"><input class=\"sk-toggleable__control sk-hidden--visually\" id=\"sk-estimator-id-5\" type=\"checkbox\" ><label for=\"sk-estimator-id-5\" class=\"sk-toggleable__label sk-toggleable__label-arrow\">estimator: LGBMClassifier</label><div class=\"sk-toggleable__content\"><pre>LGBMClassifier()</pre></div></div></div><div class=\"sk-serial\"><div class=\"sk-item\"><div class=\"sk-estimator sk-toggleable\"><input class=\"sk-toggleable__control sk-hidden--visually\" id=\"sk-estimator-id-6\" type=\"checkbox\" ><label for=\"sk-estimator-id-6\" class=\"sk-toggleable__label sk-toggleable__label-arrow\">LGBMClassifier</label><div class=\"sk-toggleable__content\"><pre>LGBMClassifier()</pre></div></div></div></div></div></div></div></div></div></div>"
      ],
      "text/plain": [
       "RandomizedSearchCV(cv=3, estimator=LGBMClassifier(), n_jobs=-1,\n",
       "                   param_distributions={'boosting_type': ['gbdt', 'dart',\n",
       "                                                          'goss', 'rf'],\n",
       "                                        'learning_rate': [0.0, 0.01, 0.02, 0.03,\n",
       "                                                          0.04, 0.05, 0.06,\n",
       "                                                          0.07, 0.08, 0.09, 0.1,\n",
       "                                                          0.11, 0.12, 0.13,\n",
       "                                                          0.14, 0.15, 0.16,\n",
       "                                                          0.17, 0.18, 0.19, 0.2,\n",
       "                                                          0.21, 0.22, 0.23,\n",
       "                                                          0.24, 0.25, 0.26,\n",
       "                                                          0.27, 0.28, 0.29, ...],\n",
       "                                        'max_depth': [10, 20, 30, 40, 50, 60,\n",
       "                                                      70, 80, 90, 100, 110],\n",
       "                                        'n_estimators': [80, 293, 506, 720, 933,\n",
       "                                                         1146, 1360, 1573, 1786,\n",
       "                                                         2000],\n",
       "                                        'num_leaves': [10, 120, 230, 340, 450,\n",
       "                                                       560, 670, 780, 890,\n",
       "                                                       1000]},\n",
       "                   random_state=42, verbose=2)"
      ]
     },
     "execution_count": 88,
     "metadata": {},
     "output_type": "execute_result"
    }
   ],
   "source": [
    "rf_random.fit(X, y)"
   ]
  },
  {
   "cell_type": "code",
   "execution_count": 89,
   "id": "db15b78c",
   "metadata": {},
   "outputs": [
    {
     "data": {
      "text/plain": [
       "{'num_leaves': 780,\n",
       " 'n_estimators': 720,\n",
       " 'max_depth': 100,\n",
       " 'learning_rate': 0.24,\n",
       " 'boosting_type': 'dart'}"
      ]
     },
     "execution_count": 89,
     "metadata": {},
     "output_type": "execute_result"
    }
   ],
   "source": [
    "rf_random.best_params_"
   ]
  },
  {
   "cell_type": "code",
   "execution_count": 90,
   "id": "7f05d300",
   "metadata": {},
   "outputs": [],
   "source": [
    "start = time.time()\n",
    "clf = LGBMClassifier(num_leaves=780, n_estimators=720, max_depth=100, learning_rate=0.24, boosting_type=\"dart\").fit(X, y)\n",
    "end = time.time()"
   ]
  },
  {
   "cell_type": "code",
   "execution_count": 91,
   "id": "d3068aa4",
   "metadata": {},
   "outputs": [],
   "source": [
    "y_pred = clf.predict(X)"
   ]
  },
  {
   "cell_type": "code",
   "execution_count": 92,
   "id": "5536b165",
   "metadata": {},
   "outputs": [
    {
     "data": {
      "text/plain": [
       "0.9608479755538579"
      ]
     },
     "execution_count": 92,
     "metadata": {},
     "output_type": "execute_result"
    }
   ],
   "source": [
    "accuracy_score(y, y_pred)"
   ]
  },
  {
   "cell_type": "code",
   "execution_count": 93,
   "id": "849a35af",
   "metadata": {},
   "outputs": [
    {
     "data": {
      "text/plain": [
       "0.875832828588734"
      ]
     },
     "execution_count": 93,
     "metadata": {},
     "output_type": "execute_result"
    }
   ],
   "source": [
    "f1_score(y, y_pred)"
   ]
  },
  {
   "cell_type": "code",
   "execution_count": 94,
   "id": "cf6e8407",
   "metadata": {},
   "outputs": [
    {
     "name": "stdout",
     "output_type": "stream",
     "text": [
      "19.853044986724854\n"
     ]
    }
   ],
   "source": [
    "print(end - start)"
   ]
  },
  {
   "cell_type": "code",
   "execution_count": 95,
   "id": "ffd82bd1",
   "metadata": {},
   "outputs": [
    {
     "data": {
      "text/plain": [
       "73"
      ]
     },
     "execution_count": 95,
     "metadata": {},
     "output_type": "execute_result"
    }
   ],
   "source": [
    "op.countOf(clf.predict(test), 1)"
   ]
  },
  {
   "cell_type": "markdown",
   "id": "ea98c840",
   "metadata": {},
   "source": [
    "## CatBoost"
   ]
  },
  {
   "cell_type": "code",
   "execution_count": 96,
   "id": "4a1379e2",
   "metadata": {},
   "outputs": [
    {
     "name": "stdout",
     "output_type": "stream",
     "text": [
      "Requirement already satisfied: catboost in c:\\users\\hp\\anaconda3\\lib\\site-packages (1.1.1)\n",
      "Requirement already satisfied: six in c:\\users\\hp\\anaconda3\\lib\\site-packages (from catboost) (1.16.0)\n",
      "Requirement already satisfied: pandas>=0.24.0 in c:\\users\\hp\\anaconda3\\lib\\site-packages (from catboost) (1.3.4)\n",
      "Requirement already satisfied: matplotlib in c:\\users\\hp\\anaconda3\\lib\\site-packages (from catboost) (3.4.3)\n",
      "Requirement already satisfied: scipy in c:\\users\\hp\\anaconda3\\lib\\site-packages (from catboost) (1.7.1)\n",
      "Requirement already satisfied: plotly in c:\\users\\hp\\anaconda3\\lib\\site-packages (from catboost) (5.11.0)\n",
      "Requirement already satisfied: numpy>=1.16.0 in c:\\users\\hp\\anaconda3\\lib\\site-packages (from catboost) (1.20.3)\n",
      "Requirement already satisfied: graphviz in c:\\users\\hp\\anaconda3\\lib\\site-packages (from catboost) (0.20.1)\n",
      "Requirement already satisfied: pytz>=2017.3 in c:\\users\\hp\\anaconda3\\lib\\site-packages (from pandas>=0.24.0->catboost) (2021.3)\n",
      "Requirement already satisfied: python-dateutil>=2.7.3 in c:\\users\\hp\\anaconda3\\lib\\site-packages (from pandas>=0.24.0->catboost) (2.8.2)\n",
      "Requirement already satisfied: cycler>=0.10 in c:\\users\\hp\\anaconda3\\lib\\site-packages (from matplotlib->catboost) (0.10.0)\n",
      "Requirement already satisfied: pillow>=6.2.0 in c:\\users\\hp\\anaconda3\\lib\\site-packages (from matplotlib->catboost) (8.4.0)\n",
      "Requirement already satisfied: kiwisolver>=1.0.1 in c:\\users\\hp\\anaconda3\\lib\\site-packages (from matplotlib->catboost) (1.3.1)\n",
      "Requirement already satisfied: pyparsing>=2.2.1 in c:\\users\\hp\\anaconda3\\lib\\site-packages (from matplotlib->catboost) (3.0.4)\n",
      "Requirement already satisfied: tenacity>=6.2.0 in c:\\users\\hp\\anaconda3\\lib\\site-packages (from plotly->catboost) (8.1.0)\n",
      "\n",
      "[notice] A new release of pip available: 22.1.2 -> 22.3.1\n",
      "[notice] To update, run: python.exe -m pip install --upgrade pip\n"
     ]
    }
   ],
   "source": [
    "!pip install catboost"
   ]
  },
  {
   "cell_type": "code",
   "execution_count": 97,
   "id": "c3615740",
   "metadata": {},
   "outputs": [],
   "source": [
    "from catboost import CatBoostClassifier, Pool"
   ]
  },
  {
   "cell_type": "code",
   "execution_count": 98,
   "id": "f3cc2c07",
   "metadata": {},
   "outputs": [],
   "source": [
    "clf = CatBoostClassifier()"
   ]
  },
  {
   "cell_type": "code",
   "execution_count": 99,
   "id": "8da110cf",
   "metadata": {},
   "outputs": [],
   "source": [
    "learning_rate = [float(x) for x in np.arange(0.5, 0.7, 0.001)]\n",
    "depth = [int(x) for x in np.linspace(0, 20, num = 2)]\n",
    "n_estimators = [int(x) for x in np.linspace(start = 80, stop = 2000, num = 10)]"
   ]
  },
  {
   "cell_type": "code",
   "execution_count": 100,
   "id": "ff58dc5e",
   "metadata": {},
   "outputs": [],
   "source": [
    "random_grid = {'depth': depth,\n",
    "               'learning_rate': learning_rate,\n",
    "               'n_estimators': n_estimators}"
   ]
  },
  {
   "cell_type": "code",
   "execution_count": 101,
   "id": "3aa45752",
   "metadata": {},
   "outputs": [],
   "source": [
    "rf_random = RandomizedSearchCV(estimator = clf, param_distributions = random_grid, \n",
    "                               n_iter = 10, cv = 3, verbose=2, random_state=42, n_jobs = -1)"
   ]
  },
  {
   "cell_type": "code",
   "execution_count": 102,
   "id": "c2ca118b",
   "metadata": {},
   "outputs": [
    {
     "name": "stdout",
     "output_type": "stream",
     "text": [
      "Fitting 3 folds for each of 10 candidates, totalling 30 fits\n",
      "0:\tlearn: 0.4978615\ttotal: 142ms\tremaining: 11.2s\n",
      "1:\tlearn: 0.4693080\ttotal: 144ms\tremaining: 5.62s\n",
      "2:\tlearn: 0.4647969\ttotal: 146ms\tremaining: 3.74s\n",
      "3:\tlearn: 0.4640411\ttotal: 147ms\tremaining: 2.8s\n",
      "4:\tlearn: 0.4639140\ttotal: 149ms\tremaining: 2.23s\n",
      "5:\tlearn: 0.4638942\ttotal: 151ms\tremaining: 1.86s\n",
      "6:\tlearn: 0.4638923\ttotal: 152ms\tremaining: 1.59s\n",
      "7:\tlearn: 0.4638847\ttotal: 154ms\tremaining: 1.38s\n",
      "8:\tlearn: 0.4638818\ttotal: 155ms\tremaining: 1.22s\n",
      "9:\tlearn: 0.4638820\ttotal: 156ms\tremaining: 1.09s\n",
      "10:\tlearn: 0.4638820\ttotal: 157ms\tremaining: 988ms\n",
      "11:\tlearn: 0.4638820\ttotal: 159ms\tremaining: 900ms\n",
      "12:\tlearn: 0.4638820\ttotal: 160ms\tremaining: 826ms\n",
      "13:\tlearn: 0.4638820\ttotal: 162ms\tremaining: 764ms\n",
      "14:\tlearn: 0.4638820\ttotal: 164ms\tremaining: 709ms\n",
      "15:\tlearn: 0.4638820\ttotal: 165ms\tremaining: 661ms\n",
      "16:\tlearn: 0.4638820\ttotal: 167ms\tremaining: 618ms\n",
      "17:\tlearn: 0.4638820\ttotal: 168ms\tremaining: 580ms\n",
      "18:\tlearn: 0.4638820\ttotal: 170ms\tremaining: 545ms\n",
      "19:\tlearn: 0.4638820\ttotal: 171ms\tremaining: 513ms\n",
      "20:\tlearn: 0.4638820\ttotal: 172ms\tremaining: 484ms\n",
      "21:\tlearn: 0.4638820\ttotal: 173ms\tremaining: 457ms\n",
      "22:\tlearn: 0.4638820\ttotal: 174ms\tremaining: 432ms\n",
      "23:\tlearn: 0.4638820\ttotal: 176ms\tremaining: 410ms\n",
      "24:\tlearn: 0.4638820\ttotal: 177ms\tremaining: 389ms\n",
      "25:\tlearn: 0.4638820\ttotal: 178ms\tremaining: 370ms\n",
      "26:\tlearn: 0.4638820\ttotal: 179ms\tremaining: 352ms\n",
      "27:\tlearn: 0.4638820\ttotal: 181ms\tremaining: 335ms\n",
      "28:\tlearn: 0.4638820\ttotal: 182ms\tremaining: 320ms\n",
      "29:\tlearn: 0.4638820\ttotal: 183ms\tremaining: 305ms\n",
      "30:\tlearn: 0.4638820\ttotal: 184ms\tremaining: 291ms\n",
      "31:\tlearn: 0.4638820\ttotal: 185ms\tremaining: 278ms\n",
      "32:\tlearn: 0.4638820\ttotal: 187ms\tremaining: 266ms\n",
      "33:\tlearn: 0.4638820\ttotal: 188ms\tremaining: 254ms\n",
      "34:\tlearn: 0.4638820\ttotal: 189ms\tremaining: 243ms\n",
      "35:\tlearn: 0.4638820\ttotal: 190ms\tremaining: 233ms\n",
      "36:\tlearn: 0.4638820\ttotal: 192ms\tremaining: 223ms\n",
      "37:\tlearn: 0.4638820\ttotal: 193ms\tremaining: 213ms\n",
      "38:\tlearn: 0.4638820\ttotal: 194ms\tremaining: 204ms\n",
      "39:\tlearn: 0.4638820\ttotal: 195ms\tremaining: 195ms\n",
      "40:\tlearn: 0.4638820\ttotal: 196ms\tremaining: 187ms\n",
      "41:\tlearn: 0.4638820\ttotal: 198ms\tremaining: 179ms\n",
      "42:\tlearn: 0.4638820\ttotal: 199ms\tremaining: 171ms\n",
      "43:\tlearn: 0.4638820\ttotal: 200ms\tremaining: 164ms\n",
      "44:\tlearn: 0.4638820\ttotal: 201ms\tremaining: 157ms\n",
      "45:\tlearn: 0.4638820\ttotal: 202ms\tremaining: 150ms\n",
      "46:\tlearn: 0.4638820\ttotal: 204ms\tremaining: 143ms\n",
      "47:\tlearn: 0.4638820\ttotal: 205ms\tremaining: 137ms\n",
      "48:\tlearn: 0.4638820\ttotal: 206ms\tremaining: 130ms\n",
      "49:\tlearn: 0.4638820\ttotal: 207ms\tremaining: 124ms\n",
      "50:\tlearn: 0.4638820\ttotal: 208ms\tremaining: 118ms\n",
      "51:\tlearn: 0.4638820\ttotal: 209ms\tremaining: 113ms\n",
      "52:\tlearn: 0.4638820\ttotal: 211ms\tremaining: 107ms\n",
      "53:\tlearn: 0.4638820\ttotal: 212ms\tremaining: 102ms\n",
      "54:\tlearn: 0.4638820\ttotal: 213ms\tremaining: 96.9ms\n",
      "55:\tlearn: 0.4638820\ttotal: 215ms\tremaining: 92ms\n",
      "56:\tlearn: 0.4638820\ttotal: 216ms\tremaining: 87.1ms\n",
      "57:\tlearn: 0.4638820\ttotal: 217ms\tremaining: 82.4ms\n",
      "58:\tlearn: 0.4638820\ttotal: 218ms\tremaining: 77.8ms\n",
      "59:\tlearn: 0.4638820\ttotal: 220ms\tremaining: 73.2ms\n",
      "60:\tlearn: 0.4638820\ttotal: 221ms\tremaining: 68.8ms\n",
      "61:\tlearn: 0.4638820\ttotal: 222ms\tremaining: 64.5ms\n",
      "62:\tlearn: 0.4638820\ttotal: 224ms\tremaining: 60.3ms\n",
      "63:\tlearn: 0.4638820\ttotal: 225ms\tremaining: 56.3ms\n",
      "64:\tlearn: 0.4638820\ttotal: 226ms\tremaining: 52.3ms\n",
      "65:\tlearn: 0.4638820\ttotal: 228ms\tremaining: 48.4ms\n",
      "66:\tlearn: 0.4638820\ttotal: 229ms\tremaining: 44.5ms\n",
      "67:\tlearn: 0.4638820\ttotal: 231ms\tremaining: 40.7ms\n",
      "68:\tlearn: 0.4638820\ttotal: 232ms\tremaining: 37ms\n",
      "69:\tlearn: 0.4638820\ttotal: 233ms\tremaining: 33.3ms\n",
      "70:\tlearn: 0.4638820\ttotal: 234ms\tremaining: 29.7ms\n",
      "71:\tlearn: 0.4638820\ttotal: 235ms\tremaining: 26.2ms\n",
      "72:\tlearn: 0.4638820\ttotal: 237ms\tremaining: 22.7ms\n",
      "73:\tlearn: 0.4638820\ttotal: 238ms\tremaining: 19.3ms\n",
      "74:\tlearn: 0.4638820\ttotal: 240ms\tremaining: 16ms\n",
      "75:\tlearn: 0.4638820\ttotal: 242ms\tremaining: 12.7ms\n",
      "76:\tlearn: 0.4638820\ttotal: 243ms\tremaining: 9.46ms\n",
      "77:\tlearn: 0.4638820\ttotal: 244ms\tremaining: 6.26ms\n",
      "78:\tlearn: 0.4638820\ttotal: 245ms\tremaining: 3.1ms\n",
      "79:\tlearn: 0.4638820\ttotal: 246ms\tremaining: 0us\n"
     ]
    },
    {
     "data": {
      "text/html": [
       "<style>#sk-container-id-3 {color: black;background-color: white;}#sk-container-id-3 pre{padding: 0;}#sk-container-id-3 div.sk-toggleable {background-color: white;}#sk-container-id-3 label.sk-toggleable__label {cursor: pointer;display: block;width: 100%;margin-bottom: 0;padding: 0.3em;box-sizing: border-box;text-align: center;}#sk-container-id-3 label.sk-toggleable__label-arrow:before {content: \"▸\";float: left;margin-right: 0.25em;color: #696969;}#sk-container-id-3 label.sk-toggleable__label-arrow:hover:before {color: black;}#sk-container-id-3 div.sk-estimator:hover label.sk-toggleable__label-arrow:before {color: black;}#sk-container-id-3 div.sk-toggleable__content {max-height: 0;max-width: 0;overflow: hidden;text-align: left;background-color: #f0f8ff;}#sk-container-id-3 div.sk-toggleable__content pre {margin: 0.2em;color: black;border-radius: 0.25em;background-color: #f0f8ff;}#sk-container-id-3 input.sk-toggleable__control:checked~div.sk-toggleable__content {max-height: 200px;max-width: 100%;overflow: auto;}#sk-container-id-3 input.sk-toggleable__control:checked~label.sk-toggleable__label-arrow:before {content: \"▾\";}#sk-container-id-3 div.sk-estimator input.sk-toggleable__control:checked~label.sk-toggleable__label {background-color: #d4ebff;}#sk-container-id-3 div.sk-label input.sk-toggleable__control:checked~label.sk-toggleable__label {background-color: #d4ebff;}#sk-container-id-3 input.sk-hidden--visually {border: 0;clip: rect(1px 1px 1px 1px);clip: rect(1px, 1px, 1px, 1px);height: 1px;margin: -1px;overflow: hidden;padding: 0;position: absolute;width: 1px;}#sk-container-id-3 div.sk-estimator {font-family: monospace;background-color: #f0f8ff;border: 1px dotted black;border-radius: 0.25em;box-sizing: border-box;margin-bottom: 0.5em;}#sk-container-id-3 div.sk-estimator:hover {background-color: #d4ebff;}#sk-container-id-3 div.sk-parallel-item::after {content: \"\";width: 100%;border-bottom: 1px solid gray;flex-grow: 1;}#sk-container-id-3 div.sk-label:hover label.sk-toggleable__label {background-color: #d4ebff;}#sk-container-id-3 div.sk-serial::before {content: \"\";position: absolute;border-left: 1px solid gray;box-sizing: border-box;top: 0;bottom: 0;left: 50%;z-index: 0;}#sk-container-id-3 div.sk-serial {display: flex;flex-direction: column;align-items: center;background-color: white;padding-right: 0.2em;padding-left: 0.2em;position: relative;}#sk-container-id-3 div.sk-item {position: relative;z-index: 1;}#sk-container-id-3 div.sk-parallel {display: flex;align-items: stretch;justify-content: center;background-color: white;position: relative;}#sk-container-id-3 div.sk-item::before, #sk-container-id-3 div.sk-parallel-item::before {content: \"\";position: absolute;border-left: 1px solid gray;box-sizing: border-box;top: 0;bottom: 0;left: 50%;z-index: -1;}#sk-container-id-3 div.sk-parallel-item {display: flex;flex-direction: column;z-index: 1;position: relative;background-color: white;}#sk-container-id-3 div.sk-parallel-item:first-child::after {align-self: flex-end;width: 50%;}#sk-container-id-3 div.sk-parallel-item:last-child::after {align-self: flex-start;width: 50%;}#sk-container-id-3 div.sk-parallel-item:only-child::after {width: 0;}#sk-container-id-3 div.sk-dashed-wrapped {border: 1px dashed gray;margin: 0 0.4em 0.5em 0.4em;box-sizing: border-box;padding-bottom: 0.4em;background-color: white;}#sk-container-id-3 div.sk-label label {font-family: monospace;font-weight: bold;display: inline-block;line-height: 1.2em;}#sk-container-id-3 div.sk-label-container {text-align: center;}#sk-container-id-3 div.sk-container {/* jupyter's `normalize.less` sets `[hidden] { display: none; }` but bootstrap.min.css set `[hidden] { display: none !important; }` so we also need the `!important` here to be able to override the default hidden behavior on the sphinx rendered scikit-learn.org. See: https://github.com/scikit-learn/scikit-learn/issues/21755 */display: inline-block !important;position: relative;}#sk-container-id-3 div.sk-text-repr-fallback {display: none;}</style><div id=\"sk-container-id-3\" class=\"sk-top-container\"><div class=\"sk-text-repr-fallback\"><pre>RandomizedSearchCV(cv=3,\n",
       "                   estimator=&lt;catboost.core.CatBoostClassifier object at 0x000001FAA3C009D0&gt;,\n",
       "                   n_jobs=-1,\n",
       "                   param_distributions={&#x27;depth&#x27;: [0, 20],\n",
       "                                        &#x27;learning_rate&#x27;: [0.5, 0.501, 0.502,\n",
       "                                                          0.503, 0.504, 0.505,\n",
       "                                                          0.506, 0.507, 0.508,\n",
       "                                                          0.509, 0.51, 0.511,\n",
       "                                                          0.512, 0.513, 0.514,\n",
       "                                                          0.515, 0.516, 0.517,\n",
       "                                                          0.518, 0.519, 0.52,\n",
       "                                                          0.521, 0.522, 0.523,\n",
       "                                                          0.524, 0.525, 0.526,\n",
       "                                                          0.527, 0.528, 0.529, ...],\n",
       "                                        &#x27;n_estimators&#x27;: [80, 293, 506, 720, 933,\n",
       "                                                         1146, 1360, 1573, 1786,\n",
       "                                                         2000]},\n",
       "                   random_state=42, verbose=2)</pre><b>In a Jupyter environment, please rerun this cell to show the HTML representation or trust the notebook. <br />On GitHub, the HTML representation is unable to render, please try loading this page with nbviewer.org.</b></div><div class=\"sk-container\" hidden><div class=\"sk-item sk-dashed-wrapped\"><div class=\"sk-label-container\"><div class=\"sk-label sk-toggleable\"><input class=\"sk-toggleable__control sk-hidden--visually\" id=\"sk-estimator-id-7\" type=\"checkbox\" ><label for=\"sk-estimator-id-7\" class=\"sk-toggleable__label sk-toggleable__label-arrow\">RandomizedSearchCV</label><div class=\"sk-toggleable__content\"><pre>RandomizedSearchCV(cv=3,\n",
       "                   estimator=&lt;catboost.core.CatBoostClassifier object at 0x000001FAA3C009D0&gt;,\n",
       "                   n_jobs=-1,\n",
       "                   param_distributions={&#x27;depth&#x27;: [0, 20],\n",
       "                                        &#x27;learning_rate&#x27;: [0.5, 0.501, 0.502,\n",
       "                                                          0.503, 0.504, 0.505,\n",
       "                                                          0.506, 0.507, 0.508,\n",
       "                                                          0.509, 0.51, 0.511,\n",
       "                                                          0.512, 0.513, 0.514,\n",
       "                                                          0.515, 0.516, 0.517,\n",
       "                                                          0.518, 0.519, 0.52,\n",
       "                                                          0.521, 0.522, 0.523,\n",
       "                                                          0.524, 0.525, 0.526,\n",
       "                                                          0.527, 0.528, 0.529, ...],\n",
       "                                        &#x27;n_estimators&#x27;: [80, 293, 506, 720, 933,\n",
       "                                                         1146, 1360, 1573, 1786,\n",
       "                                                         2000]},\n",
       "                   random_state=42, verbose=2)</pre></div></div></div><div class=\"sk-parallel\"><div class=\"sk-parallel-item\"><div class=\"sk-item\"><div class=\"sk-label-container\"><div class=\"sk-label sk-toggleable\"><input class=\"sk-toggleable__control sk-hidden--visually\" id=\"sk-estimator-id-8\" type=\"checkbox\" ><label for=\"sk-estimator-id-8\" class=\"sk-toggleable__label sk-toggleable__label-arrow\">estimator: CatBoostClassifier</label><div class=\"sk-toggleable__content\"><pre>&lt;catboost.core.CatBoostClassifier object at 0x000001FAA3C009D0&gt;</pre></div></div></div><div class=\"sk-serial\"><div class=\"sk-item\"><div class=\"sk-estimator sk-toggleable\"><input class=\"sk-toggleable__control sk-hidden--visually\" id=\"sk-estimator-id-9\" type=\"checkbox\" ><label for=\"sk-estimator-id-9\" class=\"sk-toggleable__label sk-toggleable__label-arrow\">CatBoostClassifier</label><div class=\"sk-toggleable__content\"><pre>&lt;catboost.core.CatBoostClassifier object at 0x000001FAA3C009D0&gt;</pre></div></div></div></div></div></div></div></div></div></div>"
      ],
      "text/plain": [
       "RandomizedSearchCV(cv=3,\n",
       "                   estimator=<catboost.core.CatBoostClassifier object at 0x000001FAA3C009D0>,\n",
       "                   n_jobs=-1,\n",
       "                   param_distributions={'depth': [0, 20],\n",
       "                                        'learning_rate': [0.5, 0.501, 0.502,\n",
       "                                                          0.503, 0.504, 0.505,\n",
       "                                                          0.506, 0.507, 0.508,\n",
       "                                                          0.509, 0.51, 0.511,\n",
       "                                                          0.512, 0.513, 0.514,\n",
       "                                                          0.515, 0.516, 0.517,\n",
       "                                                          0.518, 0.519, 0.52,\n",
       "                                                          0.521, 0.522, 0.523,\n",
       "                                                          0.524, 0.525, 0.526,\n",
       "                                                          0.527, 0.528, 0.529, ...],\n",
       "                                        'n_estimators': [80, 293, 506, 720, 933,\n",
       "                                                         1146, 1360, 1573, 1786,\n",
       "                                                         2000]},\n",
       "                   random_state=42, verbose=2)"
      ]
     },
     "execution_count": 102,
     "metadata": {},
     "output_type": "execute_result"
    }
   ],
   "source": [
    "rf_random.fit(X, y)"
   ]
  },
  {
   "cell_type": "code",
   "execution_count": 103,
   "id": "d283208b",
   "metadata": {},
   "outputs": [
    {
     "data": {
      "text/plain": [
       "{'n_estimators': 80, 'learning_rate': 0.5860000000000001, 'depth': 0}"
      ]
     },
     "execution_count": 103,
     "metadata": {},
     "output_type": "execute_result"
    }
   ],
   "source": [
    "rf_random.best_params_"
   ]
  },
  {
   "cell_type": "code",
   "execution_count": 104,
   "id": "d0f21617",
   "metadata": {},
   "outputs": [
    {
     "name": "stdout",
     "output_type": "stream",
     "text": [
      "0:\tlearn: 0.4615825\ttotal: 253ms\tremaining: 20s\n",
      "1:\tlearn: 0.4302104\ttotal: 256ms\tremaining: 10s\n",
      "2:\tlearn: 0.4187663\ttotal: 260ms\tremaining: 6.68s\n",
      "3:\tlearn: 0.4128324\ttotal: 264ms\tremaining: 5.01s\n",
      "4:\tlearn: 0.4089399\ttotal: 268ms\tremaining: 4.01s\n",
      "5:\tlearn: 0.4066097\ttotal: 271ms\tremaining: 3.34s\n",
      "6:\tlearn: 0.4050755\ttotal: 275ms\tremaining: 2.86s\n",
      "7:\tlearn: 0.4014896\ttotal: 278ms\tremaining: 2.5s\n",
      "8:\tlearn: 0.3981838\ttotal: 282ms\tremaining: 2.22s\n",
      "9:\tlearn: 0.3969148\ttotal: 285ms\tremaining: 1.99s\n",
      "10:\tlearn: 0.3955633\ttotal: 288ms\tremaining: 1.8s\n",
      "11:\tlearn: 0.3933717\ttotal: 292ms\tremaining: 1.65s\n",
      "12:\tlearn: 0.3920773\ttotal: 295ms\tremaining: 1.52s\n",
      "13:\tlearn: 0.3906109\ttotal: 299ms\tremaining: 1.41s\n",
      "14:\tlearn: 0.3882837\ttotal: 302ms\tremaining: 1.31s\n",
      "15:\tlearn: 0.3880623\ttotal: 305ms\tremaining: 1.22s\n",
      "16:\tlearn: 0.3828387\ttotal: 308ms\tremaining: 1.14s\n",
      "17:\tlearn: 0.3775075\ttotal: 312ms\tremaining: 1.07s\n",
      "18:\tlearn: 0.3744631\ttotal: 316ms\tremaining: 1.01s\n",
      "19:\tlearn: 0.3741866\ttotal: 319ms\tremaining: 958ms\n",
      "20:\tlearn: 0.3709560\ttotal: 322ms\tremaining: 905ms\n",
      "21:\tlearn: 0.3677020\ttotal: 325ms\tremaining: 857ms\n",
      "22:\tlearn: 0.3671061\ttotal: 329ms\tremaining: 814ms\n",
      "23:\tlearn: 0.3630752\ttotal: 332ms\tremaining: 774ms\n",
      "24:\tlearn: 0.3618464\ttotal: 335ms\tremaining: 737ms\n",
      "25:\tlearn: 0.3584505\ttotal: 339ms\tremaining: 704ms\n",
      "26:\tlearn: 0.3562369\ttotal: 342ms\tremaining: 672ms\n",
      "27:\tlearn: 0.3531017\ttotal: 346ms\tremaining: 642ms\n",
      "28:\tlearn: 0.3510886\ttotal: 349ms\tremaining: 614ms\n",
      "29:\tlearn: 0.3509158\ttotal: 352ms\tremaining: 587ms\n",
      "30:\tlearn: 0.3482298\ttotal: 355ms\tremaining: 562ms\n",
      "31:\tlearn: 0.3434088\ttotal: 359ms\tremaining: 538ms\n",
      "32:\tlearn: 0.3396675\ttotal: 362ms\tremaining: 516ms\n",
      "33:\tlearn: 0.3371758\ttotal: 365ms\tremaining: 494ms\n",
      "34:\tlearn: 0.3364767\ttotal: 369ms\tremaining: 474ms\n",
      "35:\tlearn: 0.3339243\ttotal: 372ms\tremaining: 455ms\n",
      "36:\tlearn: 0.3327410\ttotal: 377ms\tremaining: 438ms\n",
      "37:\tlearn: 0.3298074\ttotal: 380ms\tremaining: 420ms\n",
      "38:\tlearn: 0.3287810\ttotal: 383ms\tremaining: 403ms\n",
      "39:\tlearn: 0.3268891\ttotal: 386ms\tremaining: 386ms\n",
      "40:\tlearn: 0.3254972\ttotal: 390ms\tremaining: 371ms\n",
      "41:\tlearn: 0.3222265\ttotal: 393ms\tremaining: 356ms\n",
      "42:\tlearn: 0.3197581\ttotal: 397ms\tremaining: 341ms\n",
      "43:\tlearn: 0.3194648\ttotal: 400ms\tremaining: 327ms\n",
      "44:\tlearn: 0.3174229\ttotal: 403ms\tremaining: 313ms\n",
      "45:\tlearn: 0.3154037\ttotal: 406ms\tremaining: 300ms\n",
      "46:\tlearn: 0.3145157\ttotal: 410ms\tremaining: 288ms\n",
      "47:\tlearn: 0.3135638\ttotal: 413ms\tremaining: 275ms\n",
      "48:\tlearn: 0.3120042\ttotal: 417ms\tremaining: 264ms\n",
      "49:\tlearn: 0.3107131\ttotal: 420ms\tremaining: 252ms\n",
      "50:\tlearn: 0.3088529\ttotal: 424ms\tremaining: 241ms\n",
      "51:\tlearn: 0.3068495\ttotal: 428ms\tremaining: 230ms\n",
      "52:\tlearn: 0.3057704\ttotal: 431ms\tremaining: 220ms\n",
      "53:\tlearn: 0.3044995\ttotal: 435ms\tremaining: 209ms\n",
      "54:\tlearn: 0.3034640\ttotal: 439ms\tremaining: 199ms\n",
      "55:\tlearn: 0.3017344\ttotal: 443ms\tremaining: 190ms\n",
      "56:\tlearn: 0.3001568\ttotal: 447ms\tremaining: 180ms\n",
      "57:\tlearn: 0.2986945\ttotal: 450ms\tremaining: 171ms\n",
      "58:\tlearn: 0.2969093\ttotal: 454ms\tremaining: 162ms\n",
      "59:\tlearn: 0.2954880\ttotal: 458ms\tremaining: 153ms\n",
      "60:\tlearn: 0.2926074\ttotal: 461ms\tremaining: 144ms\n",
      "61:\tlearn: 0.2920800\ttotal: 464ms\tremaining: 135ms\n",
      "62:\tlearn: 0.2907761\ttotal: 467ms\tremaining: 126ms\n",
      "63:\tlearn: 0.2905499\ttotal: 471ms\tremaining: 118ms\n",
      "64:\tlearn: 0.2893210\ttotal: 474ms\tremaining: 109ms\n",
      "65:\tlearn: 0.2876079\ttotal: 477ms\tremaining: 101ms\n",
      "66:\tlearn: 0.2867935\ttotal: 480ms\tremaining: 93.2ms\n",
      "67:\tlearn: 0.2864387\ttotal: 484ms\tremaining: 85.3ms\n",
      "68:\tlearn: 0.2854592\ttotal: 487ms\tremaining: 77.6ms\n",
      "69:\tlearn: 0.2843237\ttotal: 490ms\tremaining: 70ms\n",
      "70:\tlearn: 0.2830663\ttotal: 493ms\tremaining: 62.5ms\n",
      "71:\tlearn: 0.2817127\ttotal: 497ms\tremaining: 55.2ms\n",
      "72:\tlearn: 0.2802812\ttotal: 501ms\tremaining: 48.1ms\n",
      "73:\tlearn: 0.2794415\ttotal: 505ms\tremaining: 40.9ms\n",
      "74:\tlearn: 0.2781564\ttotal: 508ms\tremaining: 33.9ms\n",
      "75:\tlearn: 0.2780202\ttotal: 512ms\tremaining: 26.9ms\n",
      "76:\tlearn: 0.2779362\ttotal: 515ms\tremaining: 20.1ms\n",
      "77:\tlearn: 0.2765925\ttotal: 518ms\tremaining: 13.3ms\n",
      "78:\tlearn: 0.2754599\ttotal: 522ms\tremaining: 6.6ms\n",
      "79:\tlearn: 0.2736940\ttotal: 525ms\tremaining: 0us\n"
     ]
    }
   ],
   "source": [
    "start = time.time()\n",
    "clf = CatBoostClassifier(n_estimators=80, learning_rate=0.5860000000000001).fit(X, y)\n",
    "end = time.time()"
   ]
  },
  {
   "cell_type": "code",
   "execution_count": 105,
   "id": "1fd45407",
   "metadata": {},
   "outputs": [],
   "source": [
    "y_pred = clf.predict(X)"
   ]
  },
  {
   "cell_type": "code",
   "execution_count": 106,
   "id": "85dd90d9",
   "metadata": {},
   "outputs": [
    {
     "data": {
      "text/plain": [
       "0.910427807486631"
      ]
     },
     "execution_count": 106,
     "metadata": {},
     "output_type": "execute_result"
    }
   ],
   "source": [
    "accuracy_score(y, y_pred)"
   ]
  },
  {
   "cell_type": "code",
   "execution_count": 107,
   "id": "7b29ec8a",
   "metadata": {},
   "outputs": [
    {
     "data": {
      "text/plain": [
       "0.6589090909090909"
      ]
     },
     "execution_count": 107,
     "metadata": {},
     "output_type": "execute_result"
    }
   ],
   "source": [
    "f1_score(y, y_pred)"
   ]
  },
  {
   "cell_type": "code",
   "execution_count": 108,
   "id": "ff1c97fa",
   "metadata": {},
   "outputs": [
    {
     "name": "stdout",
     "output_type": "stream",
     "text": [
      "0.79571533203125\n"
     ]
    }
   ],
   "source": [
    "print(end - start)"
   ]
  },
  {
   "cell_type": "code",
   "execution_count": 109,
   "id": "87afc4f4",
   "metadata": {},
   "outputs": [
    {
     "data": {
      "text/plain": [
       "53"
      ]
     },
     "execution_count": 109,
     "metadata": {},
     "output_type": "execute_result"
    }
   ],
   "source": [
    "op.countOf(clf.predict(test), 1)"
   ]
  },
  {
   "cell_type": "markdown",
   "id": "5ed4b450",
   "metadata": {},
   "source": [
    "## LightGBM with K fold"
   ]
  },
  {
   "cell_type": "code",
   "execution_count": 110,
   "id": "1e47ca49",
   "metadata": {},
   "outputs": [],
   "source": [
    "from sklearn.model_selection import StratifiedKFold"
   ]
  },
  {
   "cell_type": "code",
   "execution_count": 111,
   "id": "a84b542f",
   "metadata": {},
   "outputs": [],
   "source": [
    "model = LGBMClassifier(num_leaves=780, n_estimators=720, max_depth=100, learning_rate=0.24, boosting_type=\"dart\")"
   ]
  },
  {
   "cell_type": "code",
   "execution_count": 112,
   "id": "f8ae40a6",
   "metadata": {},
   "outputs": [],
   "source": [
    "skfold = StratifiedKFold(n_splits=5, shuffle=True, random_state=seed)\n",
    "oof = np.zeros(len(train_df))\n",
    "predictions = []"
   ]
  },
  {
   "cell_type": "code",
   "execution_count": 113,
   "id": "c4965fca",
   "metadata": {},
   "outputs": [
    {
     "name": "stdout",
     "output_type": "stream",
     "text": [
      "Fold 1\n",
      "[100]\tvalid_0's binary_logloss: 0.465215\n",
      "[200]\tvalid_0's binary_logloss: 0.511224\n",
      "[300]\tvalid_0's binary_logloss: 0.544766\n",
      "[400]\tvalid_0's binary_logloss: 0.592306\n",
      "[500]\tvalid_0's binary_logloss: 0.634469\n",
      "[600]\tvalid_0's binary_logloss: 0.654798\n",
      "[700]\tvalid_0's binary_logloss: 0.698629\n",
      "Fold 2\n",
      "[100]\tvalid_0's binary_logloss: 0.535379\n",
      "[200]\tvalid_0's binary_logloss: 0.584556\n",
      "[300]\tvalid_0's binary_logloss: 0.662434\n",
      "[400]\tvalid_0's binary_logloss: 0.723836\n",
      "[500]\tvalid_0's binary_logloss: 0.784968\n",
      "[600]\tvalid_0's binary_logloss: 0.806958\n",
      "[700]\tvalid_0's binary_logloss: 0.850501\n",
      "Fold 3\n",
      "[100]\tvalid_0's binary_logloss: 0.526168\n",
      "[200]\tvalid_0's binary_logloss: 0.569283\n",
      "[300]\tvalid_0's binary_logloss: 0.625368\n",
      "[400]\tvalid_0's binary_logloss: 0.679906\n",
      "[500]\tvalid_0's binary_logloss: 0.747781\n",
      "[600]\tvalid_0's binary_logloss: 0.767597\n",
      "[700]\tvalid_0's binary_logloss: 0.822321\n",
      "Fold 4\n",
      "[100]\tvalid_0's binary_logloss: 0.497806\n",
      "[200]\tvalid_0's binary_logloss: 0.534447\n",
      "[300]\tvalid_0's binary_logloss: 0.597395\n",
      "[400]\tvalid_0's binary_logloss: 0.65575\n",
      "[500]\tvalid_0's binary_logloss: 0.719078\n",
      "[600]\tvalid_0's binary_logloss: 0.733082\n",
      "[700]\tvalid_0's binary_logloss: 0.782718\n",
      "Fold 5\n",
      "[100]\tvalid_0's binary_logloss: 0.502099\n",
      "[200]\tvalid_0's binary_logloss: 0.538955\n",
      "[300]\tvalid_0's binary_logloss: 0.590027\n",
      "[400]\tvalid_0's binary_logloss: 0.63711\n",
      "[500]\tvalid_0's binary_logloss: 0.694664\n",
      "[600]\tvalid_0's binary_logloss: 0.712104\n",
      "[700]\tvalid_0's binary_logloss: 0.754739\n"
     ]
    }
   ],
   "source": [
    "for fold, (trn_idx, val_idx) in enumerate(skfold.split(X, y)):\n",
    "    print(f'Fold {fold + 1}')\n",
    "    X_train, y_train = X.iloc[trn_idx], y.iloc[trn_idx]\n",
    "    X_valid, y_valid = X.iloc[val_idx], y.iloc[val_idx]\n",
    "    \n",
    "    model.fit(\n",
    "        X_train, y_train,\n",
    "        eval_set=(X_valid, y_valid),\n",
    "        verbose=100,\n",
    "        early_stopping_rounds=100,\n",
    "    )\n",
    "\n",
    "    oof[val_idx] = model.predict(X_valid)\n",
    "    predictions.append(model.predict_proba(test)[:, 1])"
   ]
  },
  {
   "cell_type": "code",
   "execution_count": 114,
   "id": "e9f30aa6",
   "metadata": {},
   "outputs": [],
   "source": [
    "predictions = np.mean(predictions, axis=0)"
   ]
  },
  {
   "cell_type": "code",
   "execution_count": 115,
   "id": "c3c075c2",
   "metadata": {},
   "outputs": [
    {
     "data": {
      "text/plain": [
       "0.2878581173260573"
      ]
     },
     "execution_count": 115,
     "metadata": {},
     "output_type": "execute_result"
    }
   ],
   "source": [
    "f1_score(y, oof)"
   ]
  },
  {
   "cell_type": "code",
   "execution_count": 116,
   "id": "243653b9",
   "metadata": {},
   "outputs": [
    {
     "data": {
      "text/plain": [
       "0.80061115355233"
      ]
     },
     "execution_count": 116,
     "metadata": {},
     "output_type": "execute_result"
    }
   ],
   "source": [
    "accuracy_score(y, oof)"
   ]
  },
  {
   "cell_type": "code",
   "execution_count": 117,
   "id": "d830a159",
   "metadata": {},
   "outputs": [
    {
     "data": {
      "text/plain": [
       "(738,)"
      ]
     },
     "execution_count": 117,
     "metadata": {},
     "output_type": "execute_result"
    }
   ],
   "source": [
    "predictions.shape"
   ]
  },
  {
   "cell_type": "code",
   "execution_count": 118,
   "id": "5c0ce0d3",
   "metadata": {},
   "outputs": [],
   "source": [
    "for i in range(predictions.shape[0]):\n",
    "    if predictions[i] > 0.5:\n",
    "        predictions[i] = 1\n",
    "    else:\n",
    "        predictions[i] = 0"
   ]
  },
  {
   "cell_type": "code",
   "execution_count": 119,
   "id": "d129de9c",
   "metadata": {},
   "outputs": [
    {
     "data": {
      "text/plain": [
       "65"
      ]
     },
     "execution_count": 119,
     "metadata": {},
     "output_type": "execute_result"
    }
   ],
   "source": [
    "op.countOf(predictions, 1)"
   ]
  },
  {
   "cell_type": "markdown",
   "id": "972629c4",
   "metadata": {},
   "source": [
    "## CatBoost with K fold"
   ]
  },
  {
   "cell_type": "code",
   "execution_count": 120,
   "id": "855fffe0",
   "metadata": {},
   "outputs": [],
   "source": [
    "model = CatBoostClassifier(\n",
    "    n_estimators=1000,\n",
    "    learning_rate=0.025,\n",
    "    auto_class_weights='Balanced',\n",
    "    # class_weight='balanced'\n",
    ")"
   ]
  },
  {
   "cell_type": "code",
   "execution_count": 121,
   "id": "040c206b",
   "metadata": {},
   "outputs": [],
   "source": [
    "skfold = StratifiedKFold(n_splits=5, shuffle=True, random_state=seed)\n",
    "oof = np.zeros(len(train_df))\n",
    "predictions = []"
   ]
  },
  {
   "cell_type": "code",
   "execution_count": 122,
   "id": "3a5e1a40",
   "metadata": {},
   "outputs": [
    {
     "name": "stdout",
     "output_type": "stream",
     "text": [
      "Fold 1\n",
      "0:\tlearn: 0.6898960\ttest: 0.6893895\tbest: 0.6893895 (0)\ttotal: 4.97ms\tremaining: 4.96s\n",
      "100:\tlearn: 0.6047135\ttest: 0.6058285\tbest: 0.6058285 (100)\ttotal: 344ms\tremaining: 3.06s\n",
      "200:\tlearn: 0.5890514\ttest: 0.5992145\tbest: 0.5989889 (188)\ttotal: 664ms\tremaining: 2.64s\n",
      "Stopped by overfitting detector  (100 iterations wait)\n",
      "\n",
      "bestTest = 0.598988935\n",
      "bestIteration = 188\n",
      "\n",
      "Shrink model to first 189 iterations.\n",
      "Fold 2\n",
      "0:\tlearn: 0.6896967\ttest: 0.6899824\tbest: 0.6899824 (0)\ttotal: 3.76ms\tremaining: 3.75s\n",
      "100:\tlearn: 0.5985032\ttest: 0.6233206\tbest: 0.6233144 (97)\ttotal: 354ms\tremaining: 3.15s\n",
      "200:\tlearn: 0.5828116\ttest: 0.6206994\tbest: 0.6206366 (199)\ttotal: 723ms\tremaining: 2.88s\n",
      "300:\tlearn: 0.5714246\ttest: 0.6233542\tbest: 0.6204882 (206)\ttotal: 1.15s\tremaining: 2.67s\n",
      "Stopped by overfitting detector  (100 iterations wait)\n",
      "\n",
      "bestTest = 0.6204881779\n",
      "bestIteration = 206\n",
      "\n",
      "Shrink model to first 207 iterations.\n",
      "Fold 3\n",
      "0:\tlearn: 0.6892458\ttest: 0.6902551\tbest: 0.6902551 (0)\ttotal: 3.37ms\tremaining: 3.36s\n",
      "100:\tlearn: 0.5996075\ttest: 0.6287305\tbest: 0.6287305 (100)\ttotal: 398ms\tremaining: 3.54s\n",
      "200:\tlearn: 0.5843352\ttest: 0.6261590\tbest: 0.6256601 (164)\ttotal: 825ms\tremaining: 3.28s\n",
      "Stopped by overfitting detector  (100 iterations wait)\n",
      "\n",
      "bestTest = 0.6256601313\n",
      "bestIteration = 164\n",
      "\n",
      "Shrink model to first 165 iterations.\n",
      "Fold 4\n",
      "0:\tlearn: 0.6897436\ttest: 0.6899103\tbest: 0.6899103 (0)\ttotal: 3.68ms\tremaining: 3.67s\n",
      "100:\tlearn: 0.6011941\ttest: 0.6182381\tbest: 0.6182381 (100)\ttotal: 413ms\tremaining: 3.68s\n",
      "200:\tlearn: 0.5854190\ttest: 0.6152751\tbest: 0.6152751 (200)\ttotal: 794ms\tremaining: 3.16s\n",
      "300:\tlearn: 0.5749983\ttest: 0.6160427\tbest: 0.6151897 (207)\ttotal: 1.17s\tremaining: 2.72s\n",
      "Stopped by overfitting detector  (100 iterations wait)\n",
      "\n",
      "bestTest = 0.6151897002\n",
      "bestIteration = 207\n",
      "\n",
      "Shrink model to first 208 iterations.\n",
      "Fold 5\n",
      "0:\tlearn: 0.6896322\ttest: 0.6901430\tbest: 0.6901430 (0)\ttotal: 3.46ms\tremaining: 3.45s\n",
      "100:\tlearn: 0.5997546\ttest: 0.6256832\tbest: 0.6256832 (100)\ttotal: 371ms\tremaining: 3.3s\n",
      "200:\tlearn: 0.5841363\ttest: 0.6224163\tbest: 0.6222859 (188)\ttotal: 793ms\tremaining: 3.15s\n",
      "300:\tlearn: 0.5731922\ttest: 0.6215218\tbest: 0.6214719 (295)\ttotal: 1.21s\tremaining: 2.8s\n",
      "400:\tlearn: 0.5535877\ttest: 0.6214000\tbest: 0.6210886 (309)\ttotal: 1.64s\tremaining: 2.45s\n",
      "Stopped by overfitting detector  (100 iterations wait)\n",
      "\n",
      "bestTest = 0.6210885771\n",
      "bestIteration = 309\n",
      "\n",
      "Shrink model to first 310 iterations.\n"
     ]
    }
   ],
   "source": [
    "for fold, (trn_idx, val_idx) in enumerate(skfold.split(X, y)):\n",
    "    print(f'Fold {fold + 1}')\n",
    "    X_train, y_train = X.iloc[trn_idx], y.iloc[trn_idx]\n",
    "    X_valid, y_valid = X.iloc[val_idx], y.iloc[val_idx]\n",
    "    \n",
    "    model.fit(\n",
    "        X_train, y_train,\n",
    "        eval_set=(X_valid, y_valid),\n",
    "        verbose=100,\n",
    "        early_stopping_rounds=100,\n",
    "    )\n",
    "\n",
    "    oof[val_idx] = model.predict(X_valid)\n",
    "    predictions.append(model.predict_proba(test)[:, 1])"
   ]
  },
  {
   "cell_type": "code",
   "execution_count": 123,
   "id": "c89ec93d",
   "metadata": {},
   "outputs": [],
   "source": [
    "predictions = np.mean(predictions, axis=0)"
   ]
  },
  {
   "cell_type": "code",
   "execution_count": 124,
   "id": "34f2db99",
   "metadata": {},
   "outputs": [
    {
     "data": {
      "text/plain": [
       "0.4118098159509203"
      ]
     },
     "execution_count": 124,
     "metadata": {},
     "output_type": "execute_result"
    }
   ],
   "source": [
    "f1_score(y, oof)"
   ]
  },
  {
   "cell_type": "code",
   "execution_count": 125,
   "id": "f0e62132",
   "metadata": {},
   "outputs": [
    {
     "data": {
      "text/plain": [
       "0.7070282658517952"
      ]
     },
     "execution_count": 125,
     "metadata": {},
     "output_type": "execute_result"
    }
   ],
   "source": [
    "accuracy_score(y, oof)"
   ]
  },
  {
   "cell_type": "code",
   "execution_count": 126,
   "id": "7e76d481",
   "metadata": {},
   "outputs": [
    {
     "data": {
      "text/plain": [
       "(738,)"
      ]
     },
     "execution_count": 126,
     "metadata": {},
     "output_type": "execute_result"
    }
   ],
   "source": [
    "predictions.shape"
   ]
  },
  {
   "cell_type": "code",
   "execution_count": 127,
   "id": "be468602",
   "metadata": {},
   "outputs": [],
   "source": [
    "temp = predictions.copy()"
   ]
  },
  {
   "cell_type": "code",
   "execution_count": 128,
   "id": "2e97f0f3",
   "metadata": {},
   "outputs": [],
   "source": [
    "for i in range(temp.shape[0]):\n",
    "    if temp[i] > 0.5:\n",
    "        temp[i] = 1\n",
    "    else:\n",
    "        temp[i] = 0"
   ]
  },
  {
   "cell_type": "code",
   "execution_count": 129,
   "id": "1bd53467",
   "metadata": {},
   "outputs": [
    {
     "data": {
      "text/plain": [
       "242"
      ]
     },
     "execution_count": 129,
     "metadata": {},
     "output_type": "execute_result"
    }
   ],
   "source": [
    "op.countOf(temp, 1)"
   ]
  },
  {
   "cell_type": "markdown",
   "id": "d03cad0e",
   "metadata": {},
   "source": [
    "Hence, Catboost with K fold cross validation is best model as it produces good f1 score as well as good number of active users."
   ]
  },
  {
   "cell_type": "code",
   "execution_count": 130,
   "id": "e2110411",
   "metadata": {},
   "outputs": [
    {
     "data": {
      "image/png": "[encoded data removed]",
      "text/plain": [
       "<Figure size 432x288 with 1 Axes>"
      ]
     },
     "metadata": {
      "needs_background": "light"
     },
     "output_type": "display_data"
    }
   ],
   "source": [
    "feat_importances = pd.Series(model.feature_importances_, index=X.columns)\n",
    "feat_importances.nlargest(20).plot(kind='barh')\n",
    "plt.show()"
   ]
  },
  {
   "cell_type": "code",
   "execution_count": 131,
   "id": "8508120f",
   "metadata": {},
   "outputs": [],
   "source": [
    "sub = pd.DataFrame({\n",
    "    'User_ID_Next_month_Activity': test_df.User_ID,\n",
    "    'Active': predictions\n",
    "})"
   ]
  },
  {
   "cell_type": "code",
   "execution_count": 132,
   "id": "b64f0f17",
   "metadata": {},
   "outputs": [
    {
     "data": {
      "text/plain": [
       "count    738.000000\n",
       "mean       0.432786\n",
       "std        0.155333\n",
       "min        0.211876\n",
       "25%        0.306844\n",
       "50%        0.370835\n",
       "75%        0.539946\n",
       "max        0.904540\n",
       "Name: Active, dtype: float64"
      ]
     },
     "execution_count": 132,
     "metadata": {},
     "output_type": "execute_result"
    }
   ],
   "source": [
    "sub.Active.describe()"
   ]
  },
  {
   "cell_type": "code",
   "execution_count": 133,
   "id": "d4cd68f9",
   "metadata": {},
   "outputs": [
    {
     "data": {
      "text/plain": [
       "0      0.310930\n",
       "1      0.310758\n",
       "2      0.853734\n",
       "3      0.306688\n",
       "4      0.343010\n",
       "         ...   \n",
       "733    0.604838\n",
       "734    0.472600\n",
       "735    0.237972\n",
       "736    0.584016\n",
       "737    0.317675\n",
       "Name: Active, Length: 738, dtype: float64"
      ]
     },
     "execution_count": 133,
     "metadata": {},
     "output_type": "execute_result"
    }
   ],
   "source": [
    "sub[\"Active\"]"
   ]
  },
  {
   "cell_type": "code",
   "execution_count": 134,
   "id": "887d4f55",
   "metadata": {},
   "outputs": [
    {
     "data": {
      "text/html": [
       "<div>\n",
       "<style scoped>\n",
       "    .dataframe tbody tr th:only-of-type {\n",
       "        vertical-align: middle;\n",
       "    }\n",
       "\n",
       "    .dataframe tbody tr th {\n",
       "        vertical-align: top;\n",
       "    }\n",
       "\n",
       "    .dataframe thead th {\n",
       "        text-align: right;\n",
       "    }\n",
       "</style>\n",
       "<table border=\"1\" class=\"dataframe\">\n",
       "  <thead>\n",
       "    <tr style=\"text-align: right;\">\n",
       "      <th></th>\n",
       "      <th>User_ID_Next_month_Activity</th>\n",
       "      <th>Active</th>\n",
       "    </tr>\n",
       "  </thead>\n",
       "  <tbody>\n",
       "    <tr>\n",
       "      <th>0</th>\n",
       "      <td>ID_ZZMHNLNT_Month_5</td>\n",
       "      <td>0</td>\n",
       "    </tr>\n",
       "    <tr>\n",
       "      <th>1</th>\n",
       "      <td>ID_ZWDD4T41_Month_5</td>\n",
       "      <td>0</td>\n",
       "    </tr>\n",
       "    <tr>\n",
       "      <th>2</th>\n",
       "      <td>ID_ZUVTLGY7_Month_5</td>\n",
       "      <td>1</td>\n",
       "    </tr>\n",
       "    <tr>\n",
       "      <th>3</th>\n",
       "      <td>ID_ZT27LY0Q_Month_5</td>\n",
       "      <td>0</td>\n",
       "    </tr>\n",
       "    <tr>\n",
       "      <th>4</th>\n",
       "      <td>ID_ZQM6PUGO_Month_5</td>\n",
       "      <td>0</td>\n",
       "    </tr>\n",
       "    <tr>\n",
       "      <th>...</th>\n",
       "      <td>...</td>\n",
       "      <td>...</td>\n",
       "    </tr>\n",
       "    <tr>\n",
       "      <th>733</th>\n",
       "      <td>ID_04OT901K_Month_5</td>\n",
       "      <td>1</td>\n",
       "    </tr>\n",
       "    <tr>\n",
       "      <th>734</th>\n",
       "      <td>ID_04GIS1QZ_Month_5</td>\n",
       "      <td>0</td>\n",
       "    </tr>\n",
       "    <tr>\n",
       "      <th>735</th>\n",
       "      <td>ID_02F14MDW_Month_5</td>\n",
       "      <td>0</td>\n",
       "    </tr>\n",
       "    <tr>\n",
       "      <th>736</th>\n",
       "      <td>ID_028JJTDW_Month_5</td>\n",
       "      <td>1</td>\n",
       "    </tr>\n",
       "    <tr>\n",
       "      <th>737</th>\n",
       "      <td>ID_003YJHQA_Month_5</td>\n",
       "      <td>0</td>\n",
       "    </tr>\n",
       "  </tbody>\n",
       "</table>\n",
       "<p>738 rows × 2 columns</p>\n",
       "</div>"
      ],
      "text/plain": [
       "    User_ID_Next_month_Activity  Active\n",
       "0           ID_ZZMHNLNT_Month_5       0\n",
       "1           ID_ZWDD4T41_Month_5       0\n",
       "2           ID_ZUVTLGY7_Month_5       1\n",
       "3           ID_ZT27LY0Q_Month_5       0\n",
       "4           ID_ZQM6PUGO_Month_5       0\n",
       "..                          ...     ...\n",
       "733         ID_04OT901K_Month_5       1\n",
       "734         ID_04GIS1QZ_Month_5       0\n",
       "735         ID_02F14MDW_Month_5       0\n",
       "736         ID_028JJTDW_Month_5       1\n",
       "737         ID_003YJHQA_Month_5       0\n",
       "\n",
       "[738 rows x 2 columns]"
      ]
     },
     "execution_count": 134,
     "metadata": {},
     "output_type": "execute_result"
    }
   ],
   "source": [
    "sub.Active = sub.Active.apply(lambda x: 1 if x > 0.5 else 0)\n",
    "sub.User_ID_Next_month_Activity = sub.User_ID_Next_month_Activity + '_Month_5'\n",
    "sub"
   ]
  },
  {
   "cell_type": "code",
   "execution_count": 135,
   "id": "9dd3b9b9",
   "metadata": {},
   "outputs": [],
   "source": [
    "sub = pd.merge(SampleSubmission.drop(columns='Active'), sub, on='User_ID_Next_month_Activity', how='left').fillna(0)"
   ]
  },
  {
   "cell_type": "code",
   "execution_count": 136,
   "id": "74670040",
   "metadata": {},
   "outputs": [
    {
     "data": {
      "text/plain": [
       "0.0    1098\n",
       "1.0     242\n",
       "Name: Active, dtype: int64"
      ]
     },
     "execution_count": 136,
     "metadata": {},
     "output_type": "execute_result"
    }
   ],
   "source": [
    "sub.Active.value_counts()"
   ]
  },
  {
   "cell_type": "code",
   "execution_count": 137,
   "id": "a9257651",
   "metadata": {},
   "outputs": [],
   "source": [
    "sub.to_csv('submission2.csv', index=False)"
   ]
  }
 ],
 "metadata": {
  "kernelspec": {
   "display_name": "Python 3 (ipykernel)",
   "language": "python",
   "name": "python3"
  },
  "language_info": {
   "codemirror_mode": {
    "name": "ipython",
    "version": 3
   },
   "file_extension": ".py",
   "mimetype": "text/x-python",
   "name": "python",
   "nbconvert_exporter": "python",
   "pygments_lexer": "ipython3",
   "version": "3.9.7"
  }
 },
 "nbformat": 4,
 "nbformat_minor": 5
}
