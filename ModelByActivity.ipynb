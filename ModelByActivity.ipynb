{
 "cells": [
  {
   "cell_type": "code",
   "execution_count": 1,
   "id": "e9d30fa2",
   "metadata": {},
   "outputs": [],
   "source": [
    "import pandas as pd\n",
    "import numpy as np\n",
    "import matplotlib.pyplot as plt\n",
    "import operator as op\n",
    "import warnings\n",
    "warnings.filterwarnings(action = 'ignore')\n",
    "from IPython.display import display\n",
    "seed = 21"
   ]
  },
  {
   "cell_type": "code",
   "execution_count": 2,
   "id": "9ea40404",
   "metadata": {},
   "outputs": [],
   "source": [
    "df = pd.read_csv(\"Dataset1.csv\")"
   ]
  },
  {
   "cell_type": "code",
   "execution_count": 3,
   "id": "751f7d06",
   "metadata": {},
   "outputs": [],
   "source": [
    "df.drop(\"Unnamed: 0\", axis = 1, inplace=True)"
   ]
  },
  {
   "cell_type": "code",
   "execution_count": 4,
   "id": "03bcf846",
   "metadata": {},
   "outputs": [],
   "source": [
    "df[\"User_ID\"] = df[\"User_ID\"].astype(\"string\")"
   ]
  },
  {
   "cell_type": "code",
   "execution_count": 5,
   "id": "8fb07f52",
   "metadata": {},
   "outputs": [
    {
     "data": {
      "text/html": [
       "<div>\n",
       "<style scoped>\n",
       "    .dataframe tbody tr th:only-of-type {\n",
       "        vertical-align: middle;\n",
       "    }\n",
       "\n",
       "    .dataframe tbody tr th {\n",
       "        vertical-align: top;\n",
       "    }\n",
       "\n",
       "    .dataframe thead th {\n",
       "        text-align: right;\n",
       "    }\n",
       "</style>\n",
       "<table border=\"1\" class=\"dataframe\">\n",
       "  <thead>\n",
       "    <tr style=\"text-align: right;\">\n",
       "      <th></th>\n",
       "      <th>User_ID</th>\n",
       "      <th>Participant_Type</th>\n",
       "      <th>Successful_Submission_Count</th>\n",
       "      <th>Comp_participation_day</th>\n",
       "      <th>FeatureA</th>\n",
       "      <th>FeatureB</th>\n",
       "      <th>FeatureC</th>\n",
       "      <th>FeatureD</th>\n",
       "      <th>FeatureE</th>\n",
       "      <th>SecretCode</th>\n",
       "      <th>...</th>\n",
       "      <th>Updated_Profile</th>\n",
       "      <th>blog_ID</th>\n",
       "      <th>Viewed_Discussion</th>\n",
       "      <th>Updated_Submission</th>\n",
       "      <th>badge_HYIO</th>\n",
       "      <th>count_UA</th>\n",
       "      <th>Day_duration</th>\n",
       "      <th>FeatureX</th>\n",
       "      <th>FeatureY</th>\n",
       "      <th>User_sign-in_day</th>\n",
       "    </tr>\n",
       "  </thead>\n",
       "  <tbody>\n",
       "    <tr>\n",
       "      <th>0</th>\n",
       "      <td>ID_000H9XOP</td>\n",
       "      <td>0.0</td>\n",
       "      <td>0.0</td>\n",
       "      <td>0.0</td>\n",
       "      <td>-1.0</td>\n",
       "      <td>-1.0</td>\n",
       "      <td>-1.0</td>\n",
       "      <td>-1.0</td>\n",
       "      <td>-1.0</td>\n",
       "      <td>-1.0</td>\n",
       "      <td>...</td>\n",
       "      <td>0.0</td>\n",
       "      <td>0.0</td>\n",
       "      <td>0.0</td>\n",
       "      <td>0.0</td>\n",
       "      <td>0.0</td>\n",
       "      <td>6.0</td>\n",
       "      <td>5.0</td>\n",
       "      <td>0.0</td>\n",
       "      <td>1.0</td>\n",
       "      <td>22.0</td>\n",
       "    </tr>\n",
       "    <tr>\n",
       "      <th>1</th>\n",
       "      <td>ID_003YJHQA</td>\n",
       "      <td>0.0</td>\n",
       "      <td>0.0</td>\n",
       "      <td>0.0</td>\n",
       "      <td>-1.0</td>\n",
       "      <td>-1.0</td>\n",
       "      <td>-1.0</td>\n",
       "      <td>-1.0</td>\n",
       "      <td>-1.0</td>\n",
       "      <td>-1.0</td>\n",
       "      <td>...</td>\n",
       "      <td>2.0</td>\n",
       "      <td>0.0</td>\n",
       "      <td>0.0</td>\n",
       "      <td>0.0</td>\n",
       "      <td>0.0</td>\n",
       "      <td>11.0</td>\n",
       "      <td>1.0</td>\n",
       "      <td>0.0</td>\n",
       "      <td>1.0</td>\n",
       "      <td>12.0</td>\n",
       "    </tr>\n",
       "    <tr>\n",
       "      <th>2</th>\n",
       "      <td>ID_004UKSJV</td>\n",
       "      <td>0.0</td>\n",
       "      <td>0.0</td>\n",
       "      <td>0.0</td>\n",
       "      <td>-1.0</td>\n",
       "      <td>-1.0</td>\n",
       "      <td>-1.0</td>\n",
       "      <td>-1.0</td>\n",
       "      <td>-1.0</td>\n",
       "      <td>-1.0</td>\n",
       "      <td>...</td>\n",
       "      <td>2.0</td>\n",
       "      <td>0.0</td>\n",
       "      <td>0.0</td>\n",
       "      <td>0.0</td>\n",
       "      <td>0.0</td>\n",
       "      <td>6.0</td>\n",
       "      <td>1.5</td>\n",
       "      <td>-0.5</td>\n",
       "      <td>-0.5</td>\n",
       "      <td>14.0</td>\n",
       "    </tr>\n",
       "    <tr>\n",
       "      <th>3</th>\n",
       "      <td>ID_008D2J6C</td>\n",
       "      <td>0.0</td>\n",
       "      <td>0.0</td>\n",
       "      <td>0.0</td>\n",
       "      <td>-1.0</td>\n",
       "      <td>-1.0</td>\n",
       "      <td>-1.0</td>\n",
       "      <td>-1.0</td>\n",
       "      <td>-1.0</td>\n",
       "      <td>-1.0</td>\n",
       "      <td>...</td>\n",
       "      <td>2.0</td>\n",
       "      <td>0.0</td>\n",
       "      <td>0.0</td>\n",
       "      <td>0.0</td>\n",
       "      <td>0.0</td>\n",
       "      <td>10.0</td>\n",
       "      <td>9.0</td>\n",
       "      <td>0.0</td>\n",
       "      <td>0.0</td>\n",
       "      <td>7.0</td>\n",
       "    </tr>\n",
       "    <tr>\n",
       "      <th>4</th>\n",
       "      <td>ID_00ETFE7J</td>\n",
       "      <td>0.0</td>\n",
       "      <td>0.0</td>\n",
       "      <td>0.0</td>\n",
       "      <td>-1.0</td>\n",
       "      <td>-1.0</td>\n",
       "      <td>-1.0</td>\n",
       "      <td>-1.0</td>\n",
       "      <td>-1.0</td>\n",
       "      <td>-1.0</td>\n",
       "      <td>...</td>\n",
       "      <td>0.0</td>\n",
       "      <td>1.0</td>\n",
       "      <td>0.0</td>\n",
       "      <td>0.0</td>\n",
       "      <td>0.0</td>\n",
       "      <td>10.0</td>\n",
       "      <td>10.0</td>\n",
       "      <td>0.0</td>\n",
       "      <td>0.0</td>\n",
       "      <td>6.0</td>\n",
       "    </tr>\n",
       "    <tr>\n",
       "      <th>...</th>\n",
       "      <td>...</td>\n",
       "      <td>...</td>\n",
       "      <td>...</td>\n",
       "      <td>...</td>\n",
       "      <td>...</td>\n",
       "      <td>...</td>\n",
       "      <td>...</td>\n",
       "      <td>...</td>\n",
       "      <td>...</td>\n",
       "      <td>...</td>\n",
       "      <td>...</td>\n",
       "      <td>...</td>\n",
       "      <td>...</td>\n",
       "      <td>...</td>\n",
       "      <td>...</td>\n",
       "      <td>...</td>\n",
       "      <td>...</td>\n",
       "      <td>...</td>\n",
       "      <td>...</td>\n",
       "      <td>...</td>\n",
       "      <td>...</td>\n",
       "    </tr>\n",
       "    <tr>\n",
       "      <th>12408</th>\n",
       "      <td>ID_ZZMHNLNT</td>\n",
       "      <td>0.0</td>\n",
       "      <td>0.0</td>\n",
       "      <td>0.0</td>\n",
       "      <td>-1.0</td>\n",
       "      <td>-1.0</td>\n",
       "      <td>-1.0</td>\n",
       "      <td>-1.0</td>\n",
       "      <td>-1.0</td>\n",
       "      <td>-1.0</td>\n",
       "      <td>...</td>\n",
       "      <td>0.0</td>\n",
       "      <td>0.0</td>\n",
       "      <td>0.0</td>\n",
       "      <td>0.0</td>\n",
       "      <td>0.0</td>\n",
       "      <td>8.0</td>\n",
       "      <td>1.0</td>\n",
       "      <td>0.0</td>\n",
       "      <td>0.0</td>\n",
       "      <td>1.0</td>\n",
       "    </tr>\n",
       "    <tr>\n",
       "      <th>12409</th>\n",
       "      <td>ID_ZZQK0LU6</td>\n",
       "      <td>1.0</td>\n",
       "      <td>0.0</td>\n",
       "      <td>29.0</td>\n",
       "      <td>1.5</td>\n",
       "      <td>0.0</td>\n",
       "      <td>13.5</td>\n",
       "      <td>0.0</td>\n",
       "      <td>2.0</td>\n",
       "      <td>1.0</td>\n",
       "      <td>...</td>\n",
       "      <td>0.0</td>\n",
       "      <td>0.0</td>\n",
       "      <td>0.0</td>\n",
       "      <td>0.0</td>\n",
       "      <td>0.0</td>\n",
       "      <td>134.0</td>\n",
       "      <td>2.0</td>\n",
       "      <td>0.0</td>\n",
       "      <td>3.0</td>\n",
       "      <td>29.0</td>\n",
       "    </tr>\n",
       "    <tr>\n",
       "      <th>12410</th>\n",
       "      <td>ID_ZZUNZJ2U</td>\n",
       "      <td>0.0</td>\n",
       "      <td>0.0</td>\n",
       "      <td>0.0</td>\n",
       "      <td>-1.0</td>\n",
       "      <td>-1.0</td>\n",
       "      <td>-1.0</td>\n",
       "      <td>-1.0</td>\n",
       "      <td>-1.0</td>\n",
       "      <td>-1.0</td>\n",
       "      <td>...</td>\n",
       "      <td>0.0</td>\n",
       "      <td>0.0</td>\n",
       "      <td>0.0</td>\n",
       "      <td>0.0</td>\n",
       "      <td>0.0</td>\n",
       "      <td>12.0</td>\n",
       "      <td>1.0</td>\n",
       "      <td>0.0</td>\n",
       "      <td>0.0</td>\n",
       "      <td>30.0</td>\n",
       "    </tr>\n",
       "    <tr>\n",
       "      <th>12411</th>\n",
       "      <td>ID_ZZVM2KO7</td>\n",
       "      <td>0.0</td>\n",
       "      <td>0.0</td>\n",
       "      <td>0.0</td>\n",
       "      <td>-1.0</td>\n",
       "      <td>-1.0</td>\n",
       "      <td>-1.0</td>\n",
       "      <td>-1.0</td>\n",
       "      <td>-1.0</td>\n",
       "      <td>-1.0</td>\n",
       "      <td>...</td>\n",
       "      <td>0.0</td>\n",
       "      <td>0.0</td>\n",
       "      <td>0.0</td>\n",
       "      <td>0.0</td>\n",
       "      <td>0.0</td>\n",
       "      <td>0.0</td>\n",
       "      <td>0.0</td>\n",
       "      <td>0.0</td>\n",
       "      <td>0.0</td>\n",
       "      <td>22.0</td>\n",
       "    </tr>\n",
       "    <tr>\n",
       "      <th>12412</th>\n",
       "      <td>ID_ZZVUJ45W</td>\n",
       "      <td>1.0</td>\n",
       "      <td>0.0</td>\n",
       "      <td>5.0</td>\n",
       "      <td>1.0</td>\n",
       "      <td>7.0</td>\n",
       "      <td>4.0</td>\n",
       "      <td>1.0</td>\n",
       "      <td>1.0</td>\n",
       "      <td>0.0</td>\n",
       "      <td>...</td>\n",
       "      <td>0.0</td>\n",
       "      <td>0.0</td>\n",
       "      <td>0.0</td>\n",
       "      <td>0.0</td>\n",
       "      <td>0.0</td>\n",
       "      <td>52.0</td>\n",
       "      <td>1.0</td>\n",
       "      <td>0.0</td>\n",
       "      <td>0.0</td>\n",
       "      <td>5.0</td>\n",
       "    </tr>\n",
       "  </tbody>\n",
       "</table>\n",
       "<p>12413 rows × 45 columns</p>\n",
       "</div>"
      ],
      "text/plain": [
       "           User_ID  Participant_Type  Successful_Submission_Count  \\\n",
       "0      ID_000H9XOP               0.0                          0.0   \n",
       "1      ID_003YJHQA               0.0                          0.0   \n",
       "2      ID_004UKSJV               0.0                          0.0   \n",
       "3      ID_008D2J6C               0.0                          0.0   \n",
       "4      ID_00ETFE7J               0.0                          0.0   \n",
       "...            ...               ...                          ...   \n",
       "12408  ID_ZZMHNLNT               0.0                          0.0   \n",
       "12409  ID_ZZQK0LU6               1.0                          0.0   \n",
       "12410  ID_ZZUNZJ2U               0.0                          0.0   \n",
       "12411  ID_ZZVM2KO7               0.0                          0.0   \n",
       "12412  ID_ZZVUJ45W               1.0                          0.0   \n",
       "\n",
       "       Comp_participation_day  FeatureA  FeatureB  FeatureC  FeatureD  \\\n",
       "0                         0.0      -1.0      -1.0      -1.0      -1.0   \n",
       "1                         0.0      -1.0      -1.0      -1.0      -1.0   \n",
       "2                         0.0      -1.0      -1.0      -1.0      -1.0   \n",
       "3                         0.0      -1.0      -1.0      -1.0      -1.0   \n",
       "4                         0.0      -1.0      -1.0      -1.0      -1.0   \n",
       "...                       ...       ...       ...       ...       ...   \n",
       "12408                     0.0      -1.0      -1.0      -1.0      -1.0   \n",
       "12409                    29.0       1.5       0.0      13.5       0.0   \n",
       "12410                     0.0      -1.0      -1.0      -1.0      -1.0   \n",
       "12411                     0.0      -1.0      -1.0      -1.0      -1.0   \n",
       "12412                     5.0       1.0       7.0       4.0       1.0   \n",
       "\n",
       "       FeatureE  SecretCode  ...  Updated_Profile  blog_ID  Viewed_Discussion  \\\n",
       "0          -1.0        -1.0  ...              0.0      0.0                0.0   \n",
       "1          -1.0        -1.0  ...              2.0      0.0                0.0   \n",
       "2          -1.0        -1.0  ...              2.0      0.0                0.0   \n",
       "3          -1.0        -1.0  ...              2.0      0.0                0.0   \n",
       "4          -1.0        -1.0  ...              0.0      1.0                0.0   \n",
       "...         ...         ...  ...              ...      ...                ...   \n",
       "12408      -1.0        -1.0  ...              0.0      0.0                0.0   \n",
       "12409       2.0         1.0  ...              0.0      0.0                0.0   \n",
       "12410      -1.0        -1.0  ...              0.0      0.0                0.0   \n",
       "12411      -1.0        -1.0  ...              0.0      0.0                0.0   \n",
       "12412       1.0         0.0  ...              0.0      0.0                0.0   \n",
       "\n",
       "       Updated_Submission  badge_HYIO  count_UA  Day_duration  FeatureX  \\\n",
       "0                     0.0         0.0       6.0           5.0       0.0   \n",
       "1                     0.0         0.0      11.0           1.0       0.0   \n",
       "2                     0.0         0.0       6.0           1.5      -0.5   \n",
       "3                     0.0         0.0      10.0           9.0       0.0   \n",
       "4                     0.0         0.0      10.0          10.0       0.0   \n",
       "...                   ...         ...       ...           ...       ...   \n",
       "12408                 0.0         0.0       8.0           1.0       0.0   \n",
       "12409                 0.0         0.0     134.0           2.0       0.0   \n",
       "12410                 0.0         0.0      12.0           1.0       0.0   \n",
       "12411                 0.0         0.0       0.0           0.0       0.0   \n",
       "12412                 0.0         0.0      52.0           1.0       0.0   \n",
       "\n",
       "       FeatureY  User_sign-in_day  \n",
       "0           1.0              22.0  \n",
       "1           1.0              12.0  \n",
       "2          -0.5              14.0  \n",
       "3           0.0               7.0  \n",
       "4           0.0               6.0  \n",
       "...         ...               ...  \n",
       "12408       0.0               1.0  \n",
       "12409       3.0              29.0  \n",
       "12410       0.0              30.0  \n",
       "12411       0.0              22.0  \n",
       "12412       0.0               5.0  \n",
       "\n",
       "[12413 rows x 45 columns]"
      ]
     },
     "execution_count": 5,
     "metadata": {},
     "output_type": "execute_result"
    }
   ],
   "source": [
    "df"
   ]
  },
  {
   "cell_type": "code",
   "execution_count": 6,
   "id": "6d1a4110",
   "metadata": {},
   "outputs": [
    {
     "name": "stdout",
     "output_type": "stream",
     "text": [
      "<class 'pandas.core.frame.DataFrame'>\n",
      "RangeIndex: 12413 entries, 0 to 12412\n",
      "Data columns (total 45 columns):\n",
      " #   Column                           Non-Null Count  Dtype  \n",
      "---  ------                           --------------  -----  \n",
      " 0   User_ID                          12413 non-null  string \n",
      " 1   Participant_Type                 12413 non-null  float64\n",
      " 2   Successful_Submission_Count      12413 non-null  float64\n",
      " 3   Comp_participation_day           12413 non-null  float64\n",
      " 4   FeatureA                         12413 non-null  float64\n",
      " 5   FeatureB                         12413 non-null  float64\n",
      " 6   FeatureC                         12413 non-null  float64\n",
      " 7   FeatureD                         12413 non-null  float64\n",
      " 8   FeatureE                         12413 non-null  float64\n",
      " 9   SecretCode                       12413 non-null  float64\n",
      " 10  FeatureF                         12413 non-null  float64\n",
      " 11  FeatureG                         12413 non-null  float64\n",
      " 12  FeatureH                         12413 non-null  float64\n",
      " 13  FeatureI                         12413 non-null  float64\n",
      " 14  Country_ID                       12413 non-null  float64\n",
      " 15  competition_ended_month          12413 non-null  float64\n",
      " 16  competition_started_month        12413 non-null  float64\n",
      " 17  Day_last_active                  12413 non-null  float64\n",
      " 18  Downloaded_Competition_Datafile  12413 non-null  float64\n",
      " 19  Viewed_All_Discussions           12413 non-null  float64\n",
      " 20  Confirmed_Email                  12413 non-null  float64\n",
      " 21  Joined_Competition               12413 non-null  float64\n",
      " 22  Signed_Up                        12413 non-null  float64\n",
      " 23  Viewed_All_Competitions          12413 non-null  float64\n",
      " 24  Viewed_All_Learning_Pages        12413 non-null  float64\n",
      " 25  badge_OCZE                       12413 non-null  float64\n",
      " 26  create_alias                     12413 non-null  float64\n",
      " 27  identify                         12413 non-null  float64\n",
      " 28  comp_ID                          12413 non-null  float64\n",
      " 29  Signed_In                        12413 non-null  float64\n",
      " 30  job_ID                           12413 non-null  float64\n",
      " 31  Updated_Discussion               12413 non-null  float64\n",
      " 32  Viewed_All_Jobs                  12413 non-null  float64\n",
      " 33  Created_Submission               12413 non-null  float64\n",
      " 34  Signed_Out                       12413 non-null  float64\n",
      " 35  Updated_Profile                  12413 non-null  float64\n",
      " 36  blog_ID                          12413 non-null  float64\n",
      " 37  Viewed_Discussion                12413 non-null  float64\n",
      " 38  Updated_Submission               12413 non-null  float64\n",
      " 39  badge_HYIO                       12413 non-null  float64\n",
      " 40  count_UA                         12413 non-null  float64\n",
      " 41  Day_duration                     12413 non-null  float64\n",
      " 42  FeatureX                         12413 non-null  float64\n",
      " 43  FeatureY                         12413 non-null  float64\n",
      " 44  User_sign-in_day                 12413 non-null  float64\n",
      "dtypes: float64(44), string(1)\n",
      "memory usage: 4.3 MB\n"
     ]
    }
   ],
   "source": [
    "df.info()"
   ]
  },
  {
   "cell_type": "code",
   "execution_count": 7,
   "id": "4db7abd7",
   "metadata": {},
   "outputs": [],
   "source": [
    "temp = df.copy()"
   ]
  },
  {
   "cell_type": "code",
   "execution_count": 8,
   "id": "7ff3918f",
   "metadata": {},
   "outputs": [
    {
     "data": {
      "text/plain": [
       "12413"
      ]
     },
     "execution_count": 8,
     "metadata": {},
     "output_type": "execute_result"
    }
   ],
   "source": [
    "len(temp[\"User_ID\"].unique())"
   ]
  },
  {
   "cell_type": "code",
   "execution_count": 9,
   "id": "e5db3412",
   "metadata": {},
   "outputs": [],
   "source": [
    "temp = temp.sort_values(\"User_ID\")"
   ]
  },
  {
   "cell_type": "code",
   "execution_count": 10,
   "id": "9c6f7f9d",
   "metadata": {},
   "outputs": [
    {
     "data": {
      "text/html": [
       "<div>\n",
       "<style scoped>\n",
       "    .dataframe tbody tr th:only-of-type {\n",
       "        vertical-align: middle;\n",
       "    }\n",
       "\n",
       "    .dataframe tbody tr th {\n",
       "        vertical-align: top;\n",
       "    }\n",
       "\n",
       "    .dataframe thead th {\n",
       "        text-align: right;\n",
       "    }\n",
       "</style>\n",
       "<table border=\"1\" class=\"dataframe\">\n",
       "  <thead>\n",
       "    <tr style=\"text-align: right;\">\n",
       "      <th></th>\n",
       "      <th>User_ID</th>\n",
       "      <th>Participant_Type</th>\n",
       "      <th>Successful_Submission_Count</th>\n",
       "      <th>Comp_participation_day</th>\n",
       "      <th>FeatureA</th>\n",
       "      <th>FeatureB</th>\n",
       "      <th>FeatureC</th>\n",
       "      <th>FeatureD</th>\n",
       "      <th>FeatureE</th>\n",
       "      <th>SecretCode</th>\n",
       "      <th>...</th>\n",
       "      <th>Updated_Profile</th>\n",
       "      <th>blog_ID</th>\n",
       "      <th>Viewed_Discussion</th>\n",
       "      <th>Updated_Submission</th>\n",
       "      <th>badge_HYIO</th>\n",
       "      <th>count_UA</th>\n",
       "      <th>Day_duration</th>\n",
       "      <th>FeatureX</th>\n",
       "      <th>FeatureY</th>\n",
       "      <th>User_sign-in_day</th>\n",
       "    </tr>\n",
       "  </thead>\n",
       "  <tbody>\n",
       "    <tr>\n",
       "      <th>0</th>\n",
       "      <td>ID_000H9XOP</td>\n",
       "      <td>0.0</td>\n",
       "      <td>0.0</td>\n",
       "      <td>0.0</td>\n",
       "      <td>-1.0</td>\n",
       "      <td>-1.0</td>\n",
       "      <td>-1.0</td>\n",
       "      <td>-1.0</td>\n",
       "      <td>-1.0</td>\n",
       "      <td>-1.0</td>\n",
       "      <td>...</td>\n",
       "      <td>0.0</td>\n",
       "      <td>0.0</td>\n",
       "      <td>0.0</td>\n",
       "      <td>0.0</td>\n",
       "      <td>0.0</td>\n",
       "      <td>6.0</td>\n",
       "      <td>5.0</td>\n",
       "      <td>0.0</td>\n",
       "      <td>1.0</td>\n",
       "      <td>22.0</td>\n",
       "    </tr>\n",
       "    <tr>\n",
       "      <th>1</th>\n",
       "      <td>ID_003YJHQA</td>\n",
       "      <td>0.0</td>\n",
       "      <td>0.0</td>\n",
       "      <td>0.0</td>\n",
       "      <td>-1.0</td>\n",
       "      <td>-1.0</td>\n",
       "      <td>-1.0</td>\n",
       "      <td>-1.0</td>\n",
       "      <td>-1.0</td>\n",
       "      <td>-1.0</td>\n",
       "      <td>...</td>\n",
       "      <td>2.0</td>\n",
       "      <td>0.0</td>\n",
       "      <td>0.0</td>\n",
       "      <td>0.0</td>\n",
       "      <td>0.0</td>\n",
       "      <td>11.0</td>\n",
       "      <td>1.0</td>\n",
       "      <td>0.0</td>\n",
       "      <td>1.0</td>\n",
       "      <td>12.0</td>\n",
       "    </tr>\n",
       "    <tr>\n",
       "      <th>2</th>\n",
       "      <td>ID_004UKSJV</td>\n",
       "      <td>0.0</td>\n",
       "      <td>0.0</td>\n",
       "      <td>0.0</td>\n",
       "      <td>-1.0</td>\n",
       "      <td>-1.0</td>\n",
       "      <td>-1.0</td>\n",
       "      <td>-1.0</td>\n",
       "      <td>-1.0</td>\n",
       "      <td>-1.0</td>\n",
       "      <td>...</td>\n",
       "      <td>2.0</td>\n",
       "      <td>0.0</td>\n",
       "      <td>0.0</td>\n",
       "      <td>0.0</td>\n",
       "      <td>0.0</td>\n",
       "      <td>6.0</td>\n",
       "      <td>1.5</td>\n",
       "      <td>-0.5</td>\n",
       "      <td>-0.5</td>\n",
       "      <td>14.0</td>\n",
       "    </tr>\n",
       "    <tr>\n",
       "      <th>3</th>\n",
       "      <td>ID_008D2J6C</td>\n",
       "      <td>0.0</td>\n",
       "      <td>0.0</td>\n",
       "      <td>0.0</td>\n",
       "      <td>-1.0</td>\n",
       "      <td>-1.0</td>\n",
       "      <td>-1.0</td>\n",
       "      <td>-1.0</td>\n",
       "      <td>-1.0</td>\n",
       "      <td>-1.0</td>\n",
       "      <td>...</td>\n",
       "      <td>2.0</td>\n",
       "      <td>0.0</td>\n",
       "      <td>0.0</td>\n",
       "      <td>0.0</td>\n",
       "      <td>0.0</td>\n",
       "      <td>10.0</td>\n",
       "      <td>9.0</td>\n",
       "      <td>0.0</td>\n",
       "      <td>0.0</td>\n",
       "      <td>7.0</td>\n",
       "    </tr>\n",
       "    <tr>\n",
       "      <th>4</th>\n",
       "      <td>ID_00ETFE7J</td>\n",
       "      <td>0.0</td>\n",
       "      <td>0.0</td>\n",
       "      <td>0.0</td>\n",
       "      <td>-1.0</td>\n",
       "      <td>-1.0</td>\n",
       "      <td>-1.0</td>\n",
       "      <td>-1.0</td>\n",
       "      <td>-1.0</td>\n",
       "      <td>-1.0</td>\n",
       "      <td>...</td>\n",
       "      <td>0.0</td>\n",
       "      <td>1.0</td>\n",
       "      <td>0.0</td>\n",
       "      <td>0.0</td>\n",
       "      <td>0.0</td>\n",
       "      <td>10.0</td>\n",
       "      <td>10.0</td>\n",
       "      <td>0.0</td>\n",
       "      <td>0.0</td>\n",
       "      <td>6.0</td>\n",
       "    </tr>\n",
       "    <tr>\n",
       "      <th>...</th>\n",
       "      <td>...</td>\n",
       "      <td>...</td>\n",
       "      <td>...</td>\n",
       "      <td>...</td>\n",
       "      <td>...</td>\n",
       "      <td>...</td>\n",
       "      <td>...</td>\n",
       "      <td>...</td>\n",
       "      <td>...</td>\n",
       "      <td>...</td>\n",
       "      <td>...</td>\n",
       "      <td>...</td>\n",
       "      <td>...</td>\n",
       "      <td>...</td>\n",
       "      <td>...</td>\n",
       "      <td>...</td>\n",
       "      <td>...</td>\n",
       "      <td>...</td>\n",
       "      <td>...</td>\n",
       "      <td>...</td>\n",
       "      <td>...</td>\n",
       "    </tr>\n",
       "    <tr>\n",
       "      <th>12408</th>\n",
       "      <td>ID_ZZMHNLNT</td>\n",
       "      <td>0.0</td>\n",
       "      <td>0.0</td>\n",
       "      <td>0.0</td>\n",
       "      <td>-1.0</td>\n",
       "      <td>-1.0</td>\n",
       "      <td>-1.0</td>\n",
       "      <td>-1.0</td>\n",
       "      <td>-1.0</td>\n",
       "      <td>-1.0</td>\n",
       "      <td>...</td>\n",
       "      <td>0.0</td>\n",
       "      <td>0.0</td>\n",
       "      <td>0.0</td>\n",
       "      <td>0.0</td>\n",
       "      <td>0.0</td>\n",
       "      <td>8.0</td>\n",
       "      <td>1.0</td>\n",
       "      <td>0.0</td>\n",
       "      <td>0.0</td>\n",
       "      <td>1.0</td>\n",
       "    </tr>\n",
       "    <tr>\n",
       "      <th>12409</th>\n",
       "      <td>ID_ZZQK0LU6</td>\n",
       "      <td>1.0</td>\n",
       "      <td>0.0</td>\n",
       "      <td>29.0</td>\n",
       "      <td>1.5</td>\n",
       "      <td>0.0</td>\n",
       "      <td>13.5</td>\n",
       "      <td>0.0</td>\n",
       "      <td>2.0</td>\n",
       "      <td>1.0</td>\n",
       "      <td>...</td>\n",
       "      <td>0.0</td>\n",
       "      <td>0.0</td>\n",
       "      <td>0.0</td>\n",
       "      <td>0.0</td>\n",
       "      <td>0.0</td>\n",
       "      <td>134.0</td>\n",
       "      <td>2.0</td>\n",
       "      <td>0.0</td>\n",
       "      <td>3.0</td>\n",
       "      <td>29.0</td>\n",
       "    </tr>\n",
       "    <tr>\n",
       "      <th>12410</th>\n",
       "      <td>ID_ZZUNZJ2U</td>\n",
       "      <td>0.0</td>\n",
       "      <td>0.0</td>\n",
       "      <td>0.0</td>\n",
       "      <td>-1.0</td>\n",
       "      <td>-1.0</td>\n",
       "      <td>-1.0</td>\n",
       "      <td>-1.0</td>\n",
       "      <td>-1.0</td>\n",
       "      <td>-1.0</td>\n",
       "      <td>...</td>\n",
       "      <td>0.0</td>\n",
       "      <td>0.0</td>\n",
       "      <td>0.0</td>\n",
       "      <td>0.0</td>\n",
       "      <td>0.0</td>\n",
       "      <td>12.0</td>\n",
       "      <td>1.0</td>\n",
       "      <td>0.0</td>\n",
       "      <td>0.0</td>\n",
       "      <td>30.0</td>\n",
       "    </tr>\n",
       "    <tr>\n",
       "      <th>12411</th>\n",
       "      <td>ID_ZZVM2KO7</td>\n",
       "      <td>0.0</td>\n",
       "      <td>0.0</td>\n",
       "      <td>0.0</td>\n",
       "      <td>-1.0</td>\n",
       "      <td>-1.0</td>\n",
       "      <td>-1.0</td>\n",
       "      <td>-1.0</td>\n",
       "      <td>-1.0</td>\n",
       "      <td>-1.0</td>\n",
       "      <td>...</td>\n",
       "      <td>0.0</td>\n",
       "      <td>0.0</td>\n",
       "      <td>0.0</td>\n",
       "      <td>0.0</td>\n",
       "      <td>0.0</td>\n",
       "      <td>0.0</td>\n",
       "      <td>0.0</td>\n",
       "      <td>0.0</td>\n",
       "      <td>0.0</td>\n",
       "      <td>22.0</td>\n",
       "    </tr>\n",
       "    <tr>\n",
       "      <th>12412</th>\n",
       "      <td>ID_ZZVUJ45W</td>\n",
       "      <td>1.0</td>\n",
       "      <td>0.0</td>\n",
       "      <td>5.0</td>\n",
       "      <td>1.0</td>\n",
       "      <td>7.0</td>\n",
       "      <td>4.0</td>\n",
       "      <td>1.0</td>\n",
       "      <td>1.0</td>\n",
       "      <td>0.0</td>\n",
       "      <td>...</td>\n",
       "      <td>0.0</td>\n",
       "      <td>0.0</td>\n",
       "      <td>0.0</td>\n",
       "      <td>0.0</td>\n",
       "      <td>0.0</td>\n",
       "      <td>52.0</td>\n",
       "      <td>1.0</td>\n",
       "      <td>0.0</td>\n",
       "      <td>0.0</td>\n",
       "      <td>5.0</td>\n",
       "    </tr>\n",
       "  </tbody>\n",
       "</table>\n",
       "<p>12413 rows × 45 columns</p>\n",
       "</div>"
      ],
      "text/plain": [
       "           User_ID  Participant_Type  Successful_Submission_Count  \\\n",
       "0      ID_000H9XOP               0.0                          0.0   \n",
       "1      ID_003YJHQA               0.0                          0.0   \n",
       "2      ID_004UKSJV               0.0                          0.0   \n",
       "3      ID_008D2J6C               0.0                          0.0   \n",
       "4      ID_00ETFE7J               0.0                          0.0   \n",
       "...            ...               ...                          ...   \n",
       "12408  ID_ZZMHNLNT               0.0                          0.0   \n",
       "12409  ID_ZZQK0LU6               1.0                          0.0   \n",
       "12410  ID_ZZUNZJ2U               0.0                          0.0   \n",
       "12411  ID_ZZVM2KO7               0.0                          0.0   \n",
       "12412  ID_ZZVUJ45W               1.0                          0.0   \n",
       "\n",
       "       Comp_participation_day  FeatureA  FeatureB  FeatureC  FeatureD  \\\n",
       "0                         0.0      -1.0      -1.0      -1.0      -1.0   \n",
       "1                         0.0      -1.0      -1.0      -1.0      -1.0   \n",
       "2                         0.0      -1.0      -1.0      -1.0      -1.0   \n",
       "3                         0.0      -1.0      -1.0      -1.0      -1.0   \n",
       "4                         0.0      -1.0      -1.0      -1.0      -1.0   \n",
       "...                       ...       ...       ...       ...       ...   \n",
       "12408                     0.0      -1.0      -1.0      -1.0      -1.0   \n",
       "12409                    29.0       1.5       0.0      13.5       0.0   \n",
       "12410                     0.0      -1.0      -1.0      -1.0      -1.0   \n",
       "12411                     0.0      -1.0      -1.0      -1.0      -1.0   \n",
       "12412                     5.0       1.0       7.0       4.0       1.0   \n",
       "\n",
       "       FeatureE  SecretCode  ...  Updated_Profile  blog_ID  Viewed_Discussion  \\\n",
       "0          -1.0        -1.0  ...              0.0      0.0                0.0   \n",
       "1          -1.0        -1.0  ...              2.0      0.0                0.0   \n",
       "2          -1.0        -1.0  ...              2.0      0.0                0.0   \n",
       "3          -1.0        -1.0  ...              2.0      0.0                0.0   \n",
       "4          -1.0        -1.0  ...              0.0      1.0                0.0   \n",
       "...         ...         ...  ...              ...      ...                ...   \n",
       "12408      -1.0        -1.0  ...              0.0      0.0                0.0   \n",
       "12409       2.0         1.0  ...              0.0      0.0                0.0   \n",
       "12410      -1.0        -1.0  ...              0.0      0.0                0.0   \n",
       "12411      -1.0        -1.0  ...              0.0      0.0                0.0   \n",
       "12412       1.0         0.0  ...              0.0      0.0                0.0   \n",
       "\n",
       "       Updated_Submission  badge_HYIO  count_UA  Day_duration  FeatureX  \\\n",
       "0                     0.0         0.0       6.0           5.0       0.0   \n",
       "1                     0.0         0.0      11.0           1.0       0.0   \n",
       "2                     0.0         0.0       6.0           1.5      -0.5   \n",
       "3                     0.0         0.0      10.0           9.0       0.0   \n",
       "4                     0.0         0.0      10.0          10.0       0.0   \n",
       "...                   ...         ...       ...           ...       ...   \n",
       "12408                 0.0         0.0       8.0           1.0       0.0   \n",
       "12409                 0.0         0.0     134.0           2.0       0.0   \n",
       "12410                 0.0         0.0      12.0           1.0       0.0   \n",
       "12411                 0.0         0.0       0.0           0.0       0.0   \n",
       "12412                 0.0         0.0      52.0           1.0       0.0   \n",
       "\n",
       "       FeatureY  User_sign-in_day  \n",
       "0           1.0              22.0  \n",
       "1           1.0              12.0  \n",
       "2          -0.5              14.0  \n",
       "3           0.0               7.0  \n",
       "4           0.0               6.0  \n",
       "...         ...               ...  \n",
       "12408       0.0               1.0  \n",
       "12409       3.0              29.0  \n",
       "12410       0.0              30.0  \n",
       "12411       0.0              22.0  \n",
       "12412       0.0               5.0  \n",
       "\n",
       "[12413 rows x 45 columns]"
      ]
     },
     "execution_count": 10,
     "metadata": {},
     "output_type": "execute_result"
    }
   ],
   "source": [
    "temp"
   ]
  },
  {
   "cell_type": "code",
   "execution_count": 11,
   "id": "8bab0eb7",
   "metadata": {},
   "outputs": [],
   "source": [
    "temp1 = temp.groupby"
   ]
  },
  {
   "cell_type": "markdown",
   "id": "0284ade0",
   "metadata": {},
   "source": [
    "## Test and Train Split"
   ]
  },
  {
   "cell_type": "code",
   "execution_count": 12,
   "id": "5839963f",
   "metadata": {},
   "outputs": [],
   "source": [
    "SampleSubmission = pd.read_csv(\"SampleSubmission.csv\")"
   ]
  },
  {
   "cell_type": "code",
   "execution_count": 13,
   "id": "7d6c417b",
   "metadata": {},
   "outputs": [],
   "source": [
    "SampleSubmission[\"User_ID_Next_month_Activity\"] = SampleSubmission.User_ID_Next_month_Activity.str.replace('_Month_5', '')"
   ]
  },
  {
   "cell_type": "code",
   "execution_count": 14,
   "id": "915829ff",
   "metadata": {},
   "outputs": [
    {
     "data": {
      "text/plain": [
       "1340"
      ]
     },
     "execution_count": 14,
     "metadata": {},
     "output_type": "execute_result"
    }
   ],
   "source": [
    "len(SampleSubmission[\"User_ID_Next_month_Activity\"].unique())"
   ]
  },
  {
   "cell_type": "code",
   "execution_count": 15,
   "id": "769bd50d",
   "metadata": {},
   "outputs": [],
   "source": [
    "SampleSubmission.rename(columns={'User_ID_Next_month_Activity': 'User_ID'},  inplace = True)"
   ]
  },
  {
   "cell_type": "code",
   "execution_count": 16,
   "id": "a1ee4037",
   "metadata": {},
   "outputs": [],
   "source": [
    "df_test = pd.merge(SampleSubmission, temp, on='User_ID',  how='inner')"
   ]
  },
  {
   "cell_type": "code",
   "execution_count": 17,
   "id": "a37becf9",
   "metadata": {},
   "outputs": [],
   "source": [
    "df_test.drop(\"Active\", inplace=True, axis=1)"
   ]
  },
  {
   "cell_type": "code",
   "execution_count": 18,
   "id": "015f6bea",
   "metadata": {},
   "outputs": [
    {
     "data": {
      "text/html": [
       "<div>\n",
       "<style scoped>\n",
       "    .dataframe tbody tr th:only-of-type {\n",
       "        vertical-align: middle;\n",
       "    }\n",
       "\n",
       "    .dataframe tbody tr th {\n",
       "        vertical-align: top;\n",
       "    }\n",
       "\n",
       "    .dataframe thead th {\n",
       "        text-align: right;\n",
       "    }\n",
       "</style>\n",
       "<table border=\"1\" class=\"dataframe\">\n",
       "  <thead>\n",
       "    <tr style=\"text-align: right;\">\n",
       "      <th></th>\n",
       "      <th>User_ID</th>\n",
       "      <th>Participant_Type</th>\n",
       "      <th>Successful_Submission_Count</th>\n",
       "      <th>Comp_participation_day</th>\n",
       "      <th>FeatureA</th>\n",
       "      <th>FeatureB</th>\n",
       "      <th>FeatureC</th>\n",
       "      <th>FeatureD</th>\n",
       "      <th>FeatureE</th>\n",
       "      <th>SecretCode</th>\n",
       "      <th>...</th>\n",
       "      <th>Updated_Profile</th>\n",
       "      <th>blog_ID</th>\n",
       "      <th>Viewed_Discussion</th>\n",
       "      <th>Updated_Submission</th>\n",
       "      <th>badge_HYIO</th>\n",
       "      <th>count_UA</th>\n",
       "      <th>Day_duration</th>\n",
       "      <th>FeatureX</th>\n",
       "      <th>FeatureY</th>\n",
       "      <th>User_sign-in_day</th>\n",
       "    </tr>\n",
       "  </thead>\n",
       "  <tbody>\n",
       "    <tr>\n",
       "      <th>0</th>\n",
       "      <td>ID_4TOXNBGB</td>\n",
       "      <td>0.0</td>\n",
       "      <td>0.0</td>\n",
       "      <td>0.0</td>\n",
       "      <td>-1.0</td>\n",
       "      <td>-1.0</td>\n",
       "      <td>-1.0</td>\n",
       "      <td>-1.0</td>\n",
       "      <td>-1.0</td>\n",
       "      <td>-1.0</td>\n",
       "      <td>...</td>\n",
       "      <td>0.0</td>\n",
       "      <td>0.0</td>\n",
       "      <td>0.0</td>\n",
       "      <td>0.0</td>\n",
       "      <td>0.0</td>\n",
       "      <td>0.0</td>\n",
       "      <td>0.0</td>\n",
       "      <td>0.0</td>\n",
       "      <td>3.0</td>\n",
       "      <td>24.0</td>\n",
       "    </tr>\n",
       "    <tr>\n",
       "      <th>1</th>\n",
       "      <td>ID_CHFTIP26</td>\n",
       "      <td>0.0</td>\n",
       "      <td>0.0</td>\n",
       "      <td>0.0</td>\n",
       "      <td>-1.0</td>\n",
       "      <td>-1.0</td>\n",
       "      <td>-1.0</td>\n",
       "      <td>-1.0</td>\n",
       "      <td>-1.0</td>\n",
       "      <td>-1.0</td>\n",
       "      <td>...</td>\n",
       "      <td>0.0</td>\n",
       "      <td>0.0</td>\n",
       "      <td>0.0</td>\n",
       "      <td>0.0</td>\n",
       "      <td>0.0</td>\n",
       "      <td>0.0</td>\n",
       "      <td>0.0</td>\n",
       "      <td>0.0</td>\n",
       "      <td>0.0</td>\n",
       "      <td>27.0</td>\n",
       "    </tr>\n",
       "    <tr>\n",
       "      <th>2</th>\n",
       "      <td>ID_FU5GMWLQ</td>\n",
       "      <td>0.0</td>\n",
       "      <td>0.0</td>\n",
       "      <td>0.0</td>\n",
       "      <td>-1.0</td>\n",
       "      <td>-1.0</td>\n",
       "      <td>-1.0</td>\n",
       "      <td>-1.0</td>\n",
       "      <td>-1.0</td>\n",
       "      <td>-1.0</td>\n",
       "      <td>...</td>\n",
       "      <td>0.0</td>\n",
       "      <td>0.0</td>\n",
       "      <td>0.0</td>\n",
       "      <td>0.0</td>\n",
       "      <td>0.0</td>\n",
       "      <td>10.0</td>\n",
       "      <td>1.0</td>\n",
       "      <td>0.0</td>\n",
       "      <td>1.0</td>\n",
       "      <td>13.0</td>\n",
       "    </tr>\n",
       "    <tr>\n",
       "      <th>3</th>\n",
       "      <td>ID_254TVBQP</td>\n",
       "      <td>1.0</td>\n",
       "      <td>0.0</td>\n",
       "      <td>23.0</td>\n",
       "      <td>1.0</td>\n",
       "      <td>14.0</td>\n",
       "      <td>1.0</td>\n",
       "      <td>1.0</td>\n",
       "      <td>1.0</td>\n",
       "      <td>0.0</td>\n",
       "      <td>...</td>\n",
       "      <td>0.0</td>\n",
       "      <td>0.0</td>\n",
       "      <td>0.0</td>\n",
       "      <td>0.0</td>\n",
       "      <td>0.0</td>\n",
       "      <td>0.0</td>\n",
       "      <td>0.0</td>\n",
       "      <td>0.0</td>\n",
       "      <td>0.0</td>\n",
       "      <td>23.0</td>\n",
       "    </tr>\n",
       "    <tr>\n",
       "      <th>4</th>\n",
       "      <td>ID_4ENO2VFE</td>\n",
       "      <td>0.0</td>\n",
       "      <td>0.0</td>\n",
       "      <td>0.0</td>\n",
       "      <td>-1.0</td>\n",
       "      <td>-1.0</td>\n",
       "      <td>-1.0</td>\n",
       "      <td>-1.0</td>\n",
       "      <td>-1.0</td>\n",
       "      <td>-1.0</td>\n",
       "      <td>...</td>\n",
       "      <td>0.0</td>\n",
       "      <td>0.0</td>\n",
       "      <td>0.0</td>\n",
       "      <td>0.0</td>\n",
       "      <td>0.0</td>\n",
       "      <td>5.0</td>\n",
       "      <td>1.0</td>\n",
       "      <td>0.0</td>\n",
       "      <td>1.0</td>\n",
       "      <td>19.0</td>\n",
       "    </tr>\n",
       "    <tr>\n",
       "      <th>...</th>\n",
       "      <td>...</td>\n",
       "      <td>...</td>\n",
       "      <td>...</td>\n",
       "      <td>...</td>\n",
       "      <td>...</td>\n",
       "      <td>...</td>\n",
       "      <td>...</td>\n",
       "      <td>...</td>\n",
       "      <td>...</td>\n",
       "      <td>...</td>\n",
       "      <td>...</td>\n",
       "      <td>...</td>\n",
       "      <td>...</td>\n",
       "      <td>...</td>\n",
       "      <td>...</td>\n",
       "      <td>...</td>\n",
       "      <td>...</td>\n",
       "      <td>...</td>\n",
       "      <td>...</td>\n",
       "      <td>...</td>\n",
       "      <td>...</td>\n",
       "    </tr>\n",
       "    <tr>\n",
       "      <th>1335</th>\n",
       "      <td>ID_PI8N2KJX</td>\n",
       "      <td>0.0</td>\n",
       "      <td>0.0</td>\n",
       "      <td>0.0</td>\n",
       "      <td>-1.0</td>\n",
       "      <td>-1.0</td>\n",
       "      <td>-1.0</td>\n",
       "      <td>-1.0</td>\n",
       "      <td>-1.0</td>\n",
       "      <td>-1.0</td>\n",
       "      <td>...</td>\n",
       "      <td>4.0</td>\n",
       "      <td>0.0</td>\n",
       "      <td>0.0</td>\n",
       "      <td>0.0</td>\n",
       "      <td>0.0</td>\n",
       "      <td>24.0</td>\n",
       "      <td>1.0</td>\n",
       "      <td>0.0</td>\n",
       "      <td>0.0</td>\n",
       "      <td>12.0</td>\n",
       "    </tr>\n",
       "    <tr>\n",
       "      <th>1336</th>\n",
       "      <td>ID_L9AHTUD7</td>\n",
       "      <td>0.0</td>\n",
       "      <td>0.0</td>\n",
       "      <td>0.0</td>\n",
       "      <td>-1.0</td>\n",
       "      <td>-1.0</td>\n",
       "      <td>-1.0</td>\n",
       "      <td>-1.0</td>\n",
       "      <td>-1.0</td>\n",
       "      <td>-1.0</td>\n",
       "      <td>...</td>\n",
       "      <td>1.0</td>\n",
       "      <td>0.0</td>\n",
       "      <td>0.0</td>\n",
       "      <td>0.0</td>\n",
       "      <td>0.0</td>\n",
       "      <td>19.0</td>\n",
       "      <td>8.0</td>\n",
       "      <td>0.0</td>\n",
       "      <td>0.0</td>\n",
       "      <td>13.0</td>\n",
       "    </tr>\n",
       "    <tr>\n",
       "      <th>1337</th>\n",
       "      <td>ID_BB7GLV87</td>\n",
       "      <td>0.0</td>\n",
       "      <td>0.0</td>\n",
       "      <td>0.0</td>\n",
       "      <td>-1.0</td>\n",
       "      <td>-1.0</td>\n",
       "      <td>-1.0</td>\n",
       "      <td>-1.0</td>\n",
       "      <td>-1.0</td>\n",
       "      <td>-1.0</td>\n",
       "      <td>...</td>\n",
       "      <td>0.0</td>\n",
       "      <td>0.0</td>\n",
       "      <td>0.0</td>\n",
       "      <td>0.0</td>\n",
       "      <td>0.0</td>\n",
       "      <td>5.0</td>\n",
       "      <td>1.0</td>\n",
       "      <td>0.0</td>\n",
       "      <td>0.0</td>\n",
       "      <td>15.0</td>\n",
       "    </tr>\n",
       "    <tr>\n",
       "      <th>1338</th>\n",
       "      <td>ID_WB6O1NFS</td>\n",
       "      <td>1.0</td>\n",
       "      <td>0.0</td>\n",
       "      <td>7.0</td>\n",
       "      <td>5.0</td>\n",
       "      <td>15.0</td>\n",
       "      <td>10.0</td>\n",
       "      <td>1.0</td>\n",
       "      <td>2.0</td>\n",
       "      <td>0.0</td>\n",
       "      <td>...</td>\n",
       "      <td>0.0</td>\n",
       "      <td>0.0</td>\n",
       "      <td>0.0</td>\n",
       "      <td>0.0</td>\n",
       "      <td>0.0</td>\n",
       "      <td>24.0</td>\n",
       "      <td>14.0</td>\n",
       "      <td>0.0</td>\n",
       "      <td>1.0</td>\n",
       "      <td>7.0</td>\n",
       "    </tr>\n",
       "    <tr>\n",
       "      <th>1339</th>\n",
       "      <td>ID_99LD9C1B</td>\n",
       "      <td>0.0</td>\n",
       "      <td>0.0</td>\n",
       "      <td>0.0</td>\n",
       "      <td>-1.0</td>\n",
       "      <td>-1.0</td>\n",
       "      <td>-1.0</td>\n",
       "      <td>-1.0</td>\n",
       "      <td>-1.0</td>\n",
       "      <td>-1.0</td>\n",
       "      <td>...</td>\n",
       "      <td>6.0</td>\n",
       "      <td>0.0</td>\n",
       "      <td>0.0</td>\n",
       "      <td>0.0</td>\n",
       "      <td>0.0</td>\n",
       "      <td>14.0</td>\n",
       "      <td>1.0</td>\n",
       "      <td>0.0</td>\n",
       "      <td>0.0</td>\n",
       "      <td>1.0</td>\n",
       "    </tr>\n",
       "  </tbody>\n",
       "</table>\n",
       "<p>1340 rows × 45 columns</p>\n",
       "</div>"
      ],
      "text/plain": [
       "          User_ID  Participant_Type  Successful_Submission_Count  \\\n",
       "0     ID_4TOXNBGB               0.0                          0.0   \n",
       "1     ID_CHFTIP26               0.0                          0.0   \n",
       "2     ID_FU5GMWLQ               0.0                          0.0   \n",
       "3     ID_254TVBQP               1.0                          0.0   \n",
       "4     ID_4ENO2VFE               0.0                          0.0   \n",
       "...           ...               ...                          ...   \n",
       "1335  ID_PI8N2KJX               0.0                          0.0   \n",
       "1336  ID_L9AHTUD7               0.0                          0.0   \n",
       "1337  ID_BB7GLV87               0.0                          0.0   \n",
       "1338  ID_WB6O1NFS               1.0                          0.0   \n",
       "1339  ID_99LD9C1B               0.0                          0.0   \n",
       "\n",
       "      Comp_participation_day  FeatureA  FeatureB  FeatureC  FeatureD  \\\n",
       "0                        0.0      -1.0      -1.0      -1.0      -1.0   \n",
       "1                        0.0      -1.0      -1.0      -1.0      -1.0   \n",
       "2                        0.0      -1.0      -1.0      -1.0      -1.0   \n",
       "3                       23.0       1.0      14.0       1.0       1.0   \n",
       "4                        0.0      -1.0      -1.0      -1.0      -1.0   \n",
       "...                      ...       ...       ...       ...       ...   \n",
       "1335                     0.0      -1.0      -1.0      -1.0      -1.0   \n",
       "1336                     0.0      -1.0      -1.0      -1.0      -1.0   \n",
       "1337                     0.0      -1.0      -1.0      -1.0      -1.0   \n",
       "1338                     7.0       5.0      15.0      10.0       1.0   \n",
       "1339                     0.0      -1.0      -1.0      -1.0      -1.0   \n",
       "\n",
       "      FeatureE  SecretCode  ...  Updated_Profile  blog_ID  Viewed_Discussion  \\\n",
       "0         -1.0        -1.0  ...              0.0      0.0                0.0   \n",
       "1         -1.0        -1.0  ...              0.0      0.0                0.0   \n",
       "2         -1.0        -1.0  ...              0.0      0.0                0.0   \n",
       "3          1.0         0.0  ...              0.0      0.0                0.0   \n",
       "4         -1.0        -1.0  ...              0.0      0.0                0.0   \n",
       "...        ...         ...  ...              ...      ...                ...   \n",
       "1335      -1.0        -1.0  ...              4.0      0.0                0.0   \n",
       "1336      -1.0        -1.0  ...              1.0      0.0                0.0   \n",
       "1337      -1.0        -1.0  ...              0.0      0.0                0.0   \n",
       "1338       2.0         0.0  ...              0.0      0.0                0.0   \n",
       "1339      -1.0        -1.0  ...              6.0      0.0                0.0   \n",
       "\n",
       "      Updated_Submission  badge_HYIO  count_UA  Day_duration  FeatureX  \\\n",
       "0                    0.0         0.0       0.0           0.0       0.0   \n",
       "1                    0.0         0.0       0.0           0.0       0.0   \n",
       "2                    0.0         0.0      10.0           1.0       0.0   \n",
       "3                    0.0         0.0       0.0           0.0       0.0   \n",
       "4                    0.0         0.0       5.0           1.0       0.0   \n",
       "...                  ...         ...       ...           ...       ...   \n",
       "1335                 0.0         0.0      24.0           1.0       0.0   \n",
       "1336                 0.0         0.0      19.0           8.0       0.0   \n",
       "1337                 0.0         0.0       5.0           1.0       0.0   \n",
       "1338                 0.0         0.0      24.0          14.0       0.0   \n",
       "1339                 0.0         0.0      14.0           1.0       0.0   \n",
       "\n",
       "      FeatureY  User_sign-in_day  \n",
       "0          3.0              24.0  \n",
       "1          0.0              27.0  \n",
       "2          1.0              13.0  \n",
       "3          0.0              23.0  \n",
       "4          1.0              19.0  \n",
       "...        ...               ...  \n",
       "1335       0.0              12.0  \n",
       "1336       0.0              13.0  \n",
       "1337       0.0              15.0  \n",
       "1338       1.0               7.0  \n",
       "1339       0.0               1.0  \n",
       "\n",
       "[1340 rows x 45 columns]"
      ]
     },
     "execution_count": 18,
     "metadata": {},
     "output_type": "execute_result"
    }
   ],
   "source": [
    "df_test"
   ]
  },
  {
   "cell_type": "code",
   "execution_count": 19,
   "id": "35d13551",
   "metadata": {},
   "outputs": [],
   "source": [
    "df_train = temp[~temp.User_ID.isin(df_test.User_ID)].reset_index(drop=True)"
   ]
  },
  {
   "cell_type": "code",
   "execution_count": 20,
   "id": "fa4c5bcc",
   "metadata": {},
   "outputs": [
    {
     "data": {
      "text/html": [
       "<div>\n",
       "<style scoped>\n",
       "    .dataframe tbody tr th:only-of-type {\n",
       "        vertical-align: middle;\n",
       "    }\n",
       "\n",
       "    .dataframe tbody tr th {\n",
       "        vertical-align: top;\n",
       "    }\n",
       "\n",
       "    .dataframe thead th {\n",
       "        text-align: right;\n",
       "    }\n",
       "</style>\n",
       "<table border=\"1\" class=\"dataframe\">\n",
       "  <thead>\n",
       "    <tr style=\"text-align: right;\">\n",
       "      <th></th>\n",
       "      <th>User_ID</th>\n",
       "      <th>Participant_Type</th>\n",
       "      <th>Successful_Submission_Count</th>\n",
       "      <th>Comp_participation_day</th>\n",
       "      <th>FeatureA</th>\n",
       "      <th>FeatureB</th>\n",
       "      <th>FeatureC</th>\n",
       "      <th>FeatureD</th>\n",
       "      <th>FeatureE</th>\n",
       "      <th>SecretCode</th>\n",
       "      <th>...</th>\n",
       "      <th>Updated_Profile</th>\n",
       "      <th>blog_ID</th>\n",
       "      <th>Viewed_Discussion</th>\n",
       "      <th>Updated_Submission</th>\n",
       "      <th>badge_HYIO</th>\n",
       "      <th>count_UA</th>\n",
       "      <th>Day_duration</th>\n",
       "      <th>FeatureX</th>\n",
       "      <th>FeatureY</th>\n",
       "      <th>User_sign-in_day</th>\n",
       "    </tr>\n",
       "  </thead>\n",
       "  <tbody>\n",
       "    <tr>\n",
       "      <th>0</th>\n",
       "      <td>ID_000H9XOP</td>\n",
       "      <td>0.000000</td>\n",
       "      <td>0.0</td>\n",
       "      <td>0.000000</td>\n",
       "      <td>-1.000000</td>\n",
       "      <td>-1.000000</td>\n",
       "      <td>-1.000000</td>\n",
       "      <td>-1.000000</td>\n",
       "      <td>-1.0</td>\n",
       "      <td>-1.000000</td>\n",
       "      <td>...</td>\n",
       "      <td>0.0</td>\n",
       "      <td>0.0</td>\n",
       "      <td>0.0</td>\n",
       "      <td>0.0</td>\n",
       "      <td>0.0</td>\n",
       "      <td>6.000000</td>\n",
       "      <td>5.0</td>\n",
       "      <td>0.000000</td>\n",
       "      <td>1.000000</td>\n",
       "      <td>22.000000</td>\n",
       "    </tr>\n",
       "    <tr>\n",
       "      <th>1</th>\n",
       "      <td>ID_004UKSJV</td>\n",
       "      <td>0.000000</td>\n",
       "      <td>0.0</td>\n",
       "      <td>0.000000</td>\n",
       "      <td>-1.000000</td>\n",
       "      <td>-1.000000</td>\n",
       "      <td>-1.000000</td>\n",
       "      <td>-1.000000</td>\n",
       "      <td>-1.0</td>\n",
       "      <td>-1.000000</td>\n",
       "      <td>...</td>\n",
       "      <td>2.0</td>\n",
       "      <td>0.0</td>\n",
       "      <td>0.0</td>\n",
       "      <td>0.0</td>\n",
       "      <td>0.0</td>\n",
       "      <td>6.000000</td>\n",
       "      <td>1.5</td>\n",
       "      <td>-0.500000</td>\n",
       "      <td>-0.500000</td>\n",
       "      <td>14.000000</td>\n",
       "    </tr>\n",
       "    <tr>\n",
       "      <th>2</th>\n",
       "      <td>ID_008D2J6C</td>\n",
       "      <td>0.000000</td>\n",
       "      <td>0.0</td>\n",
       "      <td>0.000000</td>\n",
       "      <td>-1.000000</td>\n",
       "      <td>-1.000000</td>\n",
       "      <td>-1.000000</td>\n",
       "      <td>-1.000000</td>\n",
       "      <td>-1.0</td>\n",
       "      <td>-1.000000</td>\n",
       "      <td>...</td>\n",
       "      <td>2.0</td>\n",
       "      <td>0.0</td>\n",
       "      <td>0.0</td>\n",
       "      <td>0.0</td>\n",
       "      <td>0.0</td>\n",
       "      <td>10.000000</td>\n",
       "      <td>9.0</td>\n",
       "      <td>0.000000</td>\n",
       "      <td>0.000000</td>\n",
       "      <td>7.000000</td>\n",
       "    </tr>\n",
       "    <tr>\n",
       "      <th>3</th>\n",
       "      <td>ID_00ETFE7J</td>\n",
       "      <td>0.000000</td>\n",
       "      <td>0.0</td>\n",
       "      <td>0.000000</td>\n",
       "      <td>-1.000000</td>\n",
       "      <td>-1.000000</td>\n",
       "      <td>-1.000000</td>\n",
       "      <td>-1.000000</td>\n",
       "      <td>-1.0</td>\n",
       "      <td>-1.000000</td>\n",
       "      <td>...</td>\n",
       "      <td>0.0</td>\n",
       "      <td>1.0</td>\n",
       "      <td>0.0</td>\n",
       "      <td>0.0</td>\n",
       "      <td>0.0</td>\n",
       "      <td>10.000000</td>\n",
       "      <td>10.0</td>\n",
       "      <td>0.000000</td>\n",
       "      <td>0.000000</td>\n",
       "      <td>6.000000</td>\n",
       "    </tr>\n",
       "    <tr>\n",
       "      <th>4</th>\n",
       "      <td>ID_00RKDLAX</td>\n",
       "      <td>0.000000</td>\n",
       "      <td>0.0</td>\n",
       "      <td>0.000000</td>\n",
       "      <td>-1.000000</td>\n",
       "      <td>-1.000000</td>\n",
       "      <td>-1.000000</td>\n",
       "      <td>-1.000000</td>\n",
       "      <td>-1.0</td>\n",
       "      <td>-1.000000</td>\n",
       "      <td>...</td>\n",
       "      <td>1.0</td>\n",
       "      <td>0.0</td>\n",
       "      <td>0.0</td>\n",
       "      <td>0.0</td>\n",
       "      <td>0.0</td>\n",
       "      <td>5.000000</td>\n",
       "      <td>1.0</td>\n",
       "      <td>-0.500000</td>\n",
       "      <td>0.000000</td>\n",
       "      <td>11.500000</td>\n",
       "    </tr>\n",
       "    <tr>\n",
       "      <th>...</th>\n",
       "      <td>...</td>\n",
       "      <td>...</td>\n",
       "      <td>...</td>\n",
       "      <td>...</td>\n",
       "      <td>...</td>\n",
       "      <td>...</td>\n",
       "      <td>...</td>\n",
       "      <td>...</td>\n",
       "      <td>...</td>\n",
       "      <td>...</td>\n",
       "      <td>...</td>\n",
       "      <td>...</td>\n",
       "      <td>...</td>\n",
       "      <td>...</td>\n",
       "      <td>...</td>\n",
       "      <td>...</td>\n",
       "      <td>...</td>\n",
       "      <td>...</td>\n",
       "      <td>...</td>\n",
       "      <td>...</td>\n",
       "      <td>...</td>\n",
       "    </tr>\n",
       "    <tr>\n",
       "      <th>11068</th>\n",
       "      <td>ID_ZZHDXC1Q</td>\n",
       "      <td>0.000000</td>\n",
       "      <td>0.0</td>\n",
       "      <td>0.000000</td>\n",
       "      <td>-1.000000</td>\n",
       "      <td>-1.000000</td>\n",
       "      <td>-1.000000</td>\n",
       "      <td>-1.000000</td>\n",
       "      <td>-1.0</td>\n",
       "      <td>-1.000000</td>\n",
       "      <td>...</td>\n",
       "      <td>0.0</td>\n",
       "      <td>0.0</td>\n",
       "      <td>0.0</td>\n",
       "      <td>0.0</td>\n",
       "      <td>0.0</td>\n",
       "      <td>8.000000</td>\n",
       "      <td>1.0</td>\n",
       "      <td>0.000000</td>\n",
       "      <td>0.000000</td>\n",
       "      <td>27.000000</td>\n",
       "    </tr>\n",
       "    <tr>\n",
       "      <th>11069</th>\n",
       "      <td>ID_ZZJKFBR5</td>\n",
       "      <td>0.333333</td>\n",
       "      <td>0.0</td>\n",
       "      <td>2.666667</td>\n",
       "      <td>-0.333333</td>\n",
       "      <td>-0.333333</td>\n",
       "      <td>3.666667</td>\n",
       "      <td>-0.333333</td>\n",
       "      <td>0.0</td>\n",
       "      <td>-0.666667</td>\n",
       "      <td>...</td>\n",
       "      <td>0.0</td>\n",
       "      <td>0.0</td>\n",
       "      <td>0.0</td>\n",
       "      <td>0.0</td>\n",
       "      <td>0.0</td>\n",
       "      <td>15.333333</td>\n",
       "      <td>2.0</td>\n",
       "      <td>-0.666667</td>\n",
       "      <td>-0.333333</td>\n",
       "      <td>2.666667</td>\n",
       "    </tr>\n",
       "    <tr>\n",
       "      <th>11070</th>\n",
       "      <td>ID_ZZQK0LU6</td>\n",
       "      <td>1.000000</td>\n",
       "      <td>0.0</td>\n",
       "      <td>29.000000</td>\n",
       "      <td>1.500000</td>\n",
       "      <td>0.000000</td>\n",
       "      <td>13.500000</td>\n",
       "      <td>0.000000</td>\n",
       "      <td>2.0</td>\n",
       "      <td>1.000000</td>\n",
       "      <td>...</td>\n",
       "      <td>0.0</td>\n",
       "      <td>0.0</td>\n",
       "      <td>0.0</td>\n",
       "      <td>0.0</td>\n",
       "      <td>0.0</td>\n",
       "      <td>134.000000</td>\n",
       "      <td>2.0</td>\n",
       "      <td>0.000000</td>\n",
       "      <td>3.000000</td>\n",
       "      <td>29.000000</td>\n",
       "    </tr>\n",
       "    <tr>\n",
       "      <th>11071</th>\n",
       "      <td>ID_ZZUNZJ2U</td>\n",
       "      <td>0.000000</td>\n",
       "      <td>0.0</td>\n",
       "      <td>0.000000</td>\n",
       "      <td>-1.000000</td>\n",
       "      <td>-1.000000</td>\n",
       "      <td>-1.000000</td>\n",
       "      <td>-1.000000</td>\n",
       "      <td>-1.0</td>\n",
       "      <td>-1.000000</td>\n",
       "      <td>...</td>\n",
       "      <td>0.0</td>\n",
       "      <td>0.0</td>\n",
       "      <td>0.0</td>\n",
       "      <td>0.0</td>\n",
       "      <td>0.0</td>\n",
       "      <td>12.000000</td>\n",
       "      <td>1.0</td>\n",
       "      <td>0.000000</td>\n",
       "      <td>0.000000</td>\n",
       "      <td>30.000000</td>\n",
       "    </tr>\n",
       "    <tr>\n",
       "      <th>11072</th>\n",
       "      <td>ID_ZZVUJ45W</td>\n",
       "      <td>1.000000</td>\n",
       "      <td>0.0</td>\n",
       "      <td>5.000000</td>\n",
       "      <td>1.000000</td>\n",
       "      <td>7.000000</td>\n",
       "      <td>4.000000</td>\n",
       "      <td>1.000000</td>\n",
       "      <td>1.0</td>\n",
       "      <td>0.000000</td>\n",
       "      <td>...</td>\n",
       "      <td>0.0</td>\n",
       "      <td>0.0</td>\n",
       "      <td>0.0</td>\n",
       "      <td>0.0</td>\n",
       "      <td>0.0</td>\n",
       "      <td>52.000000</td>\n",
       "      <td>1.0</td>\n",
       "      <td>0.000000</td>\n",
       "      <td>0.000000</td>\n",
       "      <td>5.000000</td>\n",
       "    </tr>\n",
       "  </tbody>\n",
       "</table>\n",
       "<p>11073 rows × 45 columns</p>\n",
       "</div>"
      ],
      "text/plain": [
       "           User_ID  Participant_Type  Successful_Submission_Count  \\\n",
       "0      ID_000H9XOP          0.000000                          0.0   \n",
       "1      ID_004UKSJV          0.000000                          0.0   \n",
       "2      ID_008D2J6C          0.000000                          0.0   \n",
       "3      ID_00ETFE7J          0.000000                          0.0   \n",
       "4      ID_00RKDLAX          0.000000                          0.0   \n",
       "...            ...               ...                          ...   \n",
       "11068  ID_ZZHDXC1Q          0.000000                          0.0   \n",
       "11069  ID_ZZJKFBR5          0.333333                          0.0   \n",
       "11070  ID_ZZQK0LU6          1.000000                          0.0   \n",
       "11071  ID_ZZUNZJ2U          0.000000                          0.0   \n",
       "11072  ID_ZZVUJ45W          1.000000                          0.0   \n",
       "\n",
       "       Comp_participation_day  FeatureA  FeatureB   FeatureC  FeatureD  \\\n",
       "0                    0.000000 -1.000000 -1.000000  -1.000000 -1.000000   \n",
       "1                    0.000000 -1.000000 -1.000000  -1.000000 -1.000000   \n",
       "2                    0.000000 -1.000000 -1.000000  -1.000000 -1.000000   \n",
       "3                    0.000000 -1.000000 -1.000000  -1.000000 -1.000000   \n",
       "4                    0.000000 -1.000000 -1.000000  -1.000000 -1.000000   \n",
       "...                       ...       ...       ...        ...       ...   \n",
       "11068                0.000000 -1.000000 -1.000000  -1.000000 -1.000000   \n",
       "11069                2.666667 -0.333333 -0.333333   3.666667 -0.333333   \n",
       "11070               29.000000  1.500000  0.000000  13.500000  0.000000   \n",
       "11071                0.000000 -1.000000 -1.000000  -1.000000 -1.000000   \n",
       "11072                5.000000  1.000000  7.000000   4.000000  1.000000   \n",
       "\n",
       "       FeatureE  SecretCode  ...  Updated_Profile  blog_ID  Viewed_Discussion  \\\n",
       "0          -1.0   -1.000000  ...              0.0      0.0                0.0   \n",
       "1          -1.0   -1.000000  ...              2.0      0.0                0.0   \n",
       "2          -1.0   -1.000000  ...              2.0      0.0                0.0   \n",
       "3          -1.0   -1.000000  ...              0.0      1.0                0.0   \n",
       "4          -1.0   -1.000000  ...              1.0      0.0                0.0   \n",
       "...         ...         ...  ...              ...      ...                ...   \n",
       "11068      -1.0   -1.000000  ...              0.0      0.0                0.0   \n",
       "11069       0.0   -0.666667  ...              0.0      0.0                0.0   \n",
       "11070       2.0    1.000000  ...              0.0      0.0                0.0   \n",
       "11071      -1.0   -1.000000  ...              0.0      0.0                0.0   \n",
       "11072       1.0    0.000000  ...              0.0      0.0                0.0   \n",
       "\n",
       "       Updated_Submission  badge_HYIO    count_UA  Day_duration  FeatureX  \\\n",
       "0                     0.0         0.0    6.000000           5.0  0.000000   \n",
       "1                     0.0         0.0    6.000000           1.5 -0.500000   \n",
       "2                     0.0         0.0   10.000000           9.0  0.000000   \n",
       "3                     0.0         0.0   10.000000          10.0  0.000000   \n",
       "4                     0.0         0.0    5.000000           1.0 -0.500000   \n",
       "...                   ...         ...         ...           ...       ...   \n",
       "11068                 0.0         0.0    8.000000           1.0  0.000000   \n",
       "11069                 0.0         0.0   15.333333           2.0 -0.666667   \n",
       "11070                 0.0         0.0  134.000000           2.0  0.000000   \n",
       "11071                 0.0         0.0   12.000000           1.0  0.000000   \n",
       "11072                 0.0         0.0   52.000000           1.0  0.000000   \n",
       "\n",
       "       FeatureY  User_sign-in_day  \n",
       "0      1.000000         22.000000  \n",
       "1     -0.500000         14.000000  \n",
       "2      0.000000          7.000000  \n",
       "3      0.000000          6.000000  \n",
       "4      0.000000         11.500000  \n",
       "...         ...               ...  \n",
       "11068  0.000000         27.000000  \n",
       "11069 -0.333333          2.666667  \n",
       "11070  3.000000         29.000000  \n",
       "11071  0.000000         30.000000  \n",
       "11072  0.000000          5.000000  \n",
       "\n",
       "[11073 rows x 45 columns]"
      ]
     },
     "execution_count": 20,
     "metadata": {},
     "output_type": "execute_result"
    }
   ],
   "source": [
    "df_train"
   ]
  },
  {
   "cell_type": "markdown",
   "id": "4c274d82",
   "metadata": {},
   "source": [
    "## Activity based features"
   ]
  },
  {
   "cell_type": "code",
   "execution_count": 21,
   "id": "07b65ad4",
   "metadata": {},
   "outputs": [],
   "source": [
    "df_crit = pd.read_csv(\"CriteriaData.csv\")"
   ]
  },
  {
   "cell_type": "code",
   "execution_count": 22,
   "id": "73295eb0",
   "metadata": {},
   "outputs": [],
   "source": [
    "df_crit.drop(\"Unnamed: 0\", axis = 1, inplace=True)"
   ]
  },
  {
   "cell_type": "code",
   "execution_count": 23,
   "id": "6384fe15",
   "metadata": {},
   "outputs": [
    {
     "data": {
      "text/html": [
       "<div>\n",
       "<style scoped>\n",
       "    .dataframe tbody tr th:only-of-type {\n",
       "        vertical-align: middle;\n",
       "    }\n",
       "\n",
       "    .dataframe tbody tr th {\n",
       "        vertical-align: top;\n",
       "    }\n",
       "\n",
       "    .dataframe thead th {\n",
       "        text-align: right;\n",
       "    }\n",
       "</style>\n",
       "<table border=\"1\" class=\"dataframe\">\n",
       "  <thead>\n",
       "    <tr style=\"text-align: right;\">\n",
       "      <th></th>\n",
       "      <th>User_ID</th>\n",
       "      <th>Active</th>\n",
       "    </tr>\n",
       "  </thead>\n",
       "  <tbody>\n",
       "    <tr>\n",
       "      <th>0</th>\n",
       "      <td>ID_ZZVUJ45W</td>\n",
       "      <td>0.0</td>\n",
       "    </tr>\n",
       "    <tr>\n",
       "      <th>1</th>\n",
       "      <td>ID_ZZUNZJ2U</td>\n",
       "      <td>0.0</td>\n",
       "    </tr>\n",
       "    <tr>\n",
       "      <th>2</th>\n",
       "      <td>ID_ZZQK0LU6</td>\n",
       "      <td>0.0</td>\n",
       "    </tr>\n",
       "    <tr>\n",
       "      <th>3</th>\n",
       "      <td>ID_ZZHDXC1Q</td>\n",
       "      <td>0.0</td>\n",
       "    </tr>\n",
       "    <tr>\n",
       "      <th>4</th>\n",
       "      <td>ID_ZYVA36JR</td>\n",
       "      <td>1.0</td>\n",
       "    </tr>\n",
       "    <tr>\n",
       "      <th>...</th>\n",
       "      <td>...</td>\n",
       "      <td>...</td>\n",
       "    </tr>\n",
       "    <tr>\n",
       "      <th>5231</th>\n",
       "      <td>ID_01BEG5HQ</td>\n",
       "      <td>1.0</td>\n",
       "    </tr>\n",
       "    <tr>\n",
       "      <th>5232</th>\n",
       "      <td>ID_011YM9VH</td>\n",
       "      <td>1.0</td>\n",
       "    </tr>\n",
       "    <tr>\n",
       "      <th>5233</th>\n",
       "      <td>ID_00SL0NNP</td>\n",
       "      <td>0.0</td>\n",
       "    </tr>\n",
       "    <tr>\n",
       "      <th>5234</th>\n",
       "      <td>ID_00ETFE7J</td>\n",
       "      <td>0.0</td>\n",
       "    </tr>\n",
       "    <tr>\n",
       "      <th>5235</th>\n",
       "      <td>ID_008D2J6C</td>\n",
       "      <td>0.0</td>\n",
       "    </tr>\n",
       "  </tbody>\n",
       "</table>\n",
       "<p>5236 rows × 2 columns</p>\n",
       "</div>"
      ],
      "text/plain": [
       "          User_ID  Active\n",
       "0     ID_ZZVUJ45W     0.0\n",
       "1     ID_ZZUNZJ2U     0.0\n",
       "2     ID_ZZQK0LU6     0.0\n",
       "3     ID_ZZHDXC1Q     0.0\n",
       "4     ID_ZYVA36JR     1.0\n",
       "...           ...     ...\n",
       "5231  ID_01BEG5HQ     1.0\n",
       "5232  ID_011YM9VH     1.0\n",
       "5233  ID_00SL0NNP     0.0\n",
       "5234  ID_00ETFE7J     0.0\n",
       "5235  ID_008D2J6C     0.0\n",
       "\n",
       "[5236 rows x 2 columns]"
      ]
     },
     "execution_count": 23,
     "metadata": {},
     "output_type": "execute_result"
    }
   ],
   "source": [
    "df_crit"
   ]
  },
  {
   "cell_type": "code",
   "execution_count": 24,
   "id": "1b86bac4",
   "metadata": {},
   "outputs": [],
   "source": [
    "df_train = pd.merge(df_train, df_crit, on='User_ID',  how='left').fillna(0)"
   ]
  },
  {
   "cell_type": "code",
   "execution_count": 25,
   "id": "ae929d0d",
   "metadata": {},
   "outputs": [],
   "source": [
    "test_IDs = df_test[\"User_ID\"].values"
   ]
  },
  {
   "cell_type": "code",
   "execution_count": 26,
   "id": "95614037",
   "metadata": {},
   "outputs": [
    {
     "data": {
      "text/plain": [
       "array(['ID_4TOXNBGB', 'ID_CHFTIP26', 'ID_FU5GMWLQ', ..., 'ID_BB7GLV87',\n",
       "       'ID_WB6O1NFS', 'ID_99LD9C1B'], dtype=object)"
      ]
     },
     "execution_count": 26,
     "metadata": {},
     "output_type": "execute_result"
    }
   ],
   "source": [
    "test_IDs"
   ]
  },
  {
   "cell_type": "code",
   "execution_count": 27,
   "id": "f3a52828",
   "metadata": {},
   "outputs": [],
   "source": [
    "test_IDs = test_IDs + \"_Month_5\""
   ]
  },
  {
   "cell_type": "code",
   "execution_count": 28,
   "id": "2251f273",
   "metadata": {},
   "outputs": [],
   "source": [
    "df_train.drop(\"User_ID\", inplace=True, axis=1)"
   ]
  },
  {
   "cell_type": "code",
   "execution_count": 29,
   "id": "9252cda1",
   "metadata": {},
   "outputs": [],
   "source": [
    "df_train.drop(\"badge_HYIO\", inplace=True, axis=1)"
   ]
  },
  {
   "cell_type": "code",
   "execution_count": 30,
   "id": "c3a74113",
   "metadata": {},
   "outputs": [],
   "source": [
    "df_test.drop(\"User_ID\", inplace=True, axis=1)"
   ]
  },
  {
   "cell_type": "code",
   "execution_count": 31,
   "id": "abffdc5c",
   "metadata": {},
   "outputs": [],
   "source": [
    "df_test.drop(\"badge_HYIO\", inplace=True, axis=1)"
   ]
  },
  {
   "cell_type": "code",
   "execution_count": 32,
   "id": "63567991",
   "metadata": {},
   "outputs": [],
   "source": [
    "df_train.to_csv(\"trainFinal.csv\")"
   ]
  },
  {
   "cell_type": "code",
   "execution_count": 33,
   "id": "64ff6a94",
   "metadata": {},
   "outputs": [],
   "source": [
    "df_test.to_csv(\"testFinal.csv\")"
   ]
  },
  {
   "cell_type": "markdown",
   "id": "26df535f",
   "metadata": {},
   "source": [
    "## Model Training"
   ]
  },
  {
   "cell_type": "code",
   "execution_count": 34,
   "id": "41162671",
   "metadata": {},
   "outputs": [],
   "source": [
    "from sklearn.model_selection import train_test_split\n",
    "from sklearn.metrics import accuracy_score\n",
    "from sklearn.metrics import f1_score\n",
    "import operator as op\n",
    "import time"
   ]
  },
  {
   "cell_type": "code",
   "execution_count": 35,
   "id": "9cedea73",
   "metadata": {},
   "outputs": [],
   "source": [
    "y = df_train[\"Active\"]"
   ]
  },
  {
   "cell_type": "code",
   "execution_count": 36,
   "id": "e6a9c7d8",
   "metadata": {},
   "outputs": [],
   "source": [
    "my_cols = set(df_train.columns)\n",
    "my_cols.remove('Active')\n",
    "X = df_train[my_cols]"
   ]
  },
  {
   "cell_type": "code",
   "execution_count": 37,
   "id": "38b065ac",
   "metadata": {},
   "outputs": [],
   "source": [
    "for column in X:\n",
    "    X[column] = X[column] / X[column].abs().max()"
   ]
  },
  {
   "cell_type": "code",
   "execution_count": 38,
   "id": "f043c12e",
   "metadata": {},
   "outputs": [],
   "source": [
    "X_train, X_test, y_train, y_test = train_test_split(X, y, test_size=0.2, random_state=12, shuffle=True)"
   ]
  },
  {
   "cell_type": "markdown",
   "id": "1e477438",
   "metadata": {},
   "source": [
    "## Logistic Regression"
   ]
  },
  {
   "cell_type": "code",
   "execution_count": 40,
   "id": "312b1e2c",
   "metadata": {},
   "outputs": [],
   "source": [
    "from sklearn.linear_model import LogisticRegression"
   ]
  },
  {
   "cell_type": "code",
   "execution_count": 137,
   "id": "b2fea7a1",
   "metadata": {},
   "outputs": [],
   "source": [
    "start = time.time()\n",
    "clf = LogisticRegression(random_state=0, max_iter=40).fit(X_train, y_train)\n",
    "end = time.time()"
   ]
  },
  {
   "cell_type": "code",
   "execution_count": 138,
   "id": "2c8d6ddd",
   "metadata": {},
   "outputs": [
    {
     "name": "stdout",
     "output_type": "stream",
     "text": [
      "0.08347129821777344\n"
     ]
    }
   ],
   "source": [
    "print(end - start)"
   ]
  },
  {
   "cell_type": "code",
   "execution_count": 139,
   "id": "b0c8af2f",
   "metadata": {},
   "outputs": [],
   "source": [
    "y_p = clf.predict(X_test)"
   ]
  },
  {
   "cell_type": "code",
   "execution_count": 146,
   "id": "b03e49d7",
   "metadata": {},
   "outputs": [
    {
     "name": "stdout",
     "output_type": "stream",
     "text": [
      "812\n"
     ]
    }
   ],
   "source": [
    "op.countOf(y_p, 1)"
   ]
  },
  {
   "cell_type": "code",
   "execution_count": 152,
   "id": "9667856f",
   "metadata": {},
   "outputs": [
    {
     "name": "stdout",
     "output_type": "stream",
     "text": [
      "0.9491873589164785\n"
     ]
    }
   ],
   "source": [
    "accuracy_score(y_test, y_p)"
   ]
  },
  {
   "cell_type": "code",
   "execution_count": 151,
   "id": "c444cb0a",
   "metadata": {},
   "outputs": [
    {
     "name": "stdout",
     "output_type": "stream",
     "text": [
      "0.4968525896414343\n"
     ]
    }
   ],
   "source": [
    "f1_score(y_test, y_p)"
   ]
  },
  {
   "cell_type": "code",
   "execution_count": 143,
   "id": "bb37b701",
   "metadata": {},
   "outputs": [],
   "source": [
    "y_predict = clf.predict(df_test)"
   ]
  },
  {
   "cell_type": "code",
   "execution_count": 145,
   "id": "39facffb",
   "metadata": {},
   "outputs": [
    {
     "name": "stdout",
     "output_type": "stream",
     "text": [
      "472\n"
     ]
    }
   ],
   "source": [
    "op.countOf(y_predict, 1)"
   ]
  },
  {
   "cell_type": "markdown",
   "id": "d05340eb",
   "metadata": {},
   "source": [
    "## KNN"
   ]
  },
  {
   "cell_type": "code",
   "execution_count": 64,
   "id": "cdc5847c",
   "metadata": {},
   "outputs": [],
   "source": [
    "from sklearn.neighbors import KNeighborsClassifier"
   ]
  },
  {
   "cell_type": "code",
   "execution_count": 76,
   "id": "a460cceb",
   "metadata": {},
   "outputs": [],
   "source": [
    "start = time.time()\n",
    "neigh = KNeighborsClassifier(n_neighbors=10).fit(X_train, y_train)\n",
    "end = time.time()"
   ]
  },
  {
   "cell_type": "code",
   "execution_count": 77,
   "id": "0bd0ba08",
   "metadata": {},
   "outputs": [
    {
     "name": "stdout",
     "output_type": "stream",
     "text": [
      "0.00564885139465332\n"
     ]
    }
   ],
   "source": [
    "print(end - start)"
   ]
  },
  {
   "cell_type": "code",
   "execution_count": 67,
   "id": "d07166bf",
   "metadata": {},
   "outputs": [],
   "source": [
    "y_pred = neigh.predict(X_test)"
   ]
  },
  {
   "cell_type": "code",
   "execution_count": 148,
   "id": "d30129ed",
   "metadata": {},
   "outputs": [
    {
     "name": "stdout",
     "output_type": "stream",
     "text": [
      "401\n"
     ]
    }
   ],
   "source": [
    "op.countOf(y_pred, 1)"
   ]
  },
  {
   "cell_type": "code",
   "execution_count": 69,
   "id": "bc153095",
   "metadata": {},
   "outputs": [
    {
     "data": {
      "text/plain": [
       "0.9327313769751693"
      ]
     },
     "execution_count": 69,
     "metadata": {},
     "output_type": "execute_result"
    }
   ],
   "source": [
    "accuracy_score(y_test, y_pred)"
   ]
  },
  {
   "cell_type": "code",
   "execution_count": 71,
   "id": "a17c656c",
   "metadata": {},
   "outputs": [
    {
     "data": {
      "text/plain": [
       "0.48442906574394456"
      ]
     },
     "execution_count": 71,
     "metadata": {},
     "output_type": "execute_result"
    }
   ],
   "source": [
    "f1_score(y_test, y_pred)"
   ]
  },
  {
   "cell_type": "code",
   "execution_count": 72,
   "id": "3fdae40c",
   "metadata": {},
   "outputs": [],
   "source": [
    "y_predict = neigh.predict(df_test)"
   ]
  },
  {
   "cell_type": "code",
   "execution_count": 147,
   "id": "a4a663fa",
   "metadata": {},
   "outputs": [
    {
     "name": "stdout",
     "output_type": "stream",
     "text": [
      "114\n"
     ]
    }
   ],
   "source": [
    "op.countOf(y_predict, 1)"
   ]
  },
  {
   "cell_type": "markdown",
   "id": "a8555863",
   "metadata": {},
   "source": [
    "## SVM"
   ]
  },
  {
   "cell_type": "code",
   "execution_count": 74,
   "id": "df853fde",
   "metadata": {},
   "outputs": [],
   "source": [
    "from sklearn.svm import SVC"
   ]
  },
  {
   "cell_type": "code",
   "execution_count": 78,
   "id": "149656a7",
   "metadata": {},
   "outputs": [],
   "source": [
    "start = time.time()\n",
    "clf1 = SVC(kernel='rbf', gamma='scale').fit(X_train, y_train)\n",
    "end = time.time()"
   ]
  },
  {
   "cell_type": "code",
   "execution_count": 79,
   "id": "c822116c",
   "metadata": {},
   "outputs": [
    {
     "name": "stdout",
     "output_type": "stream",
     "text": [
      "1.059035301208496\n"
     ]
    }
   ],
   "source": [
    "print(end - start)"
   ]
  },
  {
   "cell_type": "code",
   "execution_count": 80,
   "id": "2dc92d56",
   "metadata": {},
   "outputs": [],
   "source": [
    "y_pred = clf1.predict(X_test)"
   ]
  },
  {
   "cell_type": "code",
   "execution_count": 149,
   "id": "b3a96859",
   "metadata": {},
   "outputs": [
    {
     "name": "stdout",
     "output_type": "stream",
     "text": [
      "114\n"
     ]
    }
   ],
   "source": [
    "op.countOf(y_pred, 1)"
   ]
  },
  {
   "cell_type": "code",
   "execution_count": 82,
   "id": "18ed46c3",
   "metadata": {},
   "outputs": [
    {
     "data": {
      "text/plain": [
       "0.9300225733634312"
      ]
     },
     "execution_count": 82,
     "metadata": {},
     "output_type": "execute_result"
    }
   ],
   "source": [
    "accuracy_score(y_test, y_pred)"
   ]
  },
  {
   "cell_type": "code",
   "execution_count": 83,
   "id": "7c22a30b",
   "metadata": {},
   "outputs": [
    {
     "data": {
      "text/plain": [
       "0.3568464730290456"
      ]
     },
     "execution_count": 83,
     "metadata": {},
     "output_type": "execute_result"
    }
   ],
   "source": [
    "f1_score(y_test, y_pred)"
   ]
  },
  {
   "cell_type": "code",
   "execution_count": 84,
   "id": "4f1e23b9",
   "metadata": {},
   "outputs": [],
   "source": [
    "y_predict = clf1.predict(df_test)"
   ]
  },
  {
   "cell_type": "code",
   "execution_count": 150,
   "id": "4047f050",
   "metadata": {},
   "outputs": [
    {
     "name": "stdout",
     "output_type": "stream",
     "text": [
      "63\n"
     ]
    }
   ],
   "source": [
    "op.countOf(y_predict, 1)"
   ]
  },
  {
   "cell_type": "markdown",
   "id": "c8a60370",
   "metadata": {},
   "source": [
    "## Random Forest "
   ]
  },
  {
   "cell_type": "code",
   "execution_count": 49,
   "id": "f6a12658",
   "metadata": {},
   "outputs": [],
   "source": [
    "from sklearn.ensemble import RandomForestClassifier"
   ]
  },
  {
   "cell_type": "code",
   "execution_count": 50,
   "id": "cac24821",
   "metadata": {},
   "outputs": [],
   "source": [
    "clf2 = RandomForestClassifier(n_estimators=15).fit(X_train, y_train)"
   ]
  },
  {
   "cell_type": "code",
   "execution_count": 51,
   "id": "a42119d4",
   "metadata": {},
   "outputs": [],
   "source": [
    "from sklearn.model_selection import RandomizedSearchCV"
   ]
  },
  {
   "cell_type": "code",
   "execution_count": 52,
   "id": "c8cf1d56",
   "metadata": {},
   "outputs": [],
   "source": [
    "n_estimators = [int(x) for x in np.linspace(start = 80, stop = 2000, num = 10)]\n",
    "max_features = ['sqrt', 'log2']\n",
    "max_depth = [int(x) for x in np.linspace(10, 110, num = 11)]\n",
    "max_depth.append(None)\n",
    "min_samples_split = [2, 5, 10]\n",
    "min_samples_leaf = [1, 2, 4]"
   ]
  },
  {
   "cell_type": "code",
   "execution_count": 53,
   "id": "ceb0c570",
   "metadata": {},
   "outputs": [],
   "source": [
    "random_grid = {'n_estimators': n_estimators,\n",
    "               'max_features': max_features,\n",
    "               'max_depth': max_depth,\n",
    "               'min_samples_split': min_samples_split,\n",
    "               'min_samples_leaf': min_samples_leaf}"
   ]
  },
  {
   "cell_type": "code",
   "execution_count": 54,
   "id": "9dbf44ac",
   "metadata": {},
   "outputs": [],
   "source": [
    "rf_random = RandomizedSearchCV(estimator = clf2, param_distributions = random_grid, \n",
    "                               n_iter = 10, cv = 3, verbose=2, random_state=42, n_jobs = -1)"
   ]
  },
  {
   "cell_type": "code",
   "execution_count": 55,
   "id": "25ee4e50",
   "metadata": {},
   "outputs": [
    {
     "name": "stdout",
     "output_type": "stream",
     "text": [
      "Fitting 3 folds for each of 10 candidates, totalling 30 fits\n"
     ]
    },
    {
     "data": {
      "text/html": [
       "<style>#sk-container-id-1 {color: black;background-color: white;}#sk-container-id-1 pre{padding: 0;}#sk-container-id-1 div.sk-toggleable {background-color: white;}#sk-container-id-1 label.sk-toggleable__label {cursor: pointer;display: block;width: 100%;margin-bottom: 0;padding: 0.3em;box-sizing: border-box;text-align: center;}#sk-container-id-1 label.sk-toggleable__label-arrow:before {content: \"▸\";float: left;margin-right: 0.25em;color: #696969;}#sk-container-id-1 label.sk-toggleable__label-arrow:hover:before {color: black;}#sk-container-id-1 div.sk-estimator:hover label.sk-toggleable__label-arrow:before {color: black;}#sk-container-id-1 div.sk-toggleable__content {max-height: 0;max-width: 0;overflow: hidden;text-align: left;background-color: #f0f8ff;}#sk-container-id-1 div.sk-toggleable__content pre {margin: 0.2em;color: black;border-radius: 0.25em;background-color: #f0f8ff;}#sk-container-id-1 input.sk-toggleable__control:checked~div.sk-toggleable__content {max-height: 200px;max-width: 100%;overflow: auto;}#sk-container-id-1 input.sk-toggleable__control:checked~label.sk-toggleable__label-arrow:before {content: \"▾\";}#sk-container-id-1 div.sk-estimator input.sk-toggleable__control:checked~label.sk-toggleable__label {background-color: #d4ebff;}#sk-container-id-1 div.sk-label input.sk-toggleable__control:checked~label.sk-toggleable__label {background-color: #d4ebff;}#sk-container-id-1 input.sk-hidden--visually {border: 0;clip: rect(1px 1px 1px 1px);clip: rect(1px, 1px, 1px, 1px);height: 1px;margin: -1px;overflow: hidden;padding: 0;position: absolute;width: 1px;}#sk-container-id-1 div.sk-estimator {font-family: monospace;background-color: #f0f8ff;border: 1px dotted black;border-radius: 0.25em;box-sizing: border-box;margin-bottom: 0.5em;}#sk-container-id-1 div.sk-estimator:hover {background-color: #d4ebff;}#sk-container-id-1 div.sk-parallel-item::after {content: \"\";width: 100%;border-bottom: 1px solid gray;flex-grow: 1;}#sk-container-id-1 div.sk-label:hover label.sk-toggleable__label {background-color: #d4ebff;}#sk-container-id-1 div.sk-serial::before {content: \"\";position: absolute;border-left: 1px solid gray;box-sizing: border-box;top: 0;bottom: 0;left: 50%;z-index: 0;}#sk-container-id-1 div.sk-serial {display: flex;flex-direction: column;align-items: center;background-color: white;padding-right: 0.2em;padding-left: 0.2em;position: relative;}#sk-container-id-1 div.sk-item {position: relative;z-index: 1;}#sk-container-id-1 div.sk-parallel {display: flex;align-items: stretch;justify-content: center;background-color: white;position: relative;}#sk-container-id-1 div.sk-item::before, #sk-container-id-1 div.sk-parallel-item::before {content: \"\";position: absolute;border-left: 1px solid gray;box-sizing: border-box;top: 0;bottom: 0;left: 50%;z-index: -1;}#sk-container-id-1 div.sk-parallel-item {display: flex;flex-direction: column;z-index: 1;position: relative;background-color: white;}#sk-container-id-1 div.sk-parallel-item:first-child::after {align-self: flex-end;width: 50%;}#sk-container-id-1 div.sk-parallel-item:last-child::after {align-self: flex-start;width: 50%;}#sk-container-id-1 div.sk-parallel-item:only-child::after {width: 0;}#sk-container-id-1 div.sk-dashed-wrapped {border: 1px dashed gray;margin: 0 0.4em 0.5em 0.4em;box-sizing: border-box;padding-bottom: 0.4em;background-color: white;}#sk-container-id-1 div.sk-label label {font-family: monospace;font-weight: bold;display: inline-block;line-height: 1.2em;}#sk-container-id-1 div.sk-label-container {text-align: center;}#sk-container-id-1 div.sk-container {/* jupyter's `normalize.less` sets `[hidden] { display: none; }` but bootstrap.min.css set `[hidden] { display: none !important; }` so we also need the `!important` here to be able to override the default hidden behavior on the sphinx rendered scikit-learn.org. See: https://github.com/scikit-learn/scikit-learn/issues/21755 */display: inline-block !important;position: relative;}#sk-container-id-1 div.sk-text-repr-fallback {display: none;}</style><div id=\"sk-container-id-1\" class=\"sk-top-container\"><div class=\"sk-text-repr-fallback\"><pre>RandomizedSearchCV(cv=3, estimator=RandomForestClassifier(n_estimators=15),\n",
       "                   n_jobs=-1,\n",
       "                   param_distributions={&#x27;max_depth&#x27;: [10, 20, 30, 40, 50, 60,\n",
       "                                                      70, 80, 90, 100, 110,\n",
       "                                                      None],\n",
       "                                        &#x27;max_features&#x27;: [&#x27;sqrt&#x27;, &#x27;log2&#x27;],\n",
       "                                        &#x27;min_samples_leaf&#x27;: [1, 2, 4],\n",
       "                                        &#x27;min_samples_split&#x27;: [2, 5, 10],\n",
       "                                        &#x27;n_estimators&#x27;: [80, 293, 506, 720, 933,\n",
       "                                                         1146, 1360, 1573, 1786,\n",
       "                                                         2000]},\n",
       "                   random_state=42, verbose=2)</pre><b>In a Jupyter environment, please rerun this cell to show the HTML representation or trust the notebook. <br />On GitHub, the HTML representation is unable to render, please try loading this page with nbviewer.org.</b></div><div class=\"sk-container\" hidden><div class=\"sk-item sk-dashed-wrapped\"><div class=\"sk-label-container\"><div class=\"sk-label sk-toggleable\"><input class=\"sk-toggleable__control sk-hidden--visually\" id=\"sk-estimator-id-1\" type=\"checkbox\" ><label for=\"sk-estimator-id-1\" class=\"sk-toggleable__label sk-toggleable__label-arrow\">RandomizedSearchCV</label><div class=\"sk-toggleable__content\"><pre>RandomizedSearchCV(cv=3, estimator=RandomForestClassifier(n_estimators=15),\n",
       "                   n_jobs=-1,\n",
       "                   param_distributions={&#x27;max_depth&#x27;: [10, 20, 30, 40, 50, 60,\n",
       "                                                      70, 80, 90, 100, 110,\n",
       "                                                      None],\n",
       "                                        &#x27;max_features&#x27;: [&#x27;sqrt&#x27;, &#x27;log2&#x27;],\n",
       "                                        &#x27;min_samples_leaf&#x27;: [1, 2, 4],\n",
       "                                        &#x27;min_samples_split&#x27;: [2, 5, 10],\n",
       "                                        &#x27;n_estimators&#x27;: [80, 293, 506, 720, 933,\n",
       "                                                         1146, 1360, 1573, 1786,\n",
       "                                                         2000]},\n",
       "                   random_state=42, verbose=2)</pre></div></div></div><div class=\"sk-parallel\"><div class=\"sk-parallel-item\"><div class=\"sk-item\"><div class=\"sk-label-container\"><div class=\"sk-label sk-toggleable\"><input class=\"sk-toggleable__control sk-hidden--visually\" id=\"sk-estimator-id-2\" type=\"checkbox\" ><label for=\"sk-estimator-id-2\" class=\"sk-toggleable__label sk-toggleable__label-arrow\">estimator: RandomForestClassifier</label><div class=\"sk-toggleable__content\"><pre>RandomForestClassifier(n_estimators=15)</pre></div></div></div><div class=\"sk-serial\"><div class=\"sk-item\"><div class=\"sk-estimator sk-toggleable\"><input class=\"sk-toggleable__control sk-hidden--visually\" id=\"sk-estimator-id-3\" type=\"checkbox\" ><label for=\"sk-estimator-id-3\" class=\"sk-toggleable__label sk-toggleable__label-arrow\">RandomForestClassifier</label><div class=\"sk-toggleable__content\"><pre>RandomForestClassifier(n_estimators=15)</pre></div></div></div></div></div></div></div></div></div></div>"
      ],
      "text/plain": [
       "RandomizedSearchCV(cv=3, estimator=RandomForestClassifier(n_estimators=15),\n",
       "                   n_jobs=-1,\n",
       "                   param_distributions={'max_depth': [10, 20, 30, 40, 50, 60,\n",
       "                                                      70, 80, 90, 100, 110,\n",
       "                                                      None],\n",
       "                                        'max_features': ['sqrt', 'log2'],\n",
       "                                        'min_samples_leaf': [1, 2, 4],\n",
       "                                        'min_samples_split': [2, 5, 10],\n",
       "                                        'n_estimators': [80, 293, 506, 720, 933,\n",
       "                                                         1146, 1360, 1573, 1786,\n",
       "                                                         2000]},\n",
       "                   random_state=42, verbose=2)"
      ]
     },
     "execution_count": 55,
     "metadata": {},
     "output_type": "execute_result"
    }
   ],
   "source": [
    "rf_random.fit(X_train, y_train)"
   ]
  },
  {
   "cell_type": "code",
   "execution_count": 56,
   "id": "45dec924",
   "metadata": {},
   "outputs": [
    {
     "data": {
      "text/plain": [
       "{'n_estimators': 933,\n",
       " 'min_samples_split': 2,\n",
       " 'min_samples_leaf': 2,\n",
       " 'max_features': 'sqrt',\n",
       " 'max_depth': 80}"
      ]
     },
     "execution_count": 56,
     "metadata": {},
     "output_type": "execute_result"
    }
   ],
   "source": [
    "rf_random.best_params_"
   ]
  },
  {
   "cell_type": "code",
   "execution_count": 57,
   "id": "6c32c865",
   "metadata": {},
   "outputs": [],
   "source": [
    "start = time.time()\n",
    "clf2 = RandomForestClassifier(n_estimators=933, min_samples_split=2, \n",
    "                              min_samples_leaf=2, max_features='sqrt', \n",
    "                              max_depth=80).fit(X_train, y_train)\n",
    "end = time.time()"
   ]
  },
  {
   "cell_type": "code",
   "execution_count": 58,
   "id": "d8b9a57d",
   "metadata": {},
   "outputs": [],
   "source": [
    "y_p1 = clf2.predict(X_test)"
   ]
  },
  {
   "cell_type": "code",
   "execution_count": 59,
   "id": "e6babcd9",
   "metadata": {},
   "outputs": [
    {
     "data": {
      "text/plain": [
       "116"
      ]
     },
     "execution_count": 59,
     "metadata": {},
     "output_type": "execute_result"
    }
   ],
   "source": [
    "op.countOf(y_p1, 1)"
   ]
  },
  {
   "cell_type": "code",
   "execution_count": 60,
   "id": "59eea90e",
   "metadata": {},
   "outputs": [
    {
     "data": {
      "text/plain": [
       "0.9376975169300226"
      ]
     },
     "execution_count": 60,
     "metadata": {},
     "output_type": "execute_result"
    }
   ],
   "source": [
    "accuracy_score(y_test, y_p1)"
   ]
  },
  {
   "cell_type": "code",
   "execution_count": 61,
   "id": "abf5df7a",
   "metadata": {},
   "outputs": [
    {
     "data": {
      "text/plain": [
       "0.5460526315789473"
      ]
     },
     "execution_count": 61,
     "metadata": {},
     "output_type": "execute_result"
    }
   ],
   "source": [
    "f1_score(y_test, y_p1)"
   ]
  },
  {
   "cell_type": "code",
   "execution_count": 62,
   "id": "d0156428",
   "metadata": {},
   "outputs": [],
   "source": [
    "y_predict1 = clf2.predict(df_test)"
   ]
  },
  {
   "cell_type": "code",
   "execution_count": 63,
   "id": "beaebc88",
   "metadata": {},
   "outputs": [
    {
     "data": {
      "text/plain": [
       "0"
      ]
     },
     "execution_count": 63,
     "metadata": {},
     "output_type": "execute_result"
    }
   ],
   "source": [
    "op.countOf(y_predict1, 1)"
   ]
  },
  {
   "cell_type": "markdown",
   "id": "05f71d5e",
   "metadata": {},
   "source": [
    "## Submission"
   ]
  },
  {
   "cell_type": "code",
   "execution_count": 69,
   "id": "766873cd",
   "metadata": {},
   "outputs": [],
   "source": [
    "df_sub = pd.DataFrame()"
   ]
  },
  {
   "cell_type": "code",
   "execution_count": 70,
   "id": "292a1c2a",
   "metadata": {},
   "outputs": [],
   "source": [
    "df_sub[\"User_ID_Next_month_Activity\"] = test_IDs"
   ]
  },
  {
   "cell_type": "code",
   "execution_count": 71,
   "id": "ca4ba3b9",
   "metadata": {},
   "outputs": [],
   "source": [
    "df_sub[\"Active\"] = y_predict"
   ]
  },
  {
   "cell_type": "code",
   "execution_count": 72,
   "id": "9829904f",
   "metadata": {},
   "outputs": [],
   "source": [
    "sample = pd.read_csv(\"sample.csv\")"
   ]
  },
  {
   "cell_type": "code",
   "execution_count": 73,
   "id": "a109d0c8",
   "metadata": {},
   "outputs": [
    {
     "data": {
      "text/html": [
       "<div>\n",
       "<style scoped>\n",
       "    .dataframe tbody tr th:only-of-type {\n",
       "        vertical-align: middle;\n",
       "    }\n",
       "\n",
       "    .dataframe tbody tr th {\n",
       "        vertical-align: top;\n",
       "    }\n",
       "\n",
       "    .dataframe thead th {\n",
       "        text-align: right;\n",
       "    }\n",
       "</style>\n",
       "<table border=\"1\" class=\"dataframe\">\n",
       "  <thead>\n",
       "    <tr style=\"text-align: right;\">\n",
       "      <th></th>\n",
       "      <th>User_ID_Next_month_Activity</th>\n",
       "      <th>Active</th>\n",
       "    </tr>\n",
       "  </thead>\n",
       "  <tbody>\n",
       "    <tr>\n",
       "      <th>0</th>\n",
       "      <td>ID_4TOXNBGB_Month_5</td>\n",
       "      <td>0.0</td>\n",
       "    </tr>\n",
       "    <tr>\n",
       "      <th>1</th>\n",
       "      <td>ID_CHFTIP26_Month_5</td>\n",
       "      <td>0.0</td>\n",
       "    </tr>\n",
       "    <tr>\n",
       "      <th>2</th>\n",
       "      <td>ID_FU5GMWLQ_Month_5</td>\n",
       "      <td>0.0</td>\n",
       "    </tr>\n",
       "    <tr>\n",
       "      <th>3</th>\n",
       "      <td>ID_254TVBQP_Month_5</td>\n",
       "      <td>0.0</td>\n",
       "    </tr>\n",
       "    <tr>\n",
       "      <th>4</th>\n",
       "      <td>ID_4ENO2VFE_Month_5</td>\n",
       "      <td>0.0</td>\n",
       "    </tr>\n",
       "    <tr>\n",
       "      <th>...</th>\n",
       "      <td>...</td>\n",
       "      <td>...</td>\n",
       "    </tr>\n",
       "    <tr>\n",
       "      <th>1335</th>\n",
       "      <td>ID_PI8N2KJX_Month_5</td>\n",
       "      <td>0.0</td>\n",
       "    </tr>\n",
       "    <tr>\n",
       "      <th>1336</th>\n",
       "      <td>ID_L9AHTUD7_Month_5</td>\n",
       "      <td>0.0</td>\n",
       "    </tr>\n",
       "    <tr>\n",
       "      <th>1337</th>\n",
       "      <td>ID_BB7GLV87_Month_5</td>\n",
       "      <td>0.0</td>\n",
       "    </tr>\n",
       "    <tr>\n",
       "      <th>1338</th>\n",
       "      <td>ID_WB6O1NFS_Month_5</td>\n",
       "      <td>1.0</td>\n",
       "    </tr>\n",
       "    <tr>\n",
       "      <th>1339</th>\n",
       "      <td>ID_99LD9C1B_Month_5</td>\n",
       "      <td>0.0</td>\n",
       "    </tr>\n",
       "  </tbody>\n",
       "</table>\n",
       "<p>1340 rows × 2 columns</p>\n",
       "</div>"
      ],
      "text/plain": [
       "     User_ID_Next_month_Activity  Active\n",
       "0            ID_4TOXNBGB_Month_5     0.0\n",
       "1            ID_CHFTIP26_Month_5     0.0\n",
       "2            ID_FU5GMWLQ_Month_5     0.0\n",
       "3            ID_254TVBQP_Month_5     0.0\n",
       "4            ID_4ENO2VFE_Month_5     0.0\n",
       "...                          ...     ...\n",
       "1335         ID_PI8N2KJX_Month_5     0.0\n",
       "1336         ID_L9AHTUD7_Month_5     0.0\n",
       "1337         ID_BB7GLV87_Month_5     0.0\n",
       "1338         ID_WB6O1NFS_Month_5     1.0\n",
       "1339         ID_99LD9C1B_Month_5     0.0\n",
       "\n",
       "[1340 rows x 2 columns]"
      ]
     },
     "execution_count": 73,
     "metadata": {},
     "output_type": "execute_result"
    }
   ],
   "source": [
    "sample"
   ]
  },
  {
   "cell_type": "code",
   "execution_count": 74,
   "id": "818d4f9c",
   "metadata": {},
   "outputs": [],
   "source": [
    "df_sub = pd.merge(sample, df_sub, on=\"User_ID_Next_month_Activity\", how=\"inner\")"
   ]
  },
  {
   "cell_type": "code",
   "execution_count": 82,
   "id": "ae7ab69a",
   "metadata": {},
   "outputs": [
    {
     "data": {
      "text/html": [
       "<div>\n",
       "<style scoped>\n",
       "    .dataframe tbody tr th:only-of-type {\n",
       "        vertical-align: middle;\n",
       "    }\n",
       "\n",
       "    .dataframe tbody tr th {\n",
       "        vertical-align: top;\n",
       "    }\n",
       "\n",
       "    .dataframe thead th {\n",
       "        text-align: right;\n",
       "    }\n",
       "</style>\n",
       "<table border=\"1\" class=\"dataframe\">\n",
       "  <thead>\n",
       "    <tr style=\"text-align: right;\">\n",
       "      <th></th>\n",
       "      <th>User_ID_Next_month_Activity</th>\n",
       "      <th>Active</th>\n",
       "    </tr>\n",
       "  </thead>\n",
       "  <tbody>\n",
       "    <tr>\n",
       "      <th>0</th>\n",
       "      <td>ID_4TOXNBGB_Month_5</td>\n",
       "      <td>0</td>\n",
       "    </tr>\n",
       "    <tr>\n",
       "      <th>1</th>\n",
       "      <td>ID_CHFTIP26_Month_5</td>\n",
       "      <td>0</td>\n",
       "    </tr>\n",
       "    <tr>\n",
       "      <th>2</th>\n",
       "      <td>ID_FU5GMWLQ_Month_5</td>\n",
       "      <td>0</td>\n",
       "    </tr>\n",
       "    <tr>\n",
       "      <th>3</th>\n",
       "      <td>ID_254TVBQP_Month_5</td>\n",
       "      <td>1</td>\n",
       "    </tr>\n",
       "    <tr>\n",
       "      <th>4</th>\n",
       "      <td>ID_4ENO2VFE_Month_5</td>\n",
       "      <td>0</td>\n",
       "    </tr>\n",
       "    <tr>\n",
       "      <th>...</th>\n",
       "      <td>...</td>\n",
       "      <td>...</td>\n",
       "    </tr>\n",
       "    <tr>\n",
       "      <th>1335</th>\n",
       "      <td>ID_PI8N2KJX_Month_5</td>\n",
       "      <td>1</td>\n",
       "    </tr>\n",
       "    <tr>\n",
       "      <th>1336</th>\n",
       "      <td>ID_L9AHTUD7_Month_5</td>\n",
       "      <td>0</td>\n",
       "    </tr>\n",
       "    <tr>\n",
       "      <th>1337</th>\n",
       "      <td>ID_BB7GLV87_Month_5</td>\n",
       "      <td>0</td>\n",
       "    </tr>\n",
       "    <tr>\n",
       "      <th>1338</th>\n",
       "      <td>ID_WB6O1NFS_Month_5</td>\n",
       "      <td>1</td>\n",
       "    </tr>\n",
       "    <tr>\n",
       "      <th>1339</th>\n",
       "      <td>ID_99LD9C1B_Month_5</td>\n",
       "      <td>0</td>\n",
       "    </tr>\n",
       "  </tbody>\n",
       "</table>\n",
       "<p>1340 rows × 2 columns</p>\n",
       "</div>"
      ],
      "text/plain": [
       "     User_ID_Next_month_Activity  Active\n",
       "0            ID_4TOXNBGB_Month_5       0\n",
       "1            ID_CHFTIP26_Month_5       0\n",
       "2            ID_FU5GMWLQ_Month_5       0\n",
       "3            ID_254TVBQP_Month_5       1\n",
       "4            ID_4ENO2VFE_Month_5       0\n",
       "...                          ...     ...\n",
       "1335         ID_PI8N2KJX_Month_5       1\n",
       "1336         ID_L9AHTUD7_Month_5       0\n",
       "1337         ID_BB7GLV87_Month_5       0\n",
       "1338         ID_WB6O1NFS_Month_5       1\n",
       "1339         ID_99LD9C1B_Month_5       0\n",
       "\n",
       "[1340 rows x 2 columns]"
      ]
     },
     "execution_count": 82,
     "metadata": {},
     "output_type": "execute_result"
    }
   ],
   "source": [
    "df_sub"
   ]
  },
  {
   "cell_type": "code",
   "execution_count": 83,
   "id": "62d426c0",
   "metadata": {},
   "outputs": [],
   "source": [
    "df_sub.to_csv('submission3.csv', index=False)"
   ]
  }
 ],
 "metadata": {
  "kernelspec": {
   "display_name": "Python 3 (ipykernel)",
   "language": "python",
   "name": "python3"
  },
  "language_info": {
   "codemirror_mode": {
    "name": "ipython",
    "version": 3
   },
   "file_extension": ".py",
   "mimetype": "text/x-python",
   "name": "python",
   "nbconvert_exporter": "python",
   "pygments_lexer": "ipython3",
   "version": "3.9.7"
  }
 },
 "nbformat": 4,
 "nbformat_minor": 5
}
